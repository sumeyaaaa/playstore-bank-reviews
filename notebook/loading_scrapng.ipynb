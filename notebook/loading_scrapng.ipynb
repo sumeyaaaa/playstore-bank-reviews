{
 "cells": [
  {
   "cell_type": "code",
   "execution_count": 11,
   "id": "57f57bf3",
   "metadata": {},
   "outputs": [],
   "source": [
    "import sys\n",
    "import os\n",
    "\n",
    "\n",
    "\n",
    "# Go two levels up: from 'notebooks/task1/' to the project root\n",
    "sys.path.append(os.path.abspath(os.path.join( '..')))"
   ]
  },
  {
   "cell_type": "code",
   "execution_count": 16,
   "id": "3c063c74",
   "metadata": {},
   "outputs": [
    {
     "name": "stdout",
     "output_type": "stream",
     "text": [
      "Fetching 4000 reviews for CBE (com.combanketh.mobilebanking) in en...\n",
      "Fetching 4000 reviews for BOA (com.boa.boaMobileBanking) in en...\n",
      "Fetching 4000 reviews for Dashen (com.dashen.dashensuperapp) in en...\n"
     ]
    }
   ],
   "source": [
    "from src.scraping import fetch_bank_reviews,is_mostly_garbage\n",
    "bank_apps = {\n",
    "    'CBE': 'com.combanketh.mobilebanking',\n",
    "    'BOA': 'com.boa.boaMobileBanking',\n",
    "    'Dashen': 'com.dashen.dashensuperapp'\n",
    "}\n",
    "languages = ['en']\n",
    "\n",
    "df = fetch_bank_reviews(bank_apps, languages, country='et', count=4000)\n",
    "df.to_csv(r'C:\\Users\\ABC\\Desktop\\10Acadamy\\week 2\\playstore-bank-reviews\\data\\bank_reviews_all_languages.csv', index=False, encoding='utf-8')\n",
    "\n"
   ]
  },
  {
   "cell_type": "code",
   "execution_count": 17,
   "id": "9ba24212",
   "metadata": {},
   "outputs": [
    {
     "name": "stdout",
     "output_type": "stream",
     "text": [
      "bank\n",
      "BOA        889\n",
      "CBE       2900\n",
      "Dashen     407\n",
      "dtype: int64\n"
     ]
    }
   ],
   "source": [
    "review_counts = df.groupby('bank').size()\n",
    "print(review_counts)"
   ]
  },
  {
   "cell_type": "code",
   "execution_count": 18,
   "id": "df449fda",
   "metadata": {},
   "outputs": [],
   "source": [
    "\n",
    "\n",
    "df = df[~df['review'].apply(is_mostly_garbage)]\n",
    "# Remove unknown language, very short, or mostly garbage reviews\n",
    "df = df[df['detected_language'].isin(['en', 'am'])]\n",
    "df = df[df['review'].str.len() > 2]\n",
    "df = df[~df['review'].apply(is_mostly_garbage)]\n",
    "\n"
   ]
  },
  {
   "cell_type": "code",
   "execution_count": 20,
   "id": "e46b5266",
   "metadata": {},
   "outputs": [
    {
     "name": "stdout",
     "output_type": "stream",
     "text": [
      "bank\n",
      "BOA        638\n",
      "CBE       1889\n",
      "Dashen     312\n",
      "dtype: int64\n"
     ]
    }
   ],
   "source": [
    "review_counts = df.groupby('bank').size()\n",
    "print(review_counts)"
   ]
  },
  {
   "cell_type": "code",
   "execution_count": 21,
   "id": "9269bb37",
   "metadata": {},
   "outputs": [],
   "source": [
    "df.to_csv(r'C:\\Users\\ABC\\Desktop\\10Acadamy\\week 2\\playstore-bank-reviews\\data\\bank_reviews_all_clean.csv', index=False)"
   ]
  }
 ],
 "metadata": {
  "kernelspec": {
   "display_name": "venv",
   "language": "python",
   "name": "python3"
  },
  "language_info": {
   "codemirror_mode": {
    "name": "ipython",
    "version": 3
   },
   "file_extension": ".py",
   "mimetype": "text/x-python",
   "name": "python",
   "nbconvert_exporter": "python",
   "pygments_lexer": "ipython3",
   "version": "3.13.2"
  }
 },
 "nbformat": 4,
 "nbformat_minor": 5
}
