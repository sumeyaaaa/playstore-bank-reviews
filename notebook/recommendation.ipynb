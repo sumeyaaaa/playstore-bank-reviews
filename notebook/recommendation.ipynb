{
 "cells": [
  {
   "cell_type": "code",
   "execution_count": 1,
   "id": "ab6a4f03",
   "metadata": {},
   "outputs": [],
   "source": [
    "import sys\n",
    "import os\n",
    "\n",
    "\n",
    "\n",
    "# Go two levels up: from 'notebooks/task1/' to the project root\n",
    "sys.path.append(os.path.abspath(os.path.join( '..')))"
   ]
  },
  {
   "cell_type": "code",
   "execution_count": 2,
   "id": "558e72e0",
   "metadata": {},
   "outputs": [],
   "source": [
    "import pandas as pd\n",
    "df = pd.read_csv(r'C:\\Users\\ABC\\Desktop\\10Acadamy\\week 2\\playstore-bank-reviews\\data\\reviews_sentiment_comparison.csv') "
   ]
  },
  {
   "cell_type": "code",
   "execution_count": 3,
   "id": "90fdbad0",
   "metadata": {},
   "outputs": [
    {
     "name": "stdout",
     "output_type": "stream",
     "text": [
      "Bank: CBE, Sentiment: POSITIVE, Top Keywords: ['app', 'good', 'best', 'easy', 'nice', 'use', 'fast', 'application', 'cbe', 'great', 'bank', 'like', 'banking', 'simple', 'service']\n",
      "Bank: CBE, Sentiment: NEGATIVE, Top Keywords: ['app', 'update', 'working', 'good', 'work', 'transaction', 'bank', 'doesn', 'use', 'account', 'time', 'money', 'application', 'cbe', 'fix']\n",
      "Bank: BOA, Sentiment: POSITIVE, Top Keywords: ['app', 'good', 'great', 'best', 'bank', 'nice', 'boa', 'easy', 'like', 'fast', 'application', 'service', 'thank', 'banking', 'use']\n",
      "Bank: BOA, Sentiment: NEGATIVE, Top Keywords: ['app', 'work', 'working', 'worst', 'bank', 'banking', 'mobile', 'doesn', 'update', 'use', 'fix', 'time', 'boa', 'application', 'slow']\n",
      "Bank: Dashen, Sentiment: POSITIVE, Top Keywords: ['app', 'dashen', 'best', 'bank', 'super', 'easy', 'banking', 'use', 'fast', 'good', 'amazing', 'step', 'features', 'application', 'user']\n",
      "Bank: Dashen, Sentiment: NEGATIVE, Top Keywords: ['app', 'good', 'slow', 'bank', 'dashen', 'working', 'transaction', 'banking', 'use', 'work', 'speed', 'does', 'super', 'account', 'worst']\n"
     ]
    }
   ],
   "source": [
    "from src.further_topic_extraction import get_theme_keywords,print_theme_keywords,print_sentiment_samples_by_bank, count_multiple_theme_occurrences\n",
    "theme_dict = get_theme_keywords(df)\n",
    "print_theme_keywords(theme_dict)"
   ]
  },
  {
   "cell_type": "code",
   "execution_count": 4,
   "id": "d23ca763",
   "metadata": {},
   "outputs": [
    {
     "name": "stdout",
     "output_type": "stream",
     "text": [
      "\n",
      "========== Bank: CBE ==========\n",
      "\n",
      "--- POSITIVE REVIEWS ---\n",
      "1. I'm always using the Apps safely.Thanks.\n",
      "2. Very nice and fast app\n",
      "3. very very nice aplication\n",
      "4. Please include full Bank statement access through this app\n",
      "5. Good job, try your best. You can do anything you need.\n",
      "6. It is good but not fast\n",
      "7. This App The Best One\n",
      "8. I like this application and It's very useful\n",
      "9. Very good thank you\n",
      "10. Simple and secure app\n",
      "\n",
      "--- NEGATIVE REVIEWS ---\n",
      "1. The worst app ever made! I transfered money to abyssinia bank account, deducted the money from my cbe account but never made it through to my abyssinia account! I hate this app and bank! Idk why they are making me wait a whole week to return my money! Even there call center 951 doesn't work! Shame!\n",
      "2. Yesterday, system hackers have taken money out of my CBE account due to problems related with the CBE BIRR SMS and internet banking systems.You must further increase security of the system.I am willing to give further details if necessary. System hackers have unlocked the programning of cash transfer, I understood.\n",
      "3. It's very Simple and useful for customer and also easier from other options of this Bank but its hard sometimes when the net work is bussy and inquiry some add update from the Branch technical stuff when you want this application for critical case the application was inquiring you un wanted update\n",
      "4. Totally dissatisfied\n",
      "5. It lags before showing the transaction and you have to use the one in the sms message , why doesn't it work on the app it just says loading\n",
      "6. This app makes me upset. When they update the app they are updating bug not the functionality of the system.\n",
      "7. Why I go to the nearest bank to be activated! It must be fully automated like telebirr and Mpessa!\n",
      "8. Why not allowed to pay for fuel?\n",
      "9. The worst update seen in the bank industry for mobile banking. If you're unable to make it smooth and reliable at the same time , return it to previous version. It shows that you don't have the best expertise like other banks in the country.\n",
      "10. Commission paid 5 birr that alot even if I didn't do any transactions they still cut 5 birr soon I will run out money because of this o regret using this. I'm student I don't make money they have to consider what they doing not just that after first time using it they will take/cut 50 birr for fee that unreasonable. DONT USE THIS APP !!!!!!!!!!!!!!!!!!!!!!!!!!!!!!!!!!!!!!!!!!!!!!!!!!!!!!!!!!!!!!!!!!!!!!!!!!!!!!!!!! I HAVE SCREENSHOT FOR EVIDENCE DONT REPLY ME THIS IS accusations\n",
      "\n",
      "========== Bank: BOA ==========\n",
      "\n",
      "--- POSITIVE REVIEWS ---\n",
      "1. General, when I considered from other banks, this bank is unique\n",
      "2. best banking app in the wworld\n",
      "3. It's a quiet good and smoothly accessible app which allows users to transfer , Airtime Top-up, ATM withdrawal and Utilities payments.\n",
      "4. Good service\n",
      "5. Very good app\n",
      "6. Very Interesting\n",
      "7. Smart technology\n",
      "8. Thank you BoA\n",
      "9. Pic new\n",
      "10. Great always great!!!\n",
      "\n",
      "--- NEGATIVE REVIEWS ---\n",
      "1. This is not functional at all, it takes forever to make a transaction,please improve it.\n",
      "2. Despite the enhanced technology you have, the application doesn't work properly, and it asks for the developer option to be turned off, fix that.\n",
      "3. I’m giving this app one star because there are no options below that. My experience has been incredibly frustrating due to the extremely long loading times, and the app even closes automatically at times. People choose mobile banking for its convenience, but this app is far too time-consuming, making it the worst I’ve used. I hope improvements are made to enhance the user experience.\n",
      "4. Ultimately, the worst mobile banking experience ever left me feeling exasperated and disillusioned.Its a nightmare\n",
      "5. Very unprofessional and mischievous bank in my opinion. I have had several occasions but recently I used Abyssinia Card to withdraw money and it was deducted from my account but despite reporting several times they said they are processing it but I learned yesterday that since it has been 3 months the bank has decided to include it in their income. How absurd. If you can avoid this bank.\n",
      "6. It doesn't work anymore\n",
      "7. Worst App it ain't allowing yo activate not even in the nearest branch are able to activate it. I have been client of the bank for 10years. What is this BoA? As we know it being a leading in simplifying banking service this App needs to be fixed. Then we will give it better rate,\n",
      "8. Poor mobile banking alwayes not working alwayes\n",
      "9. A total disaster of an app. Always offline, never works, it's embarassing. I've lost hope and taken my business to a competitor\n",
      "10. I Don't Like It Once U Open It's open did Not Ask U The Pin when u get back Not Safty the Old Version Is More Secured\n",
      "\n",
      "========== Bank: Dashen ==========\n",
      "\n",
      "--- POSITIVE REVIEWS ---\n",
      "1. Best UI mobile banking app, props to design team\n",
      "2. very useful App\n",
      "3. The Dashen Super App delivers a remarkably fast, highly secure, and exceptionally user-friendly experience, establishing it as a leading application in its category.keep it up and stay ahead Dashen Bank.\n",
      "4. Proud to be dashen family . Shout out to the serial entrepreneur 👏\n",
      "5. App That makes Difference!\n",
      "6. This app is literally the best thing ever The chat banking is so easy just text and it’s done Super smooth, fast, and honestly a life saverIf you haven’t downloaded it yet you’re missing out big time\n",
      "7. all of dashen bank customers use the application it is good to use\n",
      "8. Nice App\n",
      "9. The best of best is now arrived **Empowering Your Financial Freedom** \"Experience seamless banking at your fingertips with Dashen Bank. Empowering your financial freedom, anytime, anywhere!\" **Innovation Meets Convenience** \"Dashen Bank Mobile Banking: Where innovation meets convenience. **Secure and Reliable** \"Bank with confidence\n",
      "10. After i download the app recently had a smooth expriance, its user friendly, fast, and everything works as expected. keep up the good work.\n",
      "\n",
      "--- NEGATIVE REVIEWS ---\n",
      "1. I have been using the Dashen Supper app mobile banking app , and overall, I appreciate its features.However,I’ve noticed that when I turn on the developer options on my device, the app stops functioning properly. It would be great if you could look into this issue, as I often need to access developer settings for other applications . Thank you for your attention to this matter!\n",
      "2. this app better than Amole . but the biometric on new update doesn't work\n",
      "3. The app is good but it has no USSD option\n",
      "4. it is good but some times says duplicate transaction why?\n",
      "5. It has good feature. But, it is Very Slow! difficult to pay or receive. The Speed should be improved, else I didn't recommend.\n",
      "6. All in One ✍️secure ✍️reliable ✍️convenient. Digital banking game changer!!\n",
      "7. Dashen bank app is very good, but sometimes it is not working well\n",
      "8. slow cumbersome\n",
      "9. it's Be Come Busy &not working good\n",
      "10. nice app especially GUI and I have got some error when you send within dashen bank the receipter is not get SMS notification\n"
     ]
    }
   ],
   "source": [
    "# Example usage:\n",
    "print_sentiment_samples_by_bank(df, bank_col='bank', review_col='review',sentiment_col='distilbert_sentiment', n=10)\n"
   ]
  },
  {
   "cell_type": "markdown",
   "id": "4ffc8a05",
   "metadata": {},
   "source": [
    "## Sample Insight Write-up (with Evidence)\n",
    "\n",
    "### CBE\n",
    "\n",
    "**Top drivers:**\n",
    "- “easy”, “fast”, “simple” and “good” are among the most frequent positive words (e.g., “easy” in top 4).\n",
    "- Indicates users find the app simple and efficient for banking needs.\n",
    "\n",
    "**Pain points:**\n",
    "- “update”, “working”, “fix”, and “transaction” frequently appear in negative reviews.\n",
    "- **Evidence:** “update” is the 2nd most common negative word, suggesting app updates cause issues or dissatisfaction.\n",
    "\n",
    "---\n",
    "\n",
    "### BOA\n",
    "\n",
    "**Top drivers:**\n",
    "- “good”, “easy”, “fast”, “great”, “nice”, “thank”—positive customer sentiment is centered on ease of use and speed.\n",
    "\n",
    "**Pain points:**\n",
    "- “work”, “working”, “worst”, “doesn’t”, “update”, “fix”, “slow”.\n",
    "- **Evidence:** “work” and “slow” indicate performance problems are a major user frustration.\n",
    "\n",
    "---\n",
    "\n",
    "### Dashen\n",
    "\n",
    "**Top drivers:**\n",
    "- “easy”, “super”, “fast”, “features”, “amazing”, “user”.\n",
    "- Customers highlight advanced features and ease of use as key strengths.\n",
    "\n",
    "**Pain points:**\n",
    "- “slow”, “working”, “transaction”, “speed”, “worst”, “account”.\n",
    "- **Evidence:** “slow” is a highly cited pain point, pointing to lag/performance issues.\n",
    "\n"
   ]
  },
  {
   "cell_type": "code",
   "execution_count": 5,
   "id": "b733e9b8",
   "metadata": {},
   "outputs": [
    {
     "name": "stdout",
     "output_type": "stream",
     "text": [
      "      bank sentiment        theme  count\n",
      "0      CBE  POSITIVE        crash      1\n",
      "1      CBE  NEGATIVE        crash      4\n",
      "2      BOA  POSITIVE        crash      0\n",
      "3      BOA  NEGATIVE        crash      8\n",
      "4   Dashen  POSITIVE        crash      0\n",
      "5   Dashen  NEGATIVE        crash      0\n",
      "6      CBE  POSITIVE        login      0\n",
      "7      CBE  NEGATIVE        login      3\n",
      "8      BOA  POSITIVE        login      1\n",
      "9      BOA  NEGATIVE        login     21\n",
      "10  Dashen  POSITIVE        login      2\n",
      "11  Dashen  NEGATIVE        login      1\n",
      "12     CBE  POSITIVE  transaction     26\n",
      "13     CBE  NEGATIVE  transaction    101\n",
      "14     BOA  POSITIVE  transaction      0\n",
      "15     BOA  NEGATIVE  transaction     18\n",
      "16  Dashen  POSITIVE  transaction      7\n",
      "17  Dashen  NEGATIVE  transaction      8\n",
      "18     CBE  POSITIVE         slow      1\n",
      "19     CBE  NEGATIVE         slow     11\n",
      "20     BOA  POSITIVE         slow      2\n",
      "21     BOA  NEGATIVE         slow     25\n",
      "22  Dashen  POSITIVE         slow      0\n",
      "23  Dashen  NEGATIVE         slow     10\n",
      "24     CBE  POSITIVE       update     21\n",
      "25     CBE  NEGATIVE       update    109\n",
      "26     BOA  POSITIVE       update      4\n",
      "27     BOA  NEGATIVE       update     50\n",
      "28  Dashen  POSITIVE       update      2\n",
      "29  Dashen  NEGATIVE       update      2\n"
     ]
    }
   ],
   "source": [
    "theme_list = ['crash', 'login', 'transaction', 'slow', 'update']\n",
    "theme_counts_df = count_multiple_theme_occurrences(df, themes=theme_list)\n",
    "print(theme_counts_df)\n"
   ]
  },
  {
   "cell_type": "code",
   "execution_count": 6,
   "id": "0869ab81",
   "metadata": {},
   "outputs": [
    {
     "data": {
      "application/vnd.plotly.v1+json": {
       "config": {
        "plotlyServerURL": "https://plot.ly"
       },
       "data": [
        {
         "alignmentgroup": "True",
         "hovertemplate": "Sentiment=NEGATIVE<br>Theme=%{x}<br>Number of Mentions=%{y}<extra></extra>",
         "legendgroup": "NEGATIVE",
         "marker": {
          "color": "#636efa",
          "pattern": {
           "shape": ""
          }
         },
         "name": "NEGATIVE",
         "offsetgroup": "NEGATIVE",
         "orientation": "v",
         "showlegend": true,
         "textposition": "auto",
         "type": "bar",
         "x": [
          "crash",
          "login",
          "transaction",
          "slow",
          "update"
         ],
         "xaxis": "x",
         "y": {
          "bdata": "BANlC20=",
          "dtype": "i1"
         },
         "yaxis": "y"
        },
        {
         "alignmentgroup": "True",
         "hovertemplate": "Sentiment=POSITIVE<br>Theme=%{x}<br>Number of Mentions=%{y}<extra></extra>",
         "legendgroup": "POSITIVE",
         "marker": {
          "color": "#EF553B",
          "pattern": {
           "shape": ""
          }
         },
         "name": "POSITIVE",
         "offsetgroup": "POSITIVE",
         "orientation": "v",
         "showlegend": true,
         "textposition": "auto",
         "type": "bar",
         "x": [
          "transaction",
          "update"
         ],
         "xaxis": "x",
         "y": {
          "bdata": "GhU=",
          "dtype": "i1"
         },
         "yaxis": "y"
        }
       ],
       "layout": {
        "barmode": "group",
        "height": 400,
        "legend": {
         "title": {
          "text": "Sentiment"
         },
         "tracegroupgap": 0
        },
        "template": {
         "data": {
          "bar": [
           {
            "error_x": {
             "color": "#2a3f5f"
            },
            "error_y": {
             "color": "#2a3f5f"
            },
            "marker": {
             "line": {
              "color": "#E5ECF6",
              "width": 0.5
             },
             "pattern": {
              "fillmode": "overlay",
              "size": 10,
              "solidity": 0.2
             }
            },
            "type": "bar"
           }
          ],
          "barpolar": [
           {
            "marker": {
             "line": {
              "color": "#E5ECF6",
              "width": 0.5
             },
             "pattern": {
              "fillmode": "overlay",
              "size": 10,
              "solidity": 0.2
             }
            },
            "type": "barpolar"
           }
          ],
          "carpet": [
           {
            "aaxis": {
             "endlinecolor": "#2a3f5f",
             "gridcolor": "white",
             "linecolor": "white",
             "minorgridcolor": "white",
             "startlinecolor": "#2a3f5f"
            },
            "baxis": {
             "endlinecolor": "#2a3f5f",
             "gridcolor": "white",
             "linecolor": "white",
             "minorgridcolor": "white",
             "startlinecolor": "#2a3f5f"
            },
            "type": "carpet"
           }
          ],
          "choropleth": [
           {
            "colorbar": {
             "outlinewidth": 0,
             "ticks": ""
            },
            "type": "choropleth"
           }
          ],
          "contour": [
           {
            "colorbar": {
             "outlinewidth": 0,
             "ticks": ""
            },
            "colorscale": [
             [
              0,
              "#0d0887"
             ],
             [
              0.1111111111111111,
              "#46039f"
             ],
             [
              0.2222222222222222,
              "#7201a8"
             ],
             [
              0.3333333333333333,
              "#9c179e"
             ],
             [
              0.4444444444444444,
              "#bd3786"
             ],
             [
              0.5555555555555556,
              "#d8576b"
             ],
             [
              0.6666666666666666,
              "#ed7953"
             ],
             [
              0.7777777777777778,
              "#fb9f3a"
             ],
             [
              0.8888888888888888,
              "#fdca26"
             ],
             [
              1,
              "#f0f921"
             ]
            ],
            "type": "contour"
           }
          ],
          "contourcarpet": [
           {
            "colorbar": {
             "outlinewidth": 0,
             "ticks": ""
            },
            "type": "contourcarpet"
           }
          ],
          "heatmap": [
           {
            "colorbar": {
             "outlinewidth": 0,
             "ticks": ""
            },
            "colorscale": [
             [
              0,
              "#0d0887"
             ],
             [
              0.1111111111111111,
              "#46039f"
             ],
             [
              0.2222222222222222,
              "#7201a8"
             ],
             [
              0.3333333333333333,
              "#9c179e"
             ],
             [
              0.4444444444444444,
              "#bd3786"
             ],
             [
              0.5555555555555556,
              "#d8576b"
             ],
             [
              0.6666666666666666,
              "#ed7953"
             ],
             [
              0.7777777777777778,
              "#fb9f3a"
             ],
             [
              0.8888888888888888,
              "#fdca26"
             ],
             [
              1,
              "#f0f921"
             ]
            ],
            "type": "heatmap"
           }
          ],
          "histogram": [
           {
            "marker": {
             "pattern": {
              "fillmode": "overlay",
              "size": 10,
              "solidity": 0.2
             }
            },
            "type": "histogram"
           }
          ],
          "histogram2d": [
           {
            "colorbar": {
             "outlinewidth": 0,
             "ticks": ""
            },
            "colorscale": [
             [
              0,
              "#0d0887"
             ],
             [
              0.1111111111111111,
              "#46039f"
             ],
             [
              0.2222222222222222,
              "#7201a8"
             ],
             [
              0.3333333333333333,
              "#9c179e"
             ],
             [
              0.4444444444444444,
              "#bd3786"
             ],
             [
              0.5555555555555556,
              "#d8576b"
             ],
             [
              0.6666666666666666,
              "#ed7953"
             ],
             [
              0.7777777777777778,
              "#fb9f3a"
             ],
             [
              0.8888888888888888,
              "#fdca26"
             ],
             [
              1,
              "#f0f921"
             ]
            ],
            "type": "histogram2d"
           }
          ],
          "histogram2dcontour": [
           {
            "colorbar": {
             "outlinewidth": 0,
             "ticks": ""
            },
            "colorscale": [
             [
              0,
              "#0d0887"
             ],
             [
              0.1111111111111111,
              "#46039f"
             ],
             [
              0.2222222222222222,
              "#7201a8"
             ],
             [
              0.3333333333333333,
              "#9c179e"
             ],
             [
              0.4444444444444444,
              "#bd3786"
             ],
             [
              0.5555555555555556,
              "#d8576b"
             ],
             [
              0.6666666666666666,
              "#ed7953"
             ],
             [
              0.7777777777777778,
              "#fb9f3a"
             ],
             [
              0.8888888888888888,
              "#fdca26"
             ],
             [
              1,
              "#f0f921"
             ]
            ],
            "type": "histogram2dcontour"
           }
          ],
          "mesh3d": [
           {
            "colorbar": {
             "outlinewidth": 0,
             "ticks": ""
            },
            "type": "mesh3d"
           }
          ],
          "parcoords": [
           {
            "line": {
             "colorbar": {
              "outlinewidth": 0,
              "ticks": ""
             }
            },
            "type": "parcoords"
           }
          ],
          "pie": [
           {
            "automargin": true,
            "type": "pie"
           }
          ],
          "scatter": [
           {
            "fillpattern": {
             "fillmode": "overlay",
             "size": 10,
             "solidity": 0.2
            },
            "type": "scatter"
           }
          ],
          "scatter3d": [
           {
            "line": {
             "colorbar": {
              "outlinewidth": 0,
              "ticks": ""
             }
            },
            "marker": {
             "colorbar": {
              "outlinewidth": 0,
              "ticks": ""
             }
            },
            "type": "scatter3d"
           }
          ],
          "scattercarpet": [
           {
            "marker": {
             "colorbar": {
              "outlinewidth": 0,
              "ticks": ""
             }
            },
            "type": "scattercarpet"
           }
          ],
          "scattergeo": [
           {
            "marker": {
             "colorbar": {
              "outlinewidth": 0,
              "ticks": ""
             }
            },
            "type": "scattergeo"
           }
          ],
          "scattergl": [
           {
            "marker": {
             "colorbar": {
              "outlinewidth": 0,
              "ticks": ""
             }
            },
            "type": "scattergl"
           }
          ],
          "scattermap": [
           {
            "marker": {
             "colorbar": {
              "outlinewidth": 0,
              "ticks": ""
             }
            },
            "type": "scattermap"
           }
          ],
          "scattermapbox": [
           {
            "marker": {
             "colorbar": {
              "outlinewidth": 0,
              "ticks": ""
             }
            },
            "type": "scattermapbox"
           }
          ],
          "scatterpolar": [
           {
            "marker": {
             "colorbar": {
              "outlinewidth": 0,
              "ticks": ""
             }
            },
            "type": "scatterpolar"
           }
          ],
          "scatterpolargl": [
           {
            "marker": {
             "colorbar": {
              "outlinewidth": 0,
              "ticks": ""
             }
            },
            "type": "scatterpolargl"
           }
          ],
          "scatterternary": [
           {
            "marker": {
             "colorbar": {
              "outlinewidth": 0,
              "ticks": ""
             }
            },
            "type": "scatterternary"
           }
          ],
          "surface": [
           {
            "colorbar": {
             "outlinewidth": 0,
             "ticks": ""
            },
            "colorscale": [
             [
              0,
              "#0d0887"
             ],
             [
              0.1111111111111111,
              "#46039f"
             ],
             [
              0.2222222222222222,
              "#7201a8"
             ],
             [
              0.3333333333333333,
              "#9c179e"
             ],
             [
              0.4444444444444444,
              "#bd3786"
             ],
             [
              0.5555555555555556,
              "#d8576b"
             ],
             [
              0.6666666666666666,
              "#ed7953"
             ],
             [
              0.7777777777777778,
              "#fb9f3a"
             ],
             [
              0.8888888888888888,
              "#fdca26"
             ],
             [
              1,
              "#f0f921"
             ]
            ],
            "type": "surface"
           }
          ],
          "table": [
           {
            "cells": {
             "fill": {
              "color": "#EBF0F8"
             },
             "line": {
              "color": "white"
             }
            },
            "header": {
             "fill": {
              "color": "#C8D4E3"
             },
             "line": {
              "color": "white"
             }
            },
            "type": "table"
           }
          ]
         },
         "layout": {
          "annotationdefaults": {
           "arrowcolor": "#2a3f5f",
           "arrowhead": 0,
           "arrowwidth": 1
          },
          "autotypenumbers": "strict",
          "coloraxis": {
           "colorbar": {
            "outlinewidth": 0,
            "ticks": ""
           }
          },
          "colorscale": {
           "diverging": [
            [
             0,
             "#8e0152"
            ],
            [
             0.1,
             "#c51b7d"
            ],
            [
             0.2,
             "#de77ae"
            ],
            [
             0.3,
             "#f1b6da"
            ],
            [
             0.4,
             "#fde0ef"
            ],
            [
             0.5,
             "#f7f7f7"
            ],
            [
             0.6,
             "#e6f5d0"
            ],
            [
             0.7,
             "#b8e186"
            ],
            [
             0.8,
             "#7fbc41"
            ],
            [
             0.9,
             "#4d9221"
            ],
            [
             1,
             "#276419"
            ]
           ],
           "sequential": [
            [
             0,
             "#0d0887"
            ],
            [
             0.1111111111111111,
             "#46039f"
            ],
            [
             0.2222222222222222,
             "#7201a8"
            ],
            [
             0.3333333333333333,
             "#9c179e"
            ],
            [
             0.4444444444444444,
             "#bd3786"
            ],
            [
             0.5555555555555556,
             "#d8576b"
            ],
            [
             0.6666666666666666,
             "#ed7953"
            ],
            [
             0.7777777777777778,
             "#fb9f3a"
            ],
            [
             0.8888888888888888,
             "#fdca26"
            ],
            [
             1,
             "#f0f921"
            ]
           ],
           "sequentialminus": [
            [
             0,
             "#0d0887"
            ],
            [
             0.1111111111111111,
             "#46039f"
            ],
            [
             0.2222222222222222,
             "#7201a8"
            ],
            [
             0.3333333333333333,
             "#9c179e"
            ],
            [
             0.4444444444444444,
             "#bd3786"
            ],
            [
             0.5555555555555556,
             "#d8576b"
            ],
            [
             0.6666666666666666,
             "#ed7953"
            ],
            [
             0.7777777777777778,
             "#fb9f3a"
            ],
            [
             0.8888888888888888,
             "#fdca26"
            ],
            [
             1,
             "#f0f921"
            ]
           ]
          },
          "colorway": [
           "#636efa",
           "#EF553B",
           "#00cc96",
           "#ab63fa",
           "#FFA15A",
           "#19d3f3",
           "#FF6692",
           "#B6E880",
           "#FF97FF",
           "#FECB52"
          ],
          "font": {
           "color": "#2a3f5f"
          },
          "geo": {
           "bgcolor": "white",
           "lakecolor": "white",
           "landcolor": "#E5ECF6",
           "showlakes": true,
           "showland": true,
           "subunitcolor": "white"
          },
          "hoverlabel": {
           "align": "left"
          },
          "hovermode": "closest",
          "mapbox": {
           "style": "light"
          },
          "paper_bgcolor": "white",
          "plot_bgcolor": "#E5ECF6",
          "polar": {
           "angularaxis": {
            "gridcolor": "white",
            "linecolor": "white",
            "ticks": ""
           },
           "bgcolor": "#E5ECF6",
           "radialaxis": {
            "gridcolor": "white",
            "linecolor": "white",
            "ticks": ""
           }
          },
          "scene": {
           "xaxis": {
            "backgroundcolor": "#E5ECF6",
            "gridcolor": "white",
            "gridwidth": 2,
            "linecolor": "white",
            "showbackground": true,
            "ticks": "",
            "zerolinecolor": "white"
           },
           "yaxis": {
            "backgroundcolor": "#E5ECF6",
            "gridcolor": "white",
            "gridwidth": 2,
            "linecolor": "white",
            "showbackground": true,
            "ticks": "",
            "zerolinecolor": "white"
           },
           "zaxis": {
            "backgroundcolor": "#E5ECF6",
            "gridcolor": "white",
            "gridwidth": 2,
            "linecolor": "white",
            "showbackground": true,
            "ticks": "",
            "zerolinecolor": "white"
           }
          },
          "shapedefaults": {
           "line": {
            "color": "#2a3f5f"
           }
          },
          "ternary": {
           "aaxis": {
            "gridcolor": "white",
            "linecolor": "white",
            "ticks": ""
           },
           "baxis": {
            "gridcolor": "white",
            "linecolor": "white",
            "ticks": ""
           },
           "bgcolor": "#E5ECF6",
           "caxis": {
            "gridcolor": "white",
            "linecolor": "white",
            "ticks": ""
           }
          },
          "title": {
           "x": 0.05
          },
          "xaxis": {
           "automargin": true,
           "gridcolor": "white",
           "linecolor": "white",
           "ticks": "",
           "title": {
            "standoff": 15
           },
           "zerolinecolor": "white",
           "zerolinewidth": 2
          },
          "yaxis": {
           "automargin": true,
           "gridcolor": "white",
           "linecolor": "white",
           "ticks": "",
           "title": {
            "standoff": 15
           },
           "zerolinecolor": "white",
           "zerolinewidth": 2
          }
         }
        },
        "title": {
         "text": "Theme Mentions by Sentiment – CBE"
        },
        "width": 800,
        "xaxis": {
         "anchor": "y",
         "domain": [
          0,
          1
         ],
         "tickangle": -45,
         "title": {
          "text": "Theme"
         }
        },
        "yaxis": {
         "anchor": "x",
         "domain": [
          0,
          1
         ],
         "title": {
          "text": "Number of Mentions"
         }
        }
       }
      }
     },
     "metadata": {},
     "output_type": "display_data"
    },
    {
     "data": {
      "application/vnd.plotly.v1+json": {
       "config": {
        "plotlyServerURL": "https://plot.ly"
       },
       "data": [
        {
         "alignmentgroup": "True",
         "hovertemplate": "Sentiment=NEGATIVE<br>Theme=%{x}<br>Number of Mentions=%{y}<extra></extra>",
         "legendgroup": "NEGATIVE",
         "marker": {
          "color": "#636efa",
          "pattern": {
           "shape": ""
          }
         },
         "name": "NEGATIVE",
         "offsetgroup": "NEGATIVE",
         "orientation": "v",
         "showlegend": true,
         "textposition": "auto",
         "type": "bar",
         "x": [
          "crash",
          "login",
          "transaction",
          "slow",
          "update"
         ],
         "xaxis": "x",
         "y": {
          "bdata": "CBUSGTI=",
          "dtype": "i1"
         },
         "yaxis": "y"
        },
        {
         "alignmentgroup": "True",
         "hovertemplate": "Sentiment=POSITIVE<br>Theme=%{x}<br>Number of Mentions=%{y}<extra></extra>",
         "legendgroup": "POSITIVE",
         "marker": {
          "color": "#EF553B",
          "pattern": {
           "shape": ""
          }
         },
         "name": "POSITIVE",
         "offsetgroup": "POSITIVE",
         "orientation": "v",
         "showlegend": true,
         "textposition": "auto",
         "type": "bar",
         "x": [
          "slow",
          "update"
         ],
         "xaxis": "x",
         "y": {
          "bdata": "AgQ=",
          "dtype": "i1"
         },
         "yaxis": "y"
        }
       ],
       "layout": {
        "barmode": "group",
        "height": 400,
        "legend": {
         "title": {
          "text": "Sentiment"
         },
         "tracegroupgap": 0
        },
        "template": {
         "data": {
          "bar": [
           {
            "error_x": {
             "color": "#2a3f5f"
            },
            "error_y": {
             "color": "#2a3f5f"
            },
            "marker": {
             "line": {
              "color": "#E5ECF6",
              "width": 0.5
             },
             "pattern": {
              "fillmode": "overlay",
              "size": 10,
              "solidity": 0.2
             }
            },
            "type": "bar"
           }
          ],
          "barpolar": [
           {
            "marker": {
             "line": {
              "color": "#E5ECF6",
              "width": 0.5
             },
             "pattern": {
              "fillmode": "overlay",
              "size": 10,
              "solidity": 0.2
             }
            },
            "type": "barpolar"
           }
          ],
          "carpet": [
           {
            "aaxis": {
             "endlinecolor": "#2a3f5f",
             "gridcolor": "white",
             "linecolor": "white",
             "minorgridcolor": "white",
             "startlinecolor": "#2a3f5f"
            },
            "baxis": {
             "endlinecolor": "#2a3f5f",
             "gridcolor": "white",
             "linecolor": "white",
             "minorgridcolor": "white",
             "startlinecolor": "#2a3f5f"
            },
            "type": "carpet"
           }
          ],
          "choropleth": [
           {
            "colorbar": {
             "outlinewidth": 0,
             "ticks": ""
            },
            "type": "choropleth"
           }
          ],
          "contour": [
           {
            "colorbar": {
             "outlinewidth": 0,
             "ticks": ""
            },
            "colorscale": [
             [
              0,
              "#0d0887"
             ],
             [
              0.1111111111111111,
              "#46039f"
             ],
             [
              0.2222222222222222,
              "#7201a8"
             ],
             [
              0.3333333333333333,
              "#9c179e"
             ],
             [
              0.4444444444444444,
              "#bd3786"
             ],
             [
              0.5555555555555556,
              "#d8576b"
             ],
             [
              0.6666666666666666,
              "#ed7953"
             ],
             [
              0.7777777777777778,
              "#fb9f3a"
             ],
             [
              0.8888888888888888,
              "#fdca26"
             ],
             [
              1,
              "#f0f921"
             ]
            ],
            "type": "contour"
           }
          ],
          "contourcarpet": [
           {
            "colorbar": {
             "outlinewidth": 0,
             "ticks": ""
            },
            "type": "contourcarpet"
           }
          ],
          "heatmap": [
           {
            "colorbar": {
             "outlinewidth": 0,
             "ticks": ""
            },
            "colorscale": [
             [
              0,
              "#0d0887"
             ],
             [
              0.1111111111111111,
              "#46039f"
             ],
             [
              0.2222222222222222,
              "#7201a8"
             ],
             [
              0.3333333333333333,
              "#9c179e"
             ],
             [
              0.4444444444444444,
              "#bd3786"
             ],
             [
              0.5555555555555556,
              "#d8576b"
             ],
             [
              0.6666666666666666,
              "#ed7953"
             ],
             [
              0.7777777777777778,
              "#fb9f3a"
             ],
             [
              0.8888888888888888,
              "#fdca26"
             ],
             [
              1,
              "#f0f921"
             ]
            ],
            "type": "heatmap"
           }
          ],
          "histogram": [
           {
            "marker": {
             "pattern": {
              "fillmode": "overlay",
              "size": 10,
              "solidity": 0.2
             }
            },
            "type": "histogram"
           }
          ],
          "histogram2d": [
           {
            "colorbar": {
             "outlinewidth": 0,
             "ticks": ""
            },
            "colorscale": [
             [
              0,
              "#0d0887"
             ],
             [
              0.1111111111111111,
              "#46039f"
             ],
             [
              0.2222222222222222,
              "#7201a8"
             ],
             [
              0.3333333333333333,
              "#9c179e"
             ],
             [
              0.4444444444444444,
              "#bd3786"
             ],
             [
              0.5555555555555556,
              "#d8576b"
             ],
             [
              0.6666666666666666,
              "#ed7953"
             ],
             [
              0.7777777777777778,
              "#fb9f3a"
             ],
             [
              0.8888888888888888,
              "#fdca26"
             ],
             [
              1,
              "#f0f921"
             ]
            ],
            "type": "histogram2d"
           }
          ],
          "histogram2dcontour": [
           {
            "colorbar": {
             "outlinewidth": 0,
             "ticks": ""
            },
            "colorscale": [
             [
              0,
              "#0d0887"
             ],
             [
              0.1111111111111111,
              "#46039f"
             ],
             [
              0.2222222222222222,
              "#7201a8"
             ],
             [
              0.3333333333333333,
              "#9c179e"
             ],
             [
              0.4444444444444444,
              "#bd3786"
             ],
             [
              0.5555555555555556,
              "#d8576b"
             ],
             [
              0.6666666666666666,
              "#ed7953"
             ],
             [
              0.7777777777777778,
              "#fb9f3a"
             ],
             [
              0.8888888888888888,
              "#fdca26"
             ],
             [
              1,
              "#f0f921"
             ]
            ],
            "type": "histogram2dcontour"
           }
          ],
          "mesh3d": [
           {
            "colorbar": {
             "outlinewidth": 0,
             "ticks": ""
            },
            "type": "mesh3d"
           }
          ],
          "parcoords": [
           {
            "line": {
             "colorbar": {
              "outlinewidth": 0,
              "ticks": ""
             }
            },
            "type": "parcoords"
           }
          ],
          "pie": [
           {
            "automargin": true,
            "type": "pie"
           }
          ],
          "scatter": [
           {
            "fillpattern": {
             "fillmode": "overlay",
             "size": 10,
             "solidity": 0.2
            },
            "type": "scatter"
           }
          ],
          "scatter3d": [
           {
            "line": {
             "colorbar": {
              "outlinewidth": 0,
              "ticks": ""
             }
            },
            "marker": {
             "colorbar": {
              "outlinewidth": 0,
              "ticks": ""
             }
            },
            "type": "scatter3d"
           }
          ],
          "scattercarpet": [
           {
            "marker": {
             "colorbar": {
              "outlinewidth": 0,
              "ticks": ""
             }
            },
            "type": "scattercarpet"
           }
          ],
          "scattergeo": [
           {
            "marker": {
             "colorbar": {
              "outlinewidth": 0,
              "ticks": ""
             }
            },
            "type": "scattergeo"
           }
          ],
          "scattergl": [
           {
            "marker": {
             "colorbar": {
              "outlinewidth": 0,
              "ticks": ""
             }
            },
            "type": "scattergl"
           }
          ],
          "scattermap": [
           {
            "marker": {
             "colorbar": {
              "outlinewidth": 0,
              "ticks": ""
             }
            },
            "type": "scattermap"
           }
          ],
          "scattermapbox": [
           {
            "marker": {
             "colorbar": {
              "outlinewidth": 0,
              "ticks": ""
             }
            },
            "type": "scattermapbox"
           }
          ],
          "scatterpolar": [
           {
            "marker": {
             "colorbar": {
              "outlinewidth": 0,
              "ticks": ""
             }
            },
            "type": "scatterpolar"
           }
          ],
          "scatterpolargl": [
           {
            "marker": {
             "colorbar": {
              "outlinewidth": 0,
              "ticks": ""
             }
            },
            "type": "scatterpolargl"
           }
          ],
          "scatterternary": [
           {
            "marker": {
             "colorbar": {
              "outlinewidth": 0,
              "ticks": ""
             }
            },
            "type": "scatterternary"
           }
          ],
          "surface": [
           {
            "colorbar": {
             "outlinewidth": 0,
             "ticks": ""
            },
            "colorscale": [
             [
              0,
              "#0d0887"
             ],
             [
              0.1111111111111111,
              "#46039f"
             ],
             [
              0.2222222222222222,
              "#7201a8"
             ],
             [
              0.3333333333333333,
              "#9c179e"
             ],
             [
              0.4444444444444444,
              "#bd3786"
             ],
             [
              0.5555555555555556,
              "#d8576b"
             ],
             [
              0.6666666666666666,
              "#ed7953"
             ],
             [
              0.7777777777777778,
              "#fb9f3a"
             ],
             [
              0.8888888888888888,
              "#fdca26"
             ],
             [
              1,
              "#f0f921"
             ]
            ],
            "type": "surface"
           }
          ],
          "table": [
           {
            "cells": {
             "fill": {
              "color": "#EBF0F8"
             },
             "line": {
              "color": "white"
             }
            },
            "header": {
             "fill": {
              "color": "#C8D4E3"
             },
             "line": {
              "color": "white"
             }
            },
            "type": "table"
           }
          ]
         },
         "layout": {
          "annotationdefaults": {
           "arrowcolor": "#2a3f5f",
           "arrowhead": 0,
           "arrowwidth": 1
          },
          "autotypenumbers": "strict",
          "coloraxis": {
           "colorbar": {
            "outlinewidth": 0,
            "ticks": ""
           }
          },
          "colorscale": {
           "diverging": [
            [
             0,
             "#8e0152"
            ],
            [
             0.1,
             "#c51b7d"
            ],
            [
             0.2,
             "#de77ae"
            ],
            [
             0.3,
             "#f1b6da"
            ],
            [
             0.4,
             "#fde0ef"
            ],
            [
             0.5,
             "#f7f7f7"
            ],
            [
             0.6,
             "#e6f5d0"
            ],
            [
             0.7,
             "#b8e186"
            ],
            [
             0.8,
             "#7fbc41"
            ],
            [
             0.9,
             "#4d9221"
            ],
            [
             1,
             "#276419"
            ]
           ],
           "sequential": [
            [
             0,
             "#0d0887"
            ],
            [
             0.1111111111111111,
             "#46039f"
            ],
            [
             0.2222222222222222,
             "#7201a8"
            ],
            [
             0.3333333333333333,
             "#9c179e"
            ],
            [
             0.4444444444444444,
             "#bd3786"
            ],
            [
             0.5555555555555556,
             "#d8576b"
            ],
            [
             0.6666666666666666,
             "#ed7953"
            ],
            [
             0.7777777777777778,
             "#fb9f3a"
            ],
            [
             0.8888888888888888,
             "#fdca26"
            ],
            [
             1,
             "#f0f921"
            ]
           ],
           "sequentialminus": [
            [
             0,
             "#0d0887"
            ],
            [
             0.1111111111111111,
             "#46039f"
            ],
            [
             0.2222222222222222,
             "#7201a8"
            ],
            [
             0.3333333333333333,
             "#9c179e"
            ],
            [
             0.4444444444444444,
             "#bd3786"
            ],
            [
             0.5555555555555556,
             "#d8576b"
            ],
            [
             0.6666666666666666,
             "#ed7953"
            ],
            [
             0.7777777777777778,
             "#fb9f3a"
            ],
            [
             0.8888888888888888,
             "#fdca26"
            ],
            [
             1,
             "#f0f921"
            ]
           ]
          },
          "colorway": [
           "#636efa",
           "#EF553B",
           "#00cc96",
           "#ab63fa",
           "#FFA15A",
           "#19d3f3",
           "#FF6692",
           "#B6E880",
           "#FF97FF",
           "#FECB52"
          ],
          "font": {
           "color": "#2a3f5f"
          },
          "geo": {
           "bgcolor": "white",
           "lakecolor": "white",
           "landcolor": "#E5ECF6",
           "showlakes": true,
           "showland": true,
           "subunitcolor": "white"
          },
          "hoverlabel": {
           "align": "left"
          },
          "hovermode": "closest",
          "mapbox": {
           "style": "light"
          },
          "paper_bgcolor": "white",
          "plot_bgcolor": "#E5ECF6",
          "polar": {
           "angularaxis": {
            "gridcolor": "white",
            "linecolor": "white",
            "ticks": ""
           },
           "bgcolor": "#E5ECF6",
           "radialaxis": {
            "gridcolor": "white",
            "linecolor": "white",
            "ticks": ""
           }
          },
          "scene": {
           "xaxis": {
            "backgroundcolor": "#E5ECF6",
            "gridcolor": "white",
            "gridwidth": 2,
            "linecolor": "white",
            "showbackground": true,
            "ticks": "",
            "zerolinecolor": "white"
           },
           "yaxis": {
            "backgroundcolor": "#E5ECF6",
            "gridcolor": "white",
            "gridwidth": 2,
            "linecolor": "white",
            "showbackground": true,
            "ticks": "",
            "zerolinecolor": "white"
           },
           "zaxis": {
            "backgroundcolor": "#E5ECF6",
            "gridcolor": "white",
            "gridwidth": 2,
            "linecolor": "white",
            "showbackground": true,
            "ticks": "",
            "zerolinecolor": "white"
           }
          },
          "shapedefaults": {
           "line": {
            "color": "#2a3f5f"
           }
          },
          "ternary": {
           "aaxis": {
            "gridcolor": "white",
            "linecolor": "white",
            "ticks": ""
           },
           "baxis": {
            "gridcolor": "white",
            "linecolor": "white",
            "ticks": ""
           },
           "bgcolor": "#E5ECF6",
           "caxis": {
            "gridcolor": "white",
            "linecolor": "white",
            "ticks": ""
           }
          },
          "title": {
           "x": 0.05
          },
          "xaxis": {
           "automargin": true,
           "gridcolor": "white",
           "linecolor": "white",
           "ticks": "",
           "title": {
            "standoff": 15
           },
           "zerolinecolor": "white",
           "zerolinewidth": 2
          },
          "yaxis": {
           "automargin": true,
           "gridcolor": "white",
           "linecolor": "white",
           "ticks": "",
           "title": {
            "standoff": 15
           },
           "zerolinecolor": "white",
           "zerolinewidth": 2
          }
         }
        },
        "title": {
         "text": "Theme Mentions by Sentiment – BOA"
        },
        "width": 800,
        "xaxis": {
         "anchor": "y",
         "domain": [
          0,
          1
         ],
         "tickangle": -45,
         "title": {
          "text": "Theme"
         }
        },
        "yaxis": {
         "anchor": "x",
         "domain": [
          0,
          1
         ],
         "title": {
          "text": "Number of Mentions"
         }
        }
       }
      }
     },
     "metadata": {},
     "output_type": "display_data"
    },
    {
     "data": {
      "application/vnd.plotly.v1+json": {
       "config": {
        "plotlyServerURL": "https://plot.ly"
       },
       "data": [
        {
         "alignmentgroup": "True",
         "hovertemplate": "Sentiment=POSITIVE<br>Theme=%{x}<br>Number of Mentions=%{y}<extra></extra>",
         "legendgroup": "POSITIVE",
         "marker": {
          "color": "#636efa",
          "pattern": {
           "shape": ""
          }
         },
         "name": "POSITIVE",
         "offsetgroup": "POSITIVE",
         "orientation": "v",
         "showlegend": true,
         "textposition": "auto",
         "type": "bar",
         "x": [
          "login",
          "transaction",
          "update"
         ],
         "xaxis": "x",
         "y": {
          "bdata": "AgcC",
          "dtype": "i1"
         },
         "yaxis": "y"
        },
        {
         "alignmentgroup": "True",
         "hovertemplate": "Sentiment=NEGATIVE<br>Theme=%{x}<br>Number of Mentions=%{y}<extra></extra>",
         "legendgroup": "NEGATIVE",
         "marker": {
          "color": "#EF553B",
          "pattern": {
           "shape": ""
          }
         },
         "name": "NEGATIVE",
         "offsetgroup": "NEGATIVE",
         "orientation": "v",
         "showlegend": true,
         "textposition": "auto",
         "type": "bar",
         "x": [
          "transaction",
          "slow",
          "update"
         ],
         "xaxis": "x",
         "y": {
          "bdata": "CAoC",
          "dtype": "i1"
         },
         "yaxis": "y"
        }
       ],
       "layout": {
        "barmode": "group",
        "height": 400,
        "legend": {
         "title": {
          "text": "Sentiment"
         },
         "tracegroupgap": 0
        },
        "template": {
         "data": {
          "bar": [
           {
            "error_x": {
             "color": "#2a3f5f"
            },
            "error_y": {
             "color": "#2a3f5f"
            },
            "marker": {
             "line": {
              "color": "#E5ECF6",
              "width": 0.5
             },
             "pattern": {
              "fillmode": "overlay",
              "size": 10,
              "solidity": 0.2
             }
            },
            "type": "bar"
           }
          ],
          "barpolar": [
           {
            "marker": {
             "line": {
              "color": "#E5ECF6",
              "width": 0.5
             },
             "pattern": {
              "fillmode": "overlay",
              "size": 10,
              "solidity": 0.2
             }
            },
            "type": "barpolar"
           }
          ],
          "carpet": [
           {
            "aaxis": {
             "endlinecolor": "#2a3f5f",
             "gridcolor": "white",
             "linecolor": "white",
             "minorgridcolor": "white",
             "startlinecolor": "#2a3f5f"
            },
            "baxis": {
             "endlinecolor": "#2a3f5f",
             "gridcolor": "white",
             "linecolor": "white",
             "minorgridcolor": "white",
             "startlinecolor": "#2a3f5f"
            },
            "type": "carpet"
           }
          ],
          "choropleth": [
           {
            "colorbar": {
             "outlinewidth": 0,
             "ticks": ""
            },
            "type": "choropleth"
           }
          ],
          "contour": [
           {
            "colorbar": {
             "outlinewidth": 0,
             "ticks": ""
            },
            "colorscale": [
             [
              0,
              "#0d0887"
             ],
             [
              0.1111111111111111,
              "#46039f"
             ],
             [
              0.2222222222222222,
              "#7201a8"
             ],
             [
              0.3333333333333333,
              "#9c179e"
             ],
             [
              0.4444444444444444,
              "#bd3786"
             ],
             [
              0.5555555555555556,
              "#d8576b"
             ],
             [
              0.6666666666666666,
              "#ed7953"
             ],
             [
              0.7777777777777778,
              "#fb9f3a"
             ],
             [
              0.8888888888888888,
              "#fdca26"
             ],
             [
              1,
              "#f0f921"
             ]
            ],
            "type": "contour"
           }
          ],
          "contourcarpet": [
           {
            "colorbar": {
             "outlinewidth": 0,
             "ticks": ""
            },
            "type": "contourcarpet"
           }
          ],
          "heatmap": [
           {
            "colorbar": {
             "outlinewidth": 0,
             "ticks": ""
            },
            "colorscale": [
             [
              0,
              "#0d0887"
             ],
             [
              0.1111111111111111,
              "#46039f"
             ],
             [
              0.2222222222222222,
              "#7201a8"
             ],
             [
              0.3333333333333333,
              "#9c179e"
             ],
             [
              0.4444444444444444,
              "#bd3786"
             ],
             [
              0.5555555555555556,
              "#d8576b"
             ],
             [
              0.6666666666666666,
              "#ed7953"
             ],
             [
              0.7777777777777778,
              "#fb9f3a"
             ],
             [
              0.8888888888888888,
              "#fdca26"
             ],
             [
              1,
              "#f0f921"
             ]
            ],
            "type": "heatmap"
           }
          ],
          "histogram": [
           {
            "marker": {
             "pattern": {
              "fillmode": "overlay",
              "size": 10,
              "solidity": 0.2
             }
            },
            "type": "histogram"
           }
          ],
          "histogram2d": [
           {
            "colorbar": {
             "outlinewidth": 0,
             "ticks": ""
            },
            "colorscale": [
             [
              0,
              "#0d0887"
             ],
             [
              0.1111111111111111,
              "#46039f"
             ],
             [
              0.2222222222222222,
              "#7201a8"
             ],
             [
              0.3333333333333333,
              "#9c179e"
             ],
             [
              0.4444444444444444,
              "#bd3786"
             ],
             [
              0.5555555555555556,
              "#d8576b"
             ],
             [
              0.6666666666666666,
              "#ed7953"
             ],
             [
              0.7777777777777778,
              "#fb9f3a"
             ],
             [
              0.8888888888888888,
              "#fdca26"
             ],
             [
              1,
              "#f0f921"
             ]
            ],
            "type": "histogram2d"
           }
          ],
          "histogram2dcontour": [
           {
            "colorbar": {
             "outlinewidth": 0,
             "ticks": ""
            },
            "colorscale": [
             [
              0,
              "#0d0887"
             ],
             [
              0.1111111111111111,
              "#46039f"
             ],
             [
              0.2222222222222222,
              "#7201a8"
             ],
             [
              0.3333333333333333,
              "#9c179e"
             ],
             [
              0.4444444444444444,
              "#bd3786"
             ],
             [
              0.5555555555555556,
              "#d8576b"
             ],
             [
              0.6666666666666666,
              "#ed7953"
             ],
             [
              0.7777777777777778,
              "#fb9f3a"
             ],
             [
              0.8888888888888888,
              "#fdca26"
             ],
             [
              1,
              "#f0f921"
             ]
            ],
            "type": "histogram2dcontour"
           }
          ],
          "mesh3d": [
           {
            "colorbar": {
             "outlinewidth": 0,
             "ticks": ""
            },
            "type": "mesh3d"
           }
          ],
          "parcoords": [
           {
            "line": {
             "colorbar": {
              "outlinewidth": 0,
              "ticks": ""
             }
            },
            "type": "parcoords"
           }
          ],
          "pie": [
           {
            "automargin": true,
            "type": "pie"
           }
          ],
          "scatter": [
           {
            "fillpattern": {
             "fillmode": "overlay",
             "size": 10,
             "solidity": 0.2
            },
            "type": "scatter"
           }
          ],
          "scatter3d": [
           {
            "line": {
             "colorbar": {
              "outlinewidth": 0,
              "ticks": ""
             }
            },
            "marker": {
             "colorbar": {
              "outlinewidth": 0,
              "ticks": ""
             }
            },
            "type": "scatter3d"
           }
          ],
          "scattercarpet": [
           {
            "marker": {
             "colorbar": {
              "outlinewidth": 0,
              "ticks": ""
             }
            },
            "type": "scattercarpet"
           }
          ],
          "scattergeo": [
           {
            "marker": {
             "colorbar": {
              "outlinewidth": 0,
              "ticks": ""
             }
            },
            "type": "scattergeo"
           }
          ],
          "scattergl": [
           {
            "marker": {
             "colorbar": {
              "outlinewidth": 0,
              "ticks": ""
             }
            },
            "type": "scattergl"
           }
          ],
          "scattermap": [
           {
            "marker": {
             "colorbar": {
              "outlinewidth": 0,
              "ticks": ""
             }
            },
            "type": "scattermap"
           }
          ],
          "scattermapbox": [
           {
            "marker": {
             "colorbar": {
              "outlinewidth": 0,
              "ticks": ""
             }
            },
            "type": "scattermapbox"
           }
          ],
          "scatterpolar": [
           {
            "marker": {
             "colorbar": {
              "outlinewidth": 0,
              "ticks": ""
             }
            },
            "type": "scatterpolar"
           }
          ],
          "scatterpolargl": [
           {
            "marker": {
             "colorbar": {
              "outlinewidth": 0,
              "ticks": ""
             }
            },
            "type": "scatterpolargl"
           }
          ],
          "scatterternary": [
           {
            "marker": {
             "colorbar": {
              "outlinewidth": 0,
              "ticks": ""
             }
            },
            "type": "scatterternary"
           }
          ],
          "surface": [
           {
            "colorbar": {
             "outlinewidth": 0,
             "ticks": ""
            },
            "colorscale": [
             [
              0,
              "#0d0887"
             ],
             [
              0.1111111111111111,
              "#46039f"
             ],
             [
              0.2222222222222222,
              "#7201a8"
             ],
             [
              0.3333333333333333,
              "#9c179e"
             ],
             [
              0.4444444444444444,
              "#bd3786"
             ],
             [
              0.5555555555555556,
              "#d8576b"
             ],
             [
              0.6666666666666666,
              "#ed7953"
             ],
             [
              0.7777777777777778,
              "#fb9f3a"
             ],
             [
              0.8888888888888888,
              "#fdca26"
             ],
             [
              1,
              "#f0f921"
             ]
            ],
            "type": "surface"
           }
          ],
          "table": [
           {
            "cells": {
             "fill": {
              "color": "#EBF0F8"
             },
             "line": {
              "color": "white"
             }
            },
            "header": {
             "fill": {
              "color": "#C8D4E3"
             },
             "line": {
              "color": "white"
             }
            },
            "type": "table"
           }
          ]
         },
         "layout": {
          "annotationdefaults": {
           "arrowcolor": "#2a3f5f",
           "arrowhead": 0,
           "arrowwidth": 1
          },
          "autotypenumbers": "strict",
          "coloraxis": {
           "colorbar": {
            "outlinewidth": 0,
            "ticks": ""
           }
          },
          "colorscale": {
           "diverging": [
            [
             0,
             "#8e0152"
            ],
            [
             0.1,
             "#c51b7d"
            ],
            [
             0.2,
             "#de77ae"
            ],
            [
             0.3,
             "#f1b6da"
            ],
            [
             0.4,
             "#fde0ef"
            ],
            [
             0.5,
             "#f7f7f7"
            ],
            [
             0.6,
             "#e6f5d0"
            ],
            [
             0.7,
             "#b8e186"
            ],
            [
             0.8,
             "#7fbc41"
            ],
            [
             0.9,
             "#4d9221"
            ],
            [
             1,
             "#276419"
            ]
           ],
           "sequential": [
            [
             0,
             "#0d0887"
            ],
            [
             0.1111111111111111,
             "#46039f"
            ],
            [
             0.2222222222222222,
             "#7201a8"
            ],
            [
             0.3333333333333333,
             "#9c179e"
            ],
            [
             0.4444444444444444,
             "#bd3786"
            ],
            [
             0.5555555555555556,
             "#d8576b"
            ],
            [
             0.6666666666666666,
             "#ed7953"
            ],
            [
             0.7777777777777778,
             "#fb9f3a"
            ],
            [
             0.8888888888888888,
             "#fdca26"
            ],
            [
             1,
             "#f0f921"
            ]
           ],
           "sequentialminus": [
            [
             0,
             "#0d0887"
            ],
            [
             0.1111111111111111,
             "#46039f"
            ],
            [
             0.2222222222222222,
             "#7201a8"
            ],
            [
             0.3333333333333333,
             "#9c179e"
            ],
            [
             0.4444444444444444,
             "#bd3786"
            ],
            [
             0.5555555555555556,
             "#d8576b"
            ],
            [
             0.6666666666666666,
             "#ed7953"
            ],
            [
             0.7777777777777778,
             "#fb9f3a"
            ],
            [
             0.8888888888888888,
             "#fdca26"
            ],
            [
             1,
             "#f0f921"
            ]
           ]
          },
          "colorway": [
           "#636efa",
           "#EF553B",
           "#00cc96",
           "#ab63fa",
           "#FFA15A",
           "#19d3f3",
           "#FF6692",
           "#B6E880",
           "#FF97FF",
           "#FECB52"
          ],
          "font": {
           "color": "#2a3f5f"
          },
          "geo": {
           "bgcolor": "white",
           "lakecolor": "white",
           "landcolor": "#E5ECF6",
           "showlakes": true,
           "showland": true,
           "subunitcolor": "white"
          },
          "hoverlabel": {
           "align": "left"
          },
          "hovermode": "closest",
          "mapbox": {
           "style": "light"
          },
          "paper_bgcolor": "white",
          "plot_bgcolor": "#E5ECF6",
          "polar": {
           "angularaxis": {
            "gridcolor": "white",
            "linecolor": "white",
            "ticks": ""
           },
           "bgcolor": "#E5ECF6",
           "radialaxis": {
            "gridcolor": "white",
            "linecolor": "white",
            "ticks": ""
           }
          },
          "scene": {
           "xaxis": {
            "backgroundcolor": "#E5ECF6",
            "gridcolor": "white",
            "gridwidth": 2,
            "linecolor": "white",
            "showbackground": true,
            "ticks": "",
            "zerolinecolor": "white"
           },
           "yaxis": {
            "backgroundcolor": "#E5ECF6",
            "gridcolor": "white",
            "gridwidth": 2,
            "linecolor": "white",
            "showbackground": true,
            "ticks": "",
            "zerolinecolor": "white"
           },
           "zaxis": {
            "backgroundcolor": "#E5ECF6",
            "gridcolor": "white",
            "gridwidth": 2,
            "linecolor": "white",
            "showbackground": true,
            "ticks": "",
            "zerolinecolor": "white"
           }
          },
          "shapedefaults": {
           "line": {
            "color": "#2a3f5f"
           }
          },
          "ternary": {
           "aaxis": {
            "gridcolor": "white",
            "linecolor": "white",
            "ticks": ""
           },
           "baxis": {
            "gridcolor": "white",
            "linecolor": "white",
            "ticks": ""
           },
           "bgcolor": "#E5ECF6",
           "caxis": {
            "gridcolor": "white",
            "linecolor": "white",
            "ticks": ""
           }
          },
          "title": {
           "x": 0.05
          },
          "xaxis": {
           "automargin": true,
           "gridcolor": "white",
           "linecolor": "white",
           "ticks": "",
           "title": {
            "standoff": 15
           },
           "zerolinecolor": "white",
           "zerolinewidth": 2
          },
          "yaxis": {
           "automargin": true,
           "gridcolor": "white",
           "linecolor": "white",
           "ticks": "",
           "title": {
            "standoff": 15
           },
           "zerolinecolor": "white",
           "zerolinewidth": 2
          }
         }
        },
        "title": {
         "text": "Theme Mentions by Sentiment – Dashen"
        },
        "width": 800,
        "xaxis": {
         "anchor": "y",
         "domain": [
          0,
          1
         ],
         "tickangle": -45,
         "title": {
          "text": "Theme"
         }
        },
        "yaxis": {
         "anchor": "x",
         "domain": [
          0,
          1
         ],
         "title": {
          "text": "Number of Mentions"
         }
        }
       }
      }
     },
     "metadata": {},
     "output_type": "display_data"
    }
   ],
   "source": [
    "import plotly.express as px\n",
    "\n",
    "def plot_theme_counts(theme_counts_df, min_count=1):\n",
    "    # Filter to show only themes with significant mentions\n",
    "    filtered = theme_counts_df[theme_counts_df['count'] > min_count]\n",
    "    banks = filtered['bank'].unique()\n",
    "    for bank in banks:\n",
    "        data = filtered[filtered['bank'] == bank]\n",
    "        fig = px.bar(\n",
    "            data,\n",
    "            x='theme',\n",
    "            y='count',\n",
    "            color='sentiment',\n",
    "            barmode='group',\n",
    "            title=f\"Theme Mentions by Sentiment – {bank}\",\n",
    "            labels={'count': 'Number of Mentions', 'theme': 'Theme', 'sentiment': 'Sentiment'},\n",
    "            height=400,\n",
    "            width=800\n",
    "        )\n",
    "        fig.update_layout(xaxis_tickangle=-45)\n",
    "        fig.show()\n",
    "\n",
    "# Usage:\n",
    "plot_theme_counts(theme_counts_df)\n"
   ]
  },
  {
   "cell_type": "code",
   "execution_count": 7,
   "id": "8f9e9d45",
   "metadata": {},
   "outputs": [
    {
     "name": "stdout",
     "output_type": "stream",
     "text": [
      "      bank           feature sentiment  count\n",
      "0      CBE          transfer  POSITIVE     18\n",
      "1      CBE          transfer  NEGATIVE     62\n",
      "9      CBE      notification  NEGATIVE      9\n",
      "10     CBE          security  POSITIVE     12\n",
      "11     CBE          security  NEGATIVE     20\n",
      "13     CBE           balance  NEGATIVE     39\n",
      "14     CBE         statement  POSITIVE      7\n",
      "15     CBE         statement  NEGATIVE     16\n",
      "18     CBE            update  POSITIVE     21\n",
      "19     CBE            update  NEGATIVE    109\n",
      "21     CBE  customer service  NEGATIVE     11\n",
      "23     BOA          transfer  NEGATIVE     15\n",
      "27     BOA             login  NEGATIVE     21\n",
      "29     BOA           loading  NEGATIVE      7\n",
      "33     BOA          security  NEGATIVE      8\n",
      "35     BOA           balance  NEGATIVE      7\n",
      "41     BOA            update  NEGATIVE     50\n",
      "54  Dashen          security  POSITIVE      9\n"
     ]
    }
   ],
   "source": [
    "# List of desired features to track (expand as needed)\n",
    "features = ['transfer', 'fingerprint', 'login', 'loading', 'notification', 'security', 'balance', 'statement', 'limit', 'update', 'customer service']\n",
    "def count_feature_mentions_by_sentiment(\n",
    "    df, features, \n",
    "    bank_col='bank', review_col='review', sentiment_col='distilbert_sentiment', \n",
    "    sentiments=('POSITIVE', 'NEGATIVE')\n",
    "):\n",
    "    feature_counts = []\n",
    "    for bank in df[bank_col].unique():\n",
    "        for feature in features:\n",
    "            for sent in sentiments:\n",
    "                subset = df[(df[bank_col] == bank) & (df[sentiment_col] == sent)]\n",
    "                count = subset[review_col].str.lower().str.count(rf'\\b{feature}\\b').sum()\n",
    "                feature_counts.append({\n",
    "                    'bank': bank,\n",
    "                    'feature': feature,\n",
    "                    'sentiment': sent,\n",
    "                    'count': count\n",
    "                })\n",
    "    return pd.DataFrame(feature_counts)\n",
    "\n",
    "# Usage:\n",
    "feature_counts_df = count_feature_mentions_by_sentiment(df, features)\n",
    "# Optional: Filter features with significant mentions\n",
    "popular_features = feature_counts_df[feature_counts_df['count'] > 5]\n",
    "print(popular_features)\n",
    "\n"
   ]
  },
  {
   "cell_type": "code",
   "execution_count": 8,
   "id": "f9b187b6",
   "metadata": {},
   "outputs": [
    {
     "data": {
      "application/vnd.plotly.v1+json": {
       "config": {
        "plotlyServerURL": "https://plot.ly"
       },
       "data": [
        {
         "alignmentgroup": "True",
         "hovertemplate": "Sentiment=POSITIVE<br>Feature=%{x}<br>Number of Mentions=%{y}<extra></extra>",
         "legendgroup": "POSITIVE",
         "marker": {
          "color": "#636efa",
          "pattern": {
           "shape": ""
          }
         },
         "name": "POSITIVE",
         "offsetgroup": "POSITIVE",
         "orientation": "v",
         "showlegend": true,
         "textposition": "auto",
         "type": "bar",
         "x": [
          "transfer",
          "security",
          "statement",
          "update"
         ],
         "xaxis": "x",
         "y": {
          "bdata": "EgwHFQ==",
          "dtype": "i1"
         },
         "yaxis": "y"
        },
        {
         "alignmentgroup": "True",
         "hovertemplate": "Sentiment=NEGATIVE<br>Feature=%{x}<br>Number of Mentions=%{y}<extra></extra>",
         "legendgroup": "NEGATIVE",
         "marker": {
          "color": "#EF553B",
          "pattern": {
           "shape": ""
          }
         },
         "name": "NEGATIVE",
         "offsetgroup": "NEGATIVE",
         "orientation": "v",
         "showlegend": true,
         "textposition": "auto",
         "type": "bar",
         "x": [
          "transfer",
          "notification",
          "security",
          "balance",
          "statement",
          "update",
          "customer service"
         ],
         "xaxis": "x",
         "y": {
          "bdata": "PgkUJxBtCw==",
          "dtype": "i1"
         },
         "yaxis": "y"
        }
       ],
       "layout": {
        "barmode": "group",
        "height": 400,
        "legend": {
         "title": {
          "text": "Sentiment"
         },
         "tracegroupgap": 0
        },
        "template": {
         "data": {
          "bar": [
           {
            "error_x": {
             "color": "#2a3f5f"
            },
            "error_y": {
             "color": "#2a3f5f"
            },
            "marker": {
             "line": {
              "color": "#E5ECF6",
              "width": 0.5
             },
             "pattern": {
              "fillmode": "overlay",
              "size": 10,
              "solidity": 0.2
             }
            },
            "type": "bar"
           }
          ],
          "barpolar": [
           {
            "marker": {
             "line": {
              "color": "#E5ECF6",
              "width": 0.5
             },
             "pattern": {
              "fillmode": "overlay",
              "size": 10,
              "solidity": 0.2
             }
            },
            "type": "barpolar"
           }
          ],
          "carpet": [
           {
            "aaxis": {
             "endlinecolor": "#2a3f5f",
             "gridcolor": "white",
             "linecolor": "white",
             "minorgridcolor": "white",
             "startlinecolor": "#2a3f5f"
            },
            "baxis": {
             "endlinecolor": "#2a3f5f",
             "gridcolor": "white",
             "linecolor": "white",
             "minorgridcolor": "white",
             "startlinecolor": "#2a3f5f"
            },
            "type": "carpet"
           }
          ],
          "choropleth": [
           {
            "colorbar": {
             "outlinewidth": 0,
             "ticks": ""
            },
            "type": "choropleth"
           }
          ],
          "contour": [
           {
            "colorbar": {
             "outlinewidth": 0,
             "ticks": ""
            },
            "colorscale": [
             [
              0,
              "#0d0887"
             ],
             [
              0.1111111111111111,
              "#46039f"
             ],
             [
              0.2222222222222222,
              "#7201a8"
             ],
             [
              0.3333333333333333,
              "#9c179e"
             ],
             [
              0.4444444444444444,
              "#bd3786"
             ],
             [
              0.5555555555555556,
              "#d8576b"
             ],
             [
              0.6666666666666666,
              "#ed7953"
             ],
             [
              0.7777777777777778,
              "#fb9f3a"
             ],
             [
              0.8888888888888888,
              "#fdca26"
             ],
             [
              1,
              "#f0f921"
             ]
            ],
            "type": "contour"
           }
          ],
          "contourcarpet": [
           {
            "colorbar": {
             "outlinewidth": 0,
             "ticks": ""
            },
            "type": "contourcarpet"
           }
          ],
          "heatmap": [
           {
            "colorbar": {
             "outlinewidth": 0,
             "ticks": ""
            },
            "colorscale": [
             [
              0,
              "#0d0887"
             ],
             [
              0.1111111111111111,
              "#46039f"
             ],
             [
              0.2222222222222222,
              "#7201a8"
             ],
             [
              0.3333333333333333,
              "#9c179e"
             ],
             [
              0.4444444444444444,
              "#bd3786"
             ],
             [
              0.5555555555555556,
              "#d8576b"
             ],
             [
              0.6666666666666666,
              "#ed7953"
             ],
             [
              0.7777777777777778,
              "#fb9f3a"
             ],
             [
              0.8888888888888888,
              "#fdca26"
             ],
             [
              1,
              "#f0f921"
             ]
            ],
            "type": "heatmap"
           }
          ],
          "histogram": [
           {
            "marker": {
             "pattern": {
              "fillmode": "overlay",
              "size": 10,
              "solidity": 0.2
             }
            },
            "type": "histogram"
           }
          ],
          "histogram2d": [
           {
            "colorbar": {
             "outlinewidth": 0,
             "ticks": ""
            },
            "colorscale": [
             [
              0,
              "#0d0887"
             ],
             [
              0.1111111111111111,
              "#46039f"
             ],
             [
              0.2222222222222222,
              "#7201a8"
             ],
             [
              0.3333333333333333,
              "#9c179e"
             ],
             [
              0.4444444444444444,
              "#bd3786"
             ],
             [
              0.5555555555555556,
              "#d8576b"
             ],
             [
              0.6666666666666666,
              "#ed7953"
             ],
             [
              0.7777777777777778,
              "#fb9f3a"
             ],
             [
              0.8888888888888888,
              "#fdca26"
             ],
             [
              1,
              "#f0f921"
             ]
            ],
            "type": "histogram2d"
           }
          ],
          "histogram2dcontour": [
           {
            "colorbar": {
             "outlinewidth": 0,
             "ticks": ""
            },
            "colorscale": [
             [
              0,
              "#0d0887"
             ],
             [
              0.1111111111111111,
              "#46039f"
             ],
             [
              0.2222222222222222,
              "#7201a8"
             ],
             [
              0.3333333333333333,
              "#9c179e"
             ],
             [
              0.4444444444444444,
              "#bd3786"
             ],
             [
              0.5555555555555556,
              "#d8576b"
             ],
             [
              0.6666666666666666,
              "#ed7953"
             ],
             [
              0.7777777777777778,
              "#fb9f3a"
             ],
             [
              0.8888888888888888,
              "#fdca26"
             ],
             [
              1,
              "#f0f921"
             ]
            ],
            "type": "histogram2dcontour"
           }
          ],
          "mesh3d": [
           {
            "colorbar": {
             "outlinewidth": 0,
             "ticks": ""
            },
            "type": "mesh3d"
           }
          ],
          "parcoords": [
           {
            "line": {
             "colorbar": {
              "outlinewidth": 0,
              "ticks": ""
             }
            },
            "type": "parcoords"
           }
          ],
          "pie": [
           {
            "automargin": true,
            "type": "pie"
           }
          ],
          "scatter": [
           {
            "fillpattern": {
             "fillmode": "overlay",
             "size": 10,
             "solidity": 0.2
            },
            "type": "scatter"
           }
          ],
          "scatter3d": [
           {
            "line": {
             "colorbar": {
              "outlinewidth": 0,
              "ticks": ""
             }
            },
            "marker": {
             "colorbar": {
              "outlinewidth": 0,
              "ticks": ""
             }
            },
            "type": "scatter3d"
           }
          ],
          "scattercarpet": [
           {
            "marker": {
             "colorbar": {
              "outlinewidth": 0,
              "ticks": ""
             }
            },
            "type": "scattercarpet"
           }
          ],
          "scattergeo": [
           {
            "marker": {
             "colorbar": {
              "outlinewidth": 0,
              "ticks": ""
             }
            },
            "type": "scattergeo"
           }
          ],
          "scattergl": [
           {
            "marker": {
             "colorbar": {
              "outlinewidth": 0,
              "ticks": ""
             }
            },
            "type": "scattergl"
           }
          ],
          "scattermap": [
           {
            "marker": {
             "colorbar": {
              "outlinewidth": 0,
              "ticks": ""
             }
            },
            "type": "scattermap"
           }
          ],
          "scattermapbox": [
           {
            "marker": {
             "colorbar": {
              "outlinewidth": 0,
              "ticks": ""
             }
            },
            "type": "scattermapbox"
           }
          ],
          "scatterpolar": [
           {
            "marker": {
             "colorbar": {
              "outlinewidth": 0,
              "ticks": ""
             }
            },
            "type": "scatterpolar"
           }
          ],
          "scatterpolargl": [
           {
            "marker": {
             "colorbar": {
              "outlinewidth": 0,
              "ticks": ""
             }
            },
            "type": "scatterpolargl"
           }
          ],
          "scatterternary": [
           {
            "marker": {
             "colorbar": {
              "outlinewidth": 0,
              "ticks": ""
             }
            },
            "type": "scatterternary"
           }
          ],
          "surface": [
           {
            "colorbar": {
             "outlinewidth": 0,
             "ticks": ""
            },
            "colorscale": [
             [
              0,
              "#0d0887"
             ],
             [
              0.1111111111111111,
              "#46039f"
             ],
             [
              0.2222222222222222,
              "#7201a8"
             ],
             [
              0.3333333333333333,
              "#9c179e"
             ],
             [
              0.4444444444444444,
              "#bd3786"
             ],
             [
              0.5555555555555556,
              "#d8576b"
             ],
             [
              0.6666666666666666,
              "#ed7953"
             ],
             [
              0.7777777777777778,
              "#fb9f3a"
             ],
             [
              0.8888888888888888,
              "#fdca26"
             ],
             [
              1,
              "#f0f921"
             ]
            ],
            "type": "surface"
           }
          ],
          "table": [
           {
            "cells": {
             "fill": {
              "color": "#EBF0F8"
             },
             "line": {
              "color": "white"
             }
            },
            "header": {
             "fill": {
              "color": "#C8D4E3"
             },
             "line": {
              "color": "white"
             }
            },
            "type": "table"
           }
          ]
         },
         "layout": {
          "annotationdefaults": {
           "arrowcolor": "#2a3f5f",
           "arrowhead": 0,
           "arrowwidth": 1
          },
          "autotypenumbers": "strict",
          "coloraxis": {
           "colorbar": {
            "outlinewidth": 0,
            "ticks": ""
           }
          },
          "colorscale": {
           "diverging": [
            [
             0,
             "#8e0152"
            ],
            [
             0.1,
             "#c51b7d"
            ],
            [
             0.2,
             "#de77ae"
            ],
            [
             0.3,
             "#f1b6da"
            ],
            [
             0.4,
             "#fde0ef"
            ],
            [
             0.5,
             "#f7f7f7"
            ],
            [
             0.6,
             "#e6f5d0"
            ],
            [
             0.7,
             "#b8e186"
            ],
            [
             0.8,
             "#7fbc41"
            ],
            [
             0.9,
             "#4d9221"
            ],
            [
             1,
             "#276419"
            ]
           ],
           "sequential": [
            [
             0,
             "#0d0887"
            ],
            [
             0.1111111111111111,
             "#46039f"
            ],
            [
             0.2222222222222222,
             "#7201a8"
            ],
            [
             0.3333333333333333,
             "#9c179e"
            ],
            [
             0.4444444444444444,
             "#bd3786"
            ],
            [
             0.5555555555555556,
             "#d8576b"
            ],
            [
             0.6666666666666666,
             "#ed7953"
            ],
            [
             0.7777777777777778,
             "#fb9f3a"
            ],
            [
             0.8888888888888888,
             "#fdca26"
            ],
            [
             1,
             "#f0f921"
            ]
           ],
           "sequentialminus": [
            [
             0,
             "#0d0887"
            ],
            [
             0.1111111111111111,
             "#46039f"
            ],
            [
             0.2222222222222222,
             "#7201a8"
            ],
            [
             0.3333333333333333,
             "#9c179e"
            ],
            [
             0.4444444444444444,
             "#bd3786"
            ],
            [
             0.5555555555555556,
             "#d8576b"
            ],
            [
             0.6666666666666666,
             "#ed7953"
            ],
            [
             0.7777777777777778,
             "#fb9f3a"
            ],
            [
             0.8888888888888888,
             "#fdca26"
            ],
            [
             1,
             "#f0f921"
            ]
           ]
          },
          "colorway": [
           "#636efa",
           "#EF553B",
           "#00cc96",
           "#ab63fa",
           "#FFA15A",
           "#19d3f3",
           "#FF6692",
           "#B6E880",
           "#FF97FF",
           "#FECB52"
          ],
          "font": {
           "color": "#2a3f5f"
          },
          "geo": {
           "bgcolor": "white",
           "lakecolor": "white",
           "landcolor": "#E5ECF6",
           "showlakes": true,
           "showland": true,
           "subunitcolor": "white"
          },
          "hoverlabel": {
           "align": "left"
          },
          "hovermode": "closest",
          "mapbox": {
           "style": "light"
          },
          "paper_bgcolor": "white",
          "plot_bgcolor": "#E5ECF6",
          "polar": {
           "angularaxis": {
            "gridcolor": "white",
            "linecolor": "white",
            "ticks": ""
           },
           "bgcolor": "#E5ECF6",
           "radialaxis": {
            "gridcolor": "white",
            "linecolor": "white",
            "ticks": ""
           }
          },
          "scene": {
           "xaxis": {
            "backgroundcolor": "#E5ECF6",
            "gridcolor": "white",
            "gridwidth": 2,
            "linecolor": "white",
            "showbackground": true,
            "ticks": "",
            "zerolinecolor": "white"
           },
           "yaxis": {
            "backgroundcolor": "#E5ECF6",
            "gridcolor": "white",
            "gridwidth": 2,
            "linecolor": "white",
            "showbackground": true,
            "ticks": "",
            "zerolinecolor": "white"
           },
           "zaxis": {
            "backgroundcolor": "#E5ECF6",
            "gridcolor": "white",
            "gridwidth": 2,
            "linecolor": "white",
            "showbackground": true,
            "ticks": "",
            "zerolinecolor": "white"
           }
          },
          "shapedefaults": {
           "line": {
            "color": "#2a3f5f"
           }
          },
          "ternary": {
           "aaxis": {
            "gridcolor": "white",
            "linecolor": "white",
            "ticks": ""
           },
           "baxis": {
            "gridcolor": "white",
            "linecolor": "white",
            "ticks": ""
           },
           "bgcolor": "#E5ECF6",
           "caxis": {
            "gridcolor": "white",
            "linecolor": "white",
            "ticks": ""
           }
          },
          "title": {
           "x": 0.05
          },
          "xaxis": {
           "automargin": true,
           "gridcolor": "white",
           "linecolor": "white",
           "ticks": "",
           "title": {
            "standoff": 15
           },
           "zerolinecolor": "white",
           "zerolinewidth": 2
          },
          "yaxis": {
           "automargin": true,
           "gridcolor": "white",
           "linecolor": "white",
           "ticks": "",
           "title": {
            "standoff": 15
           },
           "zerolinecolor": "white",
           "zerolinewidth": 2
          }
         }
        },
        "title": {
         "text": "Feature Mentions by Sentiment – CBE"
        },
        "width": 800,
        "xaxis": {
         "anchor": "y",
         "domain": [
          0,
          1
         ],
         "tickangle": -45,
         "title": {
          "text": "Feature"
         }
        },
        "yaxis": {
         "anchor": "x",
         "domain": [
          0,
          1
         ],
         "title": {
          "text": "Number of Mentions"
         }
        }
       }
      }
     },
     "metadata": {},
     "output_type": "display_data"
    },
    {
     "data": {
      "application/vnd.plotly.v1+json": {
       "config": {
        "plotlyServerURL": "https://plot.ly"
       },
       "data": [
        {
         "alignmentgroup": "True",
         "hovertemplate": "Sentiment=NEGATIVE<br>Feature=%{x}<br>Number of Mentions=%{y}<extra></extra>",
         "legendgroup": "NEGATIVE",
         "marker": {
          "color": "#636efa",
          "pattern": {
           "shape": ""
          }
         },
         "name": "NEGATIVE",
         "offsetgroup": "NEGATIVE",
         "orientation": "v",
         "showlegend": true,
         "textposition": "auto",
         "type": "bar",
         "x": [
          "transfer",
          "login",
          "loading",
          "security",
          "balance",
          "update"
         ],
         "xaxis": "x",
         "y": {
          "bdata": "DxUHCAcy",
          "dtype": "i1"
         },
         "yaxis": "y"
        }
       ],
       "layout": {
        "barmode": "group",
        "height": 400,
        "legend": {
         "title": {
          "text": "Sentiment"
         },
         "tracegroupgap": 0
        },
        "template": {
         "data": {
          "bar": [
           {
            "error_x": {
             "color": "#2a3f5f"
            },
            "error_y": {
             "color": "#2a3f5f"
            },
            "marker": {
             "line": {
              "color": "#E5ECF6",
              "width": 0.5
             },
             "pattern": {
              "fillmode": "overlay",
              "size": 10,
              "solidity": 0.2
             }
            },
            "type": "bar"
           }
          ],
          "barpolar": [
           {
            "marker": {
             "line": {
              "color": "#E5ECF6",
              "width": 0.5
             },
             "pattern": {
              "fillmode": "overlay",
              "size": 10,
              "solidity": 0.2
             }
            },
            "type": "barpolar"
           }
          ],
          "carpet": [
           {
            "aaxis": {
             "endlinecolor": "#2a3f5f",
             "gridcolor": "white",
             "linecolor": "white",
             "minorgridcolor": "white",
             "startlinecolor": "#2a3f5f"
            },
            "baxis": {
             "endlinecolor": "#2a3f5f",
             "gridcolor": "white",
             "linecolor": "white",
             "minorgridcolor": "white",
             "startlinecolor": "#2a3f5f"
            },
            "type": "carpet"
           }
          ],
          "choropleth": [
           {
            "colorbar": {
             "outlinewidth": 0,
             "ticks": ""
            },
            "type": "choropleth"
           }
          ],
          "contour": [
           {
            "colorbar": {
             "outlinewidth": 0,
             "ticks": ""
            },
            "colorscale": [
             [
              0,
              "#0d0887"
             ],
             [
              0.1111111111111111,
              "#46039f"
             ],
             [
              0.2222222222222222,
              "#7201a8"
             ],
             [
              0.3333333333333333,
              "#9c179e"
             ],
             [
              0.4444444444444444,
              "#bd3786"
             ],
             [
              0.5555555555555556,
              "#d8576b"
             ],
             [
              0.6666666666666666,
              "#ed7953"
             ],
             [
              0.7777777777777778,
              "#fb9f3a"
             ],
             [
              0.8888888888888888,
              "#fdca26"
             ],
             [
              1,
              "#f0f921"
             ]
            ],
            "type": "contour"
           }
          ],
          "contourcarpet": [
           {
            "colorbar": {
             "outlinewidth": 0,
             "ticks": ""
            },
            "type": "contourcarpet"
           }
          ],
          "heatmap": [
           {
            "colorbar": {
             "outlinewidth": 0,
             "ticks": ""
            },
            "colorscale": [
             [
              0,
              "#0d0887"
             ],
             [
              0.1111111111111111,
              "#46039f"
             ],
             [
              0.2222222222222222,
              "#7201a8"
             ],
             [
              0.3333333333333333,
              "#9c179e"
             ],
             [
              0.4444444444444444,
              "#bd3786"
             ],
             [
              0.5555555555555556,
              "#d8576b"
             ],
             [
              0.6666666666666666,
              "#ed7953"
             ],
             [
              0.7777777777777778,
              "#fb9f3a"
             ],
             [
              0.8888888888888888,
              "#fdca26"
             ],
             [
              1,
              "#f0f921"
             ]
            ],
            "type": "heatmap"
           }
          ],
          "histogram": [
           {
            "marker": {
             "pattern": {
              "fillmode": "overlay",
              "size": 10,
              "solidity": 0.2
             }
            },
            "type": "histogram"
           }
          ],
          "histogram2d": [
           {
            "colorbar": {
             "outlinewidth": 0,
             "ticks": ""
            },
            "colorscale": [
             [
              0,
              "#0d0887"
             ],
             [
              0.1111111111111111,
              "#46039f"
             ],
             [
              0.2222222222222222,
              "#7201a8"
             ],
             [
              0.3333333333333333,
              "#9c179e"
             ],
             [
              0.4444444444444444,
              "#bd3786"
             ],
             [
              0.5555555555555556,
              "#d8576b"
             ],
             [
              0.6666666666666666,
              "#ed7953"
             ],
             [
              0.7777777777777778,
              "#fb9f3a"
             ],
             [
              0.8888888888888888,
              "#fdca26"
             ],
             [
              1,
              "#f0f921"
             ]
            ],
            "type": "histogram2d"
           }
          ],
          "histogram2dcontour": [
           {
            "colorbar": {
             "outlinewidth": 0,
             "ticks": ""
            },
            "colorscale": [
             [
              0,
              "#0d0887"
             ],
             [
              0.1111111111111111,
              "#46039f"
             ],
             [
              0.2222222222222222,
              "#7201a8"
             ],
             [
              0.3333333333333333,
              "#9c179e"
             ],
             [
              0.4444444444444444,
              "#bd3786"
             ],
             [
              0.5555555555555556,
              "#d8576b"
             ],
             [
              0.6666666666666666,
              "#ed7953"
             ],
             [
              0.7777777777777778,
              "#fb9f3a"
             ],
             [
              0.8888888888888888,
              "#fdca26"
             ],
             [
              1,
              "#f0f921"
             ]
            ],
            "type": "histogram2dcontour"
           }
          ],
          "mesh3d": [
           {
            "colorbar": {
             "outlinewidth": 0,
             "ticks": ""
            },
            "type": "mesh3d"
           }
          ],
          "parcoords": [
           {
            "line": {
             "colorbar": {
              "outlinewidth": 0,
              "ticks": ""
             }
            },
            "type": "parcoords"
           }
          ],
          "pie": [
           {
            "automargin": true,
            "type": "pie"
           }
          ],
          "scatter": [
           {
            "fillpattern": {
             "fillmode": "overlay",
             "size": 10,
             "solidity": 0.2
            },
            "type": "scatter"
           }
          ],
          "scatter3d": [
           {
            "line": {
             "colorbar": {
              "outlinewidth": 0,
              "ticks": ""
             }
            },
            "marker": {
             "colorbar": {
              "outlinewidth": 0,
              "ticks": ""
             }
            },
            "type": "scatter3d"
           }
          ],
          "scattercarpet": [
           {
            "marker": {
             "colorbar": {
              "outlinewidth": 0,
              "ticks": ""
             }
            },
            "type": "scattercarpet"
           }
          ],
          "scattergeo": [
           {
            "marker": {
             "colorbar": {
              "outlinewidth": 0,
              "ticks": ""
             }
            },
            "type": "scattergeo"
           }
          ],
          "scattergl": [
           {
            "marker": {
             "colorbar": {
              "outlinewidth": 0,
              "ticks": ""
             }
            },
            "type": "scattergl"
           }
          ],
          "scattermap": [
           {
            "marker": {
             "colorbar": {
              "outlinewidth": 0,
              "ticks": ""
             }
            },
            "type": "scattermap"
           }
          ],
          "scattermapbox": [
           {
            "marker": {
             "colorbar": {
              "outlinewidth": 0,
              "ticks": ""
             }
            },
            "type": "scattermapbox"
           }
          ],
          "scatterpolar": [
           {
            "marker": {
             "colorbar": {
              "outlinewidth": 0,
              "ticks": ""
             }
            },
            "type": "scatterpolar"
           }
          ],
          "scatterpolargl": [
           {
            "marker": {
             "colorbar": {
              "outlinewidth": 0,
              "ticks": ""
             }
            },
            "type": "scatterpolargl"
           }
          ],
          "scatterternary": [
           {
            "marker": {
             "colorbar": {
              "outlinewidth": 0,
              "ticks": ""
             }
            },
            "type": "scatterternary"
           }
          ],
          "surface": [
           {
            "colorbar": {
             "outlinewidth": 0,
             "ticks": ""
            },
            "colorscale": [
             [
              0,
              "#0d0887"
             ],
             [
              0.1111111111111111,
              "#46039f"
             ],
             [
              0.2222222222222222,
              "#7201a8"
             ],
             [
              0.3333333333333333,
              "#9c179e"
             ],
             [
              0.4444444444444444,
              "#bd3786"
             ],
             [
              0.5555555555555556,
              "#d8576b"
             ],
             [
              0.6666666666666666,
              "#ed7953"
             ],
             [
              0.7777777777777778,
              "#fb9f3a"
             ],
             [
              0.8888888888888888,
              "#fdca26"
             ],
             [
              1,
              "#f0f921"
             ]
            ],
            "type": "surface"
           }
          ],
          "table": [
           {
            "cells": {
             "fill": {
              "color": "#EBF0F8"
             },
             "line": {
              "color": "white"
             }
            },
            "header": {
             "fill": {
              "color": "#C8D4E3"
             },
             "line": {
              "color": "white"
             }
            },
            "type": "table"
           }
          ]
         },
         "layout": {
          "annotationdefaults": {
           "arrowcolor": "#2a3f5f",
           "arrowhead": 0,
           "arrowwidth": 1
          },
          "autotypenumbers": "strict",
          "coloraxis": {
           "colorbar": {
            "outlinewidth": 0,
            "ticks": ""
           }
          },
          "colorscale": {
           "diverging": [
            [
             0,
             "#8e0152"
            ],
            [
             0.1,
             "#c51b7d"
            ],
            [
             0.2,
             "#de77ae"
            ],
            [
             0.3,
             "#f1b6da"
            ],
            [
             0.4,
             "#fde0ef"
            ],
            [
             0.5,
             "#f7f7f7"
            ],
            [
             0.6,
             "#e6f5d0"
            ],
            [
             0.7,
             "#b8e186"
            ],
            [
             0.8,
             "#7fbc41"
            ],
            [
             0.9,
             "#4d9221"
            ],
            [
             1,
             "#276419"
            ]
           ],
           "sequential": [
            [
             0,
             "#0d0887"
            ],
            [
             0.1111111111111111,
             "#46039f"
            ],
            [
             0.2222222222222222,
             "#7201a8"
            ],
            [
             0.3333333333333333,
             "#9c179e"
            ],
            [
             0.4444444444444444,
             "#bd3786"
            ],
            [
             0.5555555555555556,
             "#d8576b"
            ],
            [
             0.6666666666666666,
             "#ed7953"
            ],
            [
             0.7777777777777778,
             "#fb9f3a"
            ],
            [
             0.8888888888888888,
             "#fdca26"
            ],
            [
             1,
             "#f0f921"
            ]
           ],
           "sequentialminus": [
            [
             0,
             "#0d0887"
            ],
            [
             0.1111111111111111,
             "#46039f"
            ],
            [
             0.2222222222222222,
             "#7201a8"
            ],
            [
             0.3333333333333333,
             "#9c179e"
            ],
            [
             0.4444444444444444,
             "#bd3786"
            ],
            [
             0.5555555555555556,
             "#d8576b"
            ],
            [
             0.6666666666666666,
             "#ed7953"
            ],
            [
             0.7777777777777778,
             "#fb9f3a"
            ],
            [
             0.8888888888888888,
             "#fdca26"
            ],
            [
             1,
             "#f0f921"
            ]
           ]
          },
          "colorway": [
           "#636efa",
           "#EF553B",
           "#00cc96",
           "#ab63fa",
           "#FFA15A",
           "#19d3f3",
           "#FF6692",
           "#B6E880",
           "#FF97FF",
           "#FECB52"
          ],
          "font": {
           "color": "#2a3f5f"
          },
          "geo": {
           "bgcolor": "white",
           "lakecolor": "white",
           "landcolor": "#E5ECF6",
           "showlakes": true,
           "showland": true,
           "subunitcolor": "white"
          },
          "hoverlabel": {
           "align": "left"
          },
          "hovermode": "closest",
          "mapbox": {
           "style": "light"
          },
          "paper_bgcolor": "white",
          "plot_bgcolor": "#E5ECF6",
          "polar": {
           "angularaxis": {
            "gridcolor": "white",
            "linecolor": "white",
            "ticks": ""
           },
           "bgcolor": "#E5ECF6",
           "radialaxis": {
            "gridcolor": "white",
            "linecolor": "white",
            "ticks": ""
           }
          },
          "scene": {
           "xaxis": {
            "backgroundcolor": "#E5ECF6",
            "gridcolor": "white",
            "gridwidth": 2,
            "linecolor": "white",
            "showbackground": true,
            "ticks": "",
            "zerolinecolor": "white"
           },
           "yaxis": {
            "backgroundcolor": "#E5ECF6",
            "gridcolor": "white",
            "gridwidth": 2,
            "linecolor": "white",
            "showbackground": true,
            "ticks": "",
            "zerolinecolor": "white"
           },
           "zaxis": {
            "backgroundcolor": "#E5ECF6",
            "gridcolor": "white",
            "gridwidth": 2,
            "linecolor": "white",
            "showbackground": true,
            "ticks": "",
            "zerolinecolor": "white"
           }
          },
          "shapedefaults": {
           "line": {
            "color": "#2a3f5f"
           }
          },
          "ternary": {
           "aaxis": {
            "gridcolor": "white",
            "linecolor": "white",
            "ticks": ""
           },
           "baxis": {
            "gridcolor": "white",
            "linecolor": "white",
            "ticks": ""
           },
           "bgcolor": "#E5ECF6",
           "caxis": {
            "gridcolor": "white",
            "linecolor": "white",
            "ticks": ""
           }
          },
          "title": {
           "x": 0.05
          },
          "xaxis": {
           "automargin": true,
           "gridcolor": "white",
           "linecolor": "white",
           "ticks": "",
           "title": {
            "standoff": 15
           },
           "zerolinecolor": "white",
           "zerolinewidth": 2
          },
          "yaxis": {
           "automargin": true,
           "gridcolor": "white",
           "linecolor": "white",
           "ticks": "",
           "title": {
            "standoff": 15
           },
           "zerolinecolor": "white",
           "zerolinewidth": 2
          }
         }
        },
        "title": {
         "text": "Feature Mentions by Sentiment – BOA"
        },
        "width": 800,
        "xaxis": {
         "anchor": "y",
         "domain": [
          0,
          1
         ],
         "tickangle": -45,
         "title": {
          "text": "Feature"
         }
        },
        "yaxis": {
         "anchor": "x",
         "domain": [
          0,
          1
         ],
         "title": {
          "text": "Number of Mentions"
         }
        }
       }
      }
     },
     "metadata": {},
     "output_type": "display_data"
    },
    {
     "data": {
      "application/vnd.plotly.v1+json": {
       "config": {
        "plotlyServerURL": "https://plot.ly"
       },
       "data": [
        {
         "alignmentgroup": "True",
         "hovertemplate": "Sentiment=POSITIVE<br>Feature=%{x}<br>Number of Mentions=%{y}<extra></extra>",
         "legendgroup": "POSITIVE",
         "marker": {
          "color": "#636efa",
          "pattern": {
           "shape": ""
          }
         },
         "name": "POSITIVE",
         "offsetgroup": "POSITIVE",
         "orientation": "v",
         "showlegend": true,
         "textposition": "auto",
         "type": "bar",
         "x": [
          "security"
         ],
         "xaxis": "x",
         "y": {
          "bdata": "CQ==",
          "dtype": "i1"
         },
         "yaxis": "y"
        }
       ],
       "layout": {
        "barmode": "group",
        "height": 400,
        "legend": {
         "title": {
          "text": "Sentiment"
         },
         "tracegroupgap": 0
        },
        "template": {
         "data": {
          "bar": [
           {
            "error_x": {
             "color": "#2a3f5f"
            },
            "error_y": {
             "color": "#2a3f5f"
            },
            "marker": {
             "line": {
              "color": "#E5ECF6",
              "width": 0.5
             },
             "pattern": {
              "fillmode": "overlay",
              "size": 10,
              "solidity": 0.2
             }
            },
            "type": "bar"
           }
          ],
          "barpolar": [
           {
            "marker": {
             "line": {
              "color": "#E5ECF6",
              "width": 0.5
             },
             "pattern": {
              "fillmode": "overlay",
              "size": 10,
              "solidity": 0.2
             }
            },
            "type": "barpolar"
           }
          ],
          "carpet": [
           {
            "aaxis": {
             "endlinecolor": "#2a3f5f",
             "gridcolor": "white",
             "linecolor": "white",
             "minorgridcolor": "white",
             "startlinecolor": "#2a3f5f"
            },
            "baxis": {
             "endlinecolor": "#2a3f5f",
             "gridcolor": "white",
             "linecolor": "white",
             "minorgridcolor": "white",
             "startlinecolor": "#2a3f5f"
            },
            "type": "carpet"
           }
          ],
          "choropleth": [
           {
            "colorbar": {
             "outlinewidth": 0,
             "ticks": ""
            },
            "type": "choropleth"
           }
          ],
          "contour": [
           {
            "colorbar": {
             "outlinewidth": 0,
             "ticks": ""
            },
            "colorscale": [
             [
              0,
              "#0d0887"
             ],
             [
              0.1111111111111111,
              "#46039f"
             ],
             [
              0.2222222222222222,
              "#7201a8"
             ],
             [
              0.3333333333333333,
              "#9c179e"
             ],
             [
              0.4444444444444444,
              "#bd3786"
             ],
             [
              0.5555555555555556,
              "#d8576b"
             ],
             [
              0.6666666666666666,
              "#ed7953"
             ],
             [
              0.7777777777777778,
              "#fb9f3a"
             ],
             [
              0.8888888888888888,
              "#fdca26"
             ],
             [
              1,
              "#f0f921"
             ]
            ],
            "type": "contour"
           }
          ],
          "contourcarpet": [
           {
            "colorbar": {
             "outlinewidth": 0,
             "ticks": ""
            },
            "type": "contourcarpet"
           }
          ],
          "heatmap": [
           {
            "colorbar": {
             "outlinewidth": 0,
             "ticks": ""
            },
            "colorscale": [
             [
              0,
              "#0d0887"
             ],
             [
              0.1111111111111111,
              "#46039f"
             ],
             [
              0.2222222222222222,
              "#7201a8"
             ],
             [
              0.3333333333333333,
              "#9c179e"
             ],
             [
              0.4444444444444444,
              "#bd3786"
             ],
             [
              0.5555555555555556,
              "#d8576b"
             ],
             [
              0.6666666666666666,
              "#ed7953"
             ],
             [
              0.7777777777777778,
              "#fb9f3a"
             ],
             [
              0.8888888888888888,
              "#fdca26"
             ],
             [
              1,
              "#f0f921"
             ]
            ],
            "type": "heatmap"
           }
          ],
          "histogram": [
           {
            "marker": {
             "pattern": {
              "fillmode": "overlay",
              "size": 10,
              "solidity": 0.2
             }
            },
            "type": "histogram"
           }
          ],
          "histogram2d": [
           {
            "colorbar": {
             "outlinewidth": 0,
             "ticks": ""
            },
            "colorscale": [
             [
              0,
              "#0d0887"
             ],
             [
              0.1111111111111111,
              "#46039f"
             ],
             [
              0.2222222222222222,
              "#7201a8"
             ],
             [
              0.3333333333333333,
              "#9c179e"
             ],
             [
              0.4444444444444444,
              "#bd3786"
             ],
             [
              0.5555555555555556,
              "#d8576b"
             ],
             [
              0.6666666666666666,
              "#ed7953"
             ],
             [
              0.7777777777777778,
              "#fb9f3a"
             ],
             [
              0.8888888888888888,
              "#fdca26"
             ],
             [
              1,
              "#f0f921"
             ]
            ],
            "type": "histogram2d"
           }
          ],
          "histogram2dcontour": [
           {
            "colorbar": {
             "outlinewidth": 0,
             "ticks": ""
            },
            "colorscale": [
             [
              0,
              "#0d0887"
             ],
             [
              0.1111111111111111,
              "#46039f"
             ],
             [
              0.2222222222222222,
              "#7201a8"
             ],
             [
              0.3333333333333333,
              "#9c179e"
             ],
             [
              0.4444444444444444,
              "#bd3786"
             ],
             [
              0.5555555555555556,
              "#d8576b"
             ],
             [
              0.6666666666666666,
              "#ed7953"
             ],
             [
              0.7777777777777778,
              "#fb9f3a"
             ],
             [
              0.8888888888888888,
              "#fdca26"
             ],
             [
              1,
              "#f0f921"
             ]
            ],
            "type": "histogram2dcontour"
           }
          ],
          "mesh3d": [
           {
            "colorbar": {
             "outlinewidth": 0,
             "ticks": ""
            },
            "type": "mesh3d"
           }
          ],
          "parcoords": [
           {
            "line": {
             "colorbar": {
              "outlinewidth": 0,
              "ticks": ""
             }
            },
            "type": "parcoords"
           }
          ],
          "pie": [
           {
            "automargin": true,
            "type": "pie"
           }
          ],
          "scatter": [
           {
            "fillpattern": {
             "fillmode": "overlay",
             "size": 10,
             "solidity": 0.2
            },
            "type": "scatter"
           }
          ],
          "scatter3d": [
           {
            "line": {
             "colorbar": {
              "outlinewidth": 0,
              "ticks": ""
             }
            },
            "marker": {
             "colorbar": {
              "outlinewidth": 0,
              "ticks": ""
             }
            },
            "type": "scatter3d"
           }
          ],
          "scattercarpet": [
           {
            "marker": {
             "colorbar": {
              "outlinewidth": 0,
              "ticks": ""
             }
            },
            "type": "scattercarpet"
           }
          ],
          "scattergeo": [
           {
            "marker": {
             "colorbar": {
              "outlinewidth": 0,
              "ticks": ""
             }
            },
            "type": "scattergeo"
           }
          ],
          "scattergl": [
           {
            "marker": {
             "colorbar": {
              "outlinewidth": 0,
              "ticks": ""
             }
            },
            "type": "scattergl"
           }
          ],
          "scattermap": [
           {
            "marker": {
             "colorbar": {
              "outlinewidth": 0,
              "ticks": ""
             }
            },
            "type": "scattermap"
           }
          ],
          "scattermapbox": [
           {
            "marker": {
             "colorbar": {
              "outlinewidth": 0,
              "ticks": ""
             }
            },
            "type": "scattermapbox"
           }
          ],
          "scatterpolar": [
           {
            "marker": {
             "colorbar": {
              "outlinewidth": 0,
              "ticks": ""
             }
            },
            "type": "scatterpolar"
           }
          ],
          "scatterpolargl": [
           {
            "marker": {
             "colorbar": {
              "outlinewidth": 0,
              "ticks": ""
             }
            },
            "type": "scatterpolargl"
           }
          ],
          "scatterternary": [
           {
            "marker": {
             "colorbar": {
              "outlinewidth": 0,
              "ticks": ""
             }
            },
            "type": "scatterternary"
           }
          ],
          "surface": [
           {
            "colorbar": {
             "outlinewidth": 0,
             "ticks": ""
            },
            "colorscale": [
             [
              0,
              "#0d0887"
             ],
             [
              0.1111111111111111,
              "#46039f"
             ],
             [
              0.2222222222222222,
              "#7201a8"
             ],
             [
              0.3333333333333333,
              "#9c179e"
             ],
             [
              0.4444444444444444,
              "#bd3786"
             ],
             [
              0.5555555555555556,
              "#d8576b"
             ],
             [
              0.6666666666666666,
              "#ed7953"
             ],
             [
              0.7777777777777778,
              "#fb9f3a"
             ],
             [
              0.8888888888888888,
              "#fdca26"
             ],
             [
              1,
              "#f0f921"
             ]
            ],
            "type": "surface"
           }
          ],
          "table": [
           {
            "cells": {
             "fill": {
              "color": "#EBF0F8"
             },
             "line": {
              "color": "white"
             }
            },
            "header": {
             "fill": {
              "color": "#C8D4E3"
             },
             "line": {
              "color": "white"
             }
            },
            "type": "table"
           }
          ]
         },
         "layout": {
          "annotationdefaults": {
           "arrowcolor": "#2a3f5f",
           "arrowhead": 0,
           "arrowwidth": 1
          },
          "autotypenumbers": "strict",
          "coloraxis": {
           "colorbar": {
            "outlinewidth": 0,
            "ticks": ""
           }
          },
          "colorscale": {
           "diverging": [
            [
             0,
             "#8e0152"
            ],
            [
             0.1,
             "#c51b7d"
            ],
            [
             0.2,
             "#de77ae"
            ],
            [
             0.3,
             "#f1b6da"
            ],
            [
             0.4,
             "#fde0ef"
            ],
            [
             0.5,
             "#f7f7f7"
            ],
            [
             0.6,
             "#e6f5d0"
            ],
            [
             0.7,
             "#b8e186"
            ],
            [
             0.8,
             "#7fbc41"
            ],
            [
             0.9,
             "#4d9221"
            ],
            [
             1,
             "#276419"
            ]
           ],
           "sequential": [
            [
             0,
             "#0d0887"
            ],
            [
             0.1111111111111111,
             "#46039f"
            ],
            [
             0.2222222222222222,
             "#7201a8"
            ],
            [
             0.3333333333333333,
             "#9c179e"
            ],
            [
             0.4444444444444444,
             "#bd3786"
            ],
            [
             0.5555555555555556,
             "#d8576b"
            ],
            [
             0.6666666666666666,
             "#ed7953"
            ],
            [
             0.7777777777777778,
             "#fb9f3a"
            ],
            [
             0.8888888888888888,
             "#fdca26"
            ],
            [
             1,
             "#f0f921"
            ]
           ],
           "sequentialminus": [
            [
             0,
             "#0d0887"
            ],
            [
             0.1111111111111111,
             "#46039f"
            ],
            [
             0.2222222222222222,
             "#7201a8"
            ],
            [
             0.3333333333333333,
             "#9c179e"
            ],
            [
             0.4444444444444444,
             "#bd3786"
            ],
            [
             0.5555555555555556,
             "#d8576b"
            ],
            [
             0.6666666666666666,
             "#ed7953"
            ],
            [
             0.7777777777777778,
             "#fb9f3a"
            ],
            [
             0.8888888888888888,
             "#fdca26"
            ],
            [
             1,
             "#f0f921"
            ]
           ]
          },
          "colorway": [
           "#636efa",
           "#EF553B",
           "#00cc96",
           "#ab63fa",
           "#FFA15A",
           "#19d3f3",
           "#FF6692",
           "#B6E880",
           "#FF97FF",
           "#FECB52"
          ],
          "font": {
           "color": "#2a3f5f"
          },
          "geo": {
           "bgcolor": "white",
           "lakecolor": "white",
           "landcolor": "#E5ECF6",
           "showlakes": true,
           "showland": true,
           "subunitcolor": "white"
          },
          "hoverlabel": {
           "align": "left"
          },
          "hovermode": "closest",
          "mapbox": {
           "style": "light"
          },
          "paper_bgcolor": "white",
          "plot_bgcolor": "#E5ECF6",
          "polar": {
           "angularaxis": {
            "gridcolor": "white",
            "linecolor": "white",
            "ticks": ""
           },
           "bgcolor": "#E5ECF6",
           "radialaxis": {
            "gridcolor": "white",
            "linecolor": "white",
            "ticks": ""
           }
          },
          "scene": {
           "xaxis": {
            "backgroundcolor": "#E5ECF6",
            "gridcolor": "white",
            "gridwidth": 2,
            "linecolor": "white",
            "showbackground": true,
            "ticks": "",
            "zerolinecolor": "white"
           },
           "yaxis": {
            "backgroundcolor": "#E5ECF6",
            "gridcolor": "white",
            "gridwidth": 2,
            "linecolor": "white",
            "showbackground": true,
            "ticks": "",
            "zerolinecolor": "white"
           },
           "zaxis": {
            "backgroundcolor": "#E5ECF6",
            "gridcolor": "white",
            "gridwidth": 2,
            "linecolor": "white",
            "showbackground": true,
            "ticks": "",
            "zerolinecolor": "white"
           }
          },
          "shapedefaults": {
           "line": {
            "color": "#2a3f5f"
           }
          },
          "ternary": {
           "aaxis": {
            "gridcolor": "white",
            "linecolor": "white",
            "ticks": ""
           },
           "baxis": {
            "gridcolor": "white",
            "linecolor": "white",
            "ticks": ""
           },
           "bgcolor": "#E5ECF6",
           "caxis": {
            "gridcolor": "white",
            "linecolor": "white",
            "ticks": ""
           }
          },
          "title": {
           "x": 0.05
          },
          "xaxis": {
           "automargin": true,
           "gridcolor": "white",
           "linecolor": "white",
           "ticks": "",
           "title": {
            "standoff": 15
           },
           "zerolinecolor": "white",
           "zerolinewidth": 2
          },
          "yaxis": {
           "automargin": true,
           "gridcolor": "white",
           "linecolor": "white",
           "ticks": "",
           "title": {
            "standoff": 15
           },
           "zerolinecolor": "white",
           "zerolinewidth": 2
          }
         }
        },
        "title": {
         "text": "Feature Mentions by Sentiment – Dashen"
        },
        "width": 800,
        "xaxis": {
         "anchor": "y",
         "domain": [
          0,
          1
         ],
         "tickangle": -45,
         "title": {
          "text": "Feature"
         }
        },
        "yaxis": {
         "anchor": "x",
         "domain": [
          0,
          1
         ],
         "title": {
          "text": "Number of Mentions"
         }
        }
       }
      }
     },
     "metadata": {},
     "output_type": "display_data"
    }
   ],
   "source": [
    "import plotly.express as px\n",
    "\n",
    "def plot_feature_sentiment_counts(feature_counts_df, min_count=5):\n",
    "    # Filter to show only features with significant mentions\n",
    "    filtered = feature_counts_df[feature_counts_df['count'] > min_count]\n",
    "    banks = filtered['bank'].unique()\n",
    "    for bank in banks:\n",
    "        data = filtered[filtered['bank'] == bank]\n",
    "        fig = px.bar(\n",
    "            data,\n",
    "            x='feature',\n",
    "            y='count',\n",
    "            color='sentiment',\n",
    "            barmode='group',\n",
    "            title=f\"Feature Mentions by Sentiment – {bank}\",\n",
    "            labels={'count': 'Number of Mentions', 'feature': 'Feature', 'sentiment': 'Sentiment'},\n",
    "            height=400,\n",
    "            width=800\n",
    "        )\n",
    "        fig.update_layout(xaxis_tickangle=-45)\n",
    "        fig.show()\n",
    "\n",
    "# Usage:\n",
    "plot_feature_sentiment_counts(feature_counts_df)\n"
   ]
  },
  {
   "cell_type": "code",
   "execution_count": 13,
   "id": "293a059e",
   "metadata": {},
   "outputs": [
    {
     "data": {
      "image/png": "[encoded data removed]",
      "text/plain": [
       "<Figure size 1000x600 with 1 Axes>"
      ]
     },
     "metadata": {},
     "output_type": "display_data"
    }
   ],
   "source": [
    "import matplotlib.pyplot as plt\n",
    "\n",
    "# Calculate sentiment counts per bank\n",
    "sentiment_by_bank = df.groupby(['bank', 'distilbert_sentiment']).size().unstack().fillna(0)\n",
    "\n",
    "# Compute percentages per bank\n",
    "sentiment_percentages = sentiment_by_bank.div(sentiment_by_bank.sum(axis=1), axis=0) * 100\n",
    "\n",
    "# Plot percentage stacked bar chart\n",
    "ax = sentiment_percentages.plot(kind='bar', stacked=True, figsize=(10, 6))\n",
    "\n",
    "# Adding labels on each segment\n",
    "for container in ax.containers:\n",
    "    ax.bar_label(container, fmt='%.1f%%', label_type='center', fontsize=8, color='white')\n",
    "\n",
    "# Plot aesthetics\n",
    "plt.title('Sentiment Percentage Distribution by Bank')\n",
    "plt.ylabel('Percentage of Reviews (%)')\n",
    "plt.xlabel('Bank')\n",
    "plt.legend(title='distilbert_sentiment', bbox_to_anchor=(1.05, 1), loc='upper left')\n",
    "\n",
    "plt.tight_layout()\n",
    "plt.show()\n",
    "\n"
   ]
  },
  {
   "cell_type": "code",
   "execution_count": 10,
   "id": "4c9b798f",
   "metadata": {},
   "outputs": [
    {
     "data": {
      "application/vnd.plotly.v1+json": {
       "config": {
        "plotlyServerURL": "https://plot.ly"
       },
       "data": [
        {
         "alignmentgroup": "True",
         "boxpoints": "all",
         "customdata": {
          "bdata": "swCTASQEiACTAZMBbwAkBJMBkwEkBLMAJARvACQEiAAkBLMAJAQkBCQEJAQkBG8AJAQkBLMAJASTASQEJAQkBJMBswCIALMAkwEkBCQEJASTAZMBJAQkBCQEswAkBG8AkwEkBJMBJAQkBCQEJAQkBJMBJAQkBG8AswCTASQEJAQkBIgAJASTASQEJASTASQEkwEkBCQEkwFvALMAJASTASQEkwEkBCQEJAQkBJMBkwEkBCQEJAQkBLMAJASTASQEJASzACQEJAQkBCQEJASTAZMBkwEkBCQEbwAkBCQEswBvACQEkwEkBCQEkwGIACQEJAQkBIgAJAQkBCQEJAQkBCQEiAAkBJMBiACzACQEJASTAbMAiAAkBCQEswCTASQEbwAkBCQEswAkBG8AkwGTAbMAJAQkBIgAswAkBCQEJAQkBJMBJAQkBCQEJAQkBLMAJASzACQEJASzACQEJAQkBJMBJAQkBLMAswCzACQEswAkBLMAJAQkBCQEJAQkBCQEJAQkBCQEswCzACQEJASzALMAJAQkBCQEJAQkBLMAiAAkBCQEJAQkBIgAJAQkBCQEiAAkBCQEJASTASQEJASzAJMBJASTAZMBbwCTASQEJAQkBIgAJAQkBCQEbwCzAIgAswAkBCQEkwGTASQEJAQkBCQEJASzAG8AJASTASQEJAQkBJMBJASTASQEiACTAYgAkwEkBCQEswCIALMAswCTASQEiACTAW8AswAkBCQEswCIACQEswAkBIgAJAQkBCQEJASTASQEJAQkBCQEJAQkBCQEkwGTASQEJASTASQEkwEkBIgAJAQkBJMBJAQkBCQEJAQkBG8AkwEkBCQEJASTAW8AswAkBCQEJAQkBJMBbwCTASQEJASIAIgAJAQkBCQEkwFvACQEJAQkBCQEJAQkBJMBiABvACQEJASTAbMAJASTAbMAiAAkBCQEiAAkBJMBJASTAZMBJARvACQEJASIACQEkwEkBCQEJAQkBJMBJAQkBCQEbwAkBCQEJAQkBJMBJASTAW8AJAQkBCQEiACIAJMBJAQkBJMBkwEkBLMAJASIAG8AkwEkBIgAJARvACQEJASIACQEJASzAJMBkwGTASQEJAQkBIgAJASTASQEJAQkBCQEJASTAZMBJASzACQEJASTASQEiACzAJMBkwEkBCQEkwGTASQEkwGTAZMBswAkBLMAkwFvACQEiACTAZMBJASTASQEbwAkBCQEJAQkBJMBkwEkBCQEbwBvACQEJASTAYgAJASzAG8AbwBvACQEbwCTASQEJARvAJMBJAQkBCQEJAQkBJMBkwGTASQEswAkBIgAJAQkBCQEkwGTAW8AkwEkBJMBJASTAbMAJAQkBJMBJAQkBCQEJASTASQEbwAkBCQEJAQkBJMBswCTASQEkwFvAG8AJARvACQEiAAkBCQEJAQkBCQEJASTASQEkwGTAZMBJASzAJMBJARvACQEkwGzAJMBbwCTAZMBkwFvACQEbwAkBJMBkwEkBCQEJAQkBLMAJARvAJMBJAQkBCQEswCTAZMBkwGTASQEJAQkBCQEswCTAYgAbwCzALMAswAkBLMAkwEkBJMBJASzAJMBkwEkBJMBJASTASQEkwFvAJMBJAQkBJMBJARvALMAkwEkBIgAJAQkBCQEJAQkBCQEswAkBCQEkwEkBJMBkwEkBLMAkwGTASQEJAQkBG8AJAQkBCQEJAQkBJMBJAQkBCQEJAQkBCQEkwGzACQEkwEkBCQEJAQkBLMAJASTASQEkwGTASQEJAQkBJMBJAQkBIgAswAkBCQEkwEkBCQEJASTAbMAswCTASQEkwEkBCQEJASzACQEkwGTASQEJASTASQEJAQkBCQEiAAkBJMBswAkBJMBkwEkBCQEJAQkBCQEJAQkBCQEJAQkBCQEJASzACQEbwAkBJMBswBvACQEswCIACQEJASzACQEJASTAW8AiACTASQEJAQkBCQEswAkBCQEJAQkBLMAJAQkBCQEJAQkBCQEswAkBCQEbwAkBCQEbwBvACQEJARvALMAkwEkBCQEJAQkBJMBJAQkBCQEJAQkBCQEJAQkBLMAJAQkBCQEJAQkBCQEJASzACQEbwAkBCQEkwGTASQEJAQkBJMBkwGzAIgAkwGTAYgAJASzACQEJASIAG8AJASIACQEswCTASQEJAQkBCQEbwAkBJMBJAQkBG8AJAQkBLMAJAQkBCQEiAAkBLMAJAQkBIgAkwEkBCQEJAQkBCQEswAkBCQEJASTASQEkwEkBCQEJAQkBLMAJAQkBCQEJAQkBIgAJAQkBG8AJAQkBJMBkwEkBJMBkwEkBCQEJASTASQEJASIACQEiACzAJMBkwGTAbMAbwCTASQEkwGIACQEJASTAYgAJASzACQEJAQkBIgAiAAkBJMBJASTASQEJASTASQEJASIACQEbwAkBCQEswAkBCQEswAkBJMBJASTASQEkwEkBG8AJAQkBCQEkwEkBCQEJASTASQEJAQkBCQEbwAkBJMBkwGTAZMBJAQkBIgAJAQkBCQEkwGzALMAiACTAW8AkwEkBCQEJAQkBCQEbwAkBCQEkwEkBLMAJAQkBLMAJAQkBCQEJARvACQEJAQkBJMBJAQkBCQEJAQkBJMBJAQkBCQEJASzACQEkwEkBLMAJAQkBCQEJASTASQEkwEkBG8AkwEkBCQEJAQkBCQEJASIACQEJAQkBCQEJAQkBJMBJASTASQEJASTASQEkwEkBCQEJAQkBCQEJAQkBCQEswAkBCQEJAQkBJMBswCTAZMBkwEkBG8AkwEkBCQEkwEkBCQEJAQkBCQEJAQkBCQEswAkBCQEiABvACQEkwEkBCQEkwEkBCQEJAQkBCQEiAAkBCQEJASIAJMBkwEkBCQEJASzAIgAJAQkBCQEbwAkBCQEkwEkBCQEJASTASQEJASIACQEJARvACQEiACzACQEJASTASQEJAQkBCQEJAQkBCQEJARvACQEJASTASQEJAQkBJMBJAQkBCQEkwGTAYgAiACTASQEJASTAbMAkwEkBCQEJAQkBIgAJASzACQEJASzACQEJAQkBJMBswAkBCQEJARvALMAJASTAYgAkwGIAJMBbwAkBCQEswAkBCQEJAQkBLMAswAkBCQEJARvACQEJAQkBJMBJARvACQEJASzACQEJAQkBLMAkwEkBCQEJASIACQEJAQkBCQEJAQkBIgAJASTAbMAJAQkBCQEJAQkBJMBJASTAZMBJASTAZMBJAQkBCQEiAAkBLMAkwGIAJMBkwGzACQEJAQkBCQEJASTAZMBswCTASQEswAkBJMBJAQkBJMBJASzAJMBJAQkBCQEbwCTAbMAJAQkBJMBkwEkBCQEswCTASQEkwGTAbMAkwEkBIgAJAQkBCQEiAAkBCQEJAQkBCQEiACzACQEkwEkBCQEJAQkBCQEswCIACQEJAQkBCQEJASTAZMBJARvAIgAkwFvACQEkwEkBJMBJARvACQEkwEkBCQEswAkBCQEswCzAJMBJAQkBLMAkwEkBCQEkwGTASQEkwGzAJMBJASTAZMBJAQkBCQEJASIACQEJASTAZMBkwEkBCQEkwGTASQEJARvAG8AJASTASQEiACTAZMBkwEkBJMBkwEkBJMBJAQkBJMBkwEkBIgAkwGTASQEbwCTAW8AiAAkBCQEJASIACQEkwEkBCQEkwGzAJMBiAAkBG8AbwAkBJMBJASIALMAkwFvACQEJAQkBJMBJAQkBCQEswAkBCQEJAQkBCQEiAAkBCQEJAQkBCQEJAQkBCQEkwGIACQEJAQkBCQEJASzACQEswAkBJMBJASzAIgAJASTASQEiAAkBJMBkwGIACQEswAkBCQEkwGIACQEJAQkBIgAJAQkBCQEJASzACQEswBvALMAJAQkBCQEkwEkBCQEiAAkBCQEJAQkBCQEiACIACQEJASTASQEkwGTASQEJAQkBIgAiACTAYgAJASIACQEswCTAbMAkwGIACQEiAAkBCQEJAQkBJMBJASIACQEswCzALMAswCTASQEswCIACQEJAQkBCQEJASIACQEbwCTASQEbwCzACQEJASzALMAJAQkBIgAJASIAJMBswAkBIgAJAQkBCQEiAAkBCQEJASIAIgAkwGTASQEJASTASQEswCTAYgAJAQkBCQEJAQkBCQEJAQkBJMBJAQkBJMBiAAkBCQEkwGzAJMBkwGTAZMBbwCTAZMBiACTASQEJASzAJMBkwEkBCQEJASTASQEswCTASQEJASzAIgAkwEkBJMBkwEkBCQEJAQkBJMBJAQkBJMBJARvAJMBJAQkBCQEJAQkBJMBkwEkBCQEswAkBCQEJASTASQEJASIACQEJASTASQEbwCTASQEJASTAZMBJAQkBCQEJAQkBJMBJASzACQEJAQkBJMBiACTAZMBJASTASQEkwEkBLMAJAQkBCQEJASzACQEkwEkBJMBswCTASQEJARvAJMBkwGzAJMBJAQkBLMAkwGIAIgAkwEkBCQEbwAkBCQEJARvACQEkwEkBCQEkwEkBG8AswAkBCQEJASTAZMBbwAkBJMBJAQkBCQEkwEkBJMBkwEkBCQEiAAkBCQEJASzACQEkwGTASQEiAAkBIgAiACIAJMBJAQkBCQEkwEkBCQEiAAkBG8AJAQkBCQEJAQkBCQEJAQkBJMBJAQkBCQEbwCzACQEkwEkBCQEbwCTASQEJAQkBJMBkwGzALMAJAQkBCQEkwEkBCQEJASIACQEJASTASQEJASTAZMBbwAkBG8AJARvAJMBJARvACQEkwEkBCQEkwFvACQEiACTASQEJASzALMAbwBvAJMBJAQkBCQEkwEkBJMBJAQkBG8AJASTAZMBiAAkBCQEJAQkBJMBJAQkBJMBJAQkBIgAJAQkBCQEbwCIACQEJASIALMAJAQkBCQEswAkBJMBJASzACQEkwGTASQEJAQkBCQEJAQkBCQEJASTAZMBiAAkBCQEswCIACQEJASTASQEJASzACQEJASTASQEJASTAZMBJAQkBG8AkwEkBCQEJASzAA==",
          "dtype": "i2",
          "shape": "1889, 1"
         },
         "hovertemplate": "Bank: %{x}<br>Rating: %{y}<br>Count of this rating: %{customdata[0]}",
         "legendgroup": "CBE",
         "marker": {
          "color": "#636efa"
         },
         "name": "CBE",
         "notched": false,
         "offsetgroup": "CBE",
         "orientation": "v",
         "showlegend": true,
         "type": "box",
         "x": [
          "CBE",
          "CBE",
          "CBE",
          "CBE",
          "CBE",
          "CBE",
          "CBE",
          "CBE",
          "CBE",
          "CBE",
          "CBE",
          "CBE",
          "CBE",
          "CBE",
          "CBE",
          "CBE",
          "CBE",
          "CBE",
          "CBE",
          "CBE",
          "CBE",
          "CBE",
          "CBE",
          "CBE",
          "CBE",
          "CBE",
          "CBE",
          "CBE",
          "CBE",
          "CBE",
          "CBE",
          "CBE",
          "CBE",
          "CBE",
          "CBE",
          "CBE",
          "CBE",
          "CBE",
          "CBE",
          "CBE",
          "CBE",
          "CBE",
          "CBE",
          "CBE",
          "CBE",
          "CBE",
          "CBE",
          "CBE",
          "CBE",
          "CBE",
          "CBE",
          "CBE",
          "CBE",
          "CBE",
          "CBE",
          "CBE",
          "CBE",
          "CBE",
          "CBE",
          "CBE",
          "CBE",
          "CBE",
          "CBE",
          "CBE",
          "CBE",
          "CBE",
          "CBE",
          "CBE",
          "CBE",
          "CBE",
          "CBE",
          "CBE",
          "CBE",
          "CBE",
          "CBE",
          "CBE",
          "CBE",
          "CBE",
          "CBE",
          "CBE",
          "CBE",
          "CBE",
          "CBE",
          "CBE",
          "CBE",
          "CBE",
          "CBE",
          "CBE",
          "CBE",
          "CBE",
          "CBE",
          "CBE",
          "CBE",
          "CBE",
          "CBE",
          "CBE",
          "CBE",
          "CBE",
          "CBE",
          "CBE",
          "CBE",
          "CBE",
          "CBE",
          "CBE",
          "CBE",
          "CBE",
          "CBE",
          "CBE",
          "CBE",
          "CBE",
          "CBE",
          "CBE",
          "CBE",
          "CBE",
          "CBE",
          "CBE",
          "CBE",
          "CBE",
          "CBE",
          "CBE",
          "CBE",
          "CBE",
          "CBE",
          "CBE",
          "CBE",
          "CBE",
          "CBE",
          "CBE",
          "CBE",
          "CBE",
          "CBE",
          "CBE",
          "CBE",
          "CBE",
          "CBE",
          "CBE",
          "CBE",
          "CBE",
          "CBE",
          "CBE",
          "CBE",
          "CBE",
          "CBE",
          "CBE",
          "CBE",
          "CBE",
          "CBE",
          "CBE",
          "CBE",
          "CBE",
          "CBE",
          "CBE",
          "CBE",
          "CBE",
          "CBE",
          "CBE",
          "CBE",
          "CBE",
          "CBE",
          "CBE",
          "CBE",
          "CBE",
          "CBE",
          "CBE",
          "CBE",
          "CBE",
          "CBE",
          "CBE",
          "CBE",
          "CBE",
          "CBE",
          "CBE",
          "CBE",
          "CBE",
          "CBE",
          "CBE",
          "CBE",
          "CBE",
          "CBE",
          "CBE",
          "CBE",
          "CBE",
          "CBE",
          "CBE",
          "CBE",
          "CBE",
          "CBE",
          "CBE",
          "CBE",
          "CBE",
          "CBE",
          "CBE",
          "CBE",
          "CBE",
          "CBE",
          "CBE",
          "CBE",
          "CBE",
          "CBE",
          "CBE",
          "CBE",
          "CBE",
          "CBE",
          "CBE",
          "CBE",
          "CBE",
          "CBE",
          "CBE",
          "CBE",
          "CBE",
          "CBE",
          "CBE",
          "CBE",
          "CBE",
          "CBE",
          "CBE",
          "CBE",
          "CBE",
          "CBE",
          "CBE",
          "CBE",
          "CBE",
          "CBE",
          "CBE",
          "CBE",
          "CBE",
          "CBE",
          "CBE",
          "CBE",
          "CBE",
          "CBE",
          "CBE",
          "CBE",
          "CBE",
          "CBE",
          "CBE",
          "CBE",
          "CBE",
          "CBE",
          "CBE",
          "CBE",
          "CBE",
          "CBE",
          "CBE",
          "CBE",
          "CBE",
          "CBE",
          "CBE",
          "CBE",
          "CBE",
          "CBE",
          "CBE",
          "CBE",
          "CBE",
          "CBE",
          "CBE",
          "CBE",
          "CBE",
          "CBE",
          "CBE",
          "CBE",
          "CBE",
          "CBE",
          "CBE",
          "CBE",
          "CBE",
          "CBE",
          "CBE",
          "CBE",
          "CBE",
          "CBE",
          "CBE",
          "CBE",
          "CBE",
          "CBE",
          "CBE",
          "CBE",
          "CBE",
          "CBE",
          "CBE",
          "CBE",
          "CBE",
          "CBE",
          "CBE",
          "CBE",
          "CBE",
          "CBE",
          "CBE",
          "CBE",
          "CBE",
          "CBE",
          "CBE",
          "CBE",
          "CBE",
          "CBE",
          "CBE",
          "CBE",
          "CBE",
          "CBE",
          "CBE",
          "CBE",
          "CBE",
          "CBE",
          "CBE",
          "CBE",
          "CBE",
          "CBE",
          "CBE",
          "CBE",
          "CBE",
          "CBE",
          "CBE",
          "CBE",
          "CBE",
          "CBE",
          "CBE",
          "CBE",
          "CBE",
          "CBE",
          "CBE",
          "CBE",
          "CBE",
          "CBE",
          "CBE",
          "CBE",
          "CBE",
          "CBE",
          "CBE",
          "CBE",
          "CBE",
          "CBE",
          "CBE",
          "CBE",
          "CBE",
          "CBE",
          "CBE",
          "CBE",
          "CBE",
          "CBE",
          "CBE",
          "CBE",
          "CBE",
          "CBE",
          "CBE",
          "CBE",
          "CBE",
          "CBE",
          "CBE",
          "CBE",
          "CBE",
          "CBE",
          "CBE",
          "CBE",
          "CBE",
          "CBE",
          "CBE",
          "CBE",
          "CBE",
          "CBE",
          "CBE",
          "CBE",
          "CBE",
          "CBE",
          "CBE",
          "CBE",
          "CBE",
          "CBE",
          "CBE",
          "CBE",
          "CBE",
          "CBE",
          "CBE",
          "CBE",
          "CBE",
          "CBE",
          "CBE",
          "CBE",
          "CBE",
          "CBE",
          "CBE",
          "CBE",
          "CBE",
          "CBE",
          "CBE",
          "CBE",
          "CBE",
          "CBE",
          "CBE",
          "CBE",
          "CBE",
          "CBE",
          "CBE",
          "CBE",
          "CBE",
          "CBE",
          "CBE",
          "CBE",
          "CBE",
          "CBE",
          "CBE",
          "CBE",
          "CBE",
          "CBE",
          "CBE",
          "CBE",
          "CBE",
          "CBE",
          "CBE",
          "CBE",
          "CBE",
          "CBE",
          "CBE",
          "CBE",
          "CBE",
          "CBE",
          "CBE",
          "CBE",
          "CBE",
          "CBE",
          "CBE",
          "CBE",
          "CBE",
          "CBE",
          "CBE",
          "CBE",
          "CBE",
          "CBE",
          "CBE",
          "CBE",
          "CBE",
          "CBE",
          "CBE",
          "CBE",
          "CBE",
          "CBE",
          "CBE",
          "CBE",
          "CBE",
          "CBE",
          "CBE",
          "CBE",
          "CBE",
          "CBE",
          "CBE",
          "CBE",
          "CBE",
          "CBE",
          "CBE",
          "CBE",
          "CBE",
          "CBE",
          "CBE",
          "CBE",
          "CBE",
          "CBE",
          "CBE",
          "CBE",
          "CBE",
          "CBE",
          "CBE",
          "CBE",
          "CBE",
          "CBE",
          "CBE",
          "CBE",
          "CBE",
          "CBE",
          "CBE",
          "CBE",
          "CBE",
          "CBE",
          "CBE",
          "CBE",
          "CBE",
          "CBE",
          "CBE",
          "CBE",
          "CBE",
          "CBE",
          "CBE",
          "CBE",
          "CBE",
          "CBE",
          "CBE",
          "CBE",
          "CBE",
          "CBE",
          "CBE",
          "CBE",
          "CBE",
          "CBE",
          "CBE",
          "CBE",
          "CBE",
          "CBE",
          "CBE",
          "CBE",
          "CBE",
          "CBE",
          "CBE",
          "CBE",
          "CBE",
          "CBE",
          "CBE",
          "CBE",
          "CBE",
          "CBE",
          "CBE",
          "CBE",
          "CBE",
          "CBE",
          "CBE",
          "CBE",
          "CBE",
          "CBE",
          "CBE",
          "CBE",
          "CBE",
          "CBE",
          "CBE",
          "CBE",
          "CBE",
          "CBE",
          "CBE",
          "CBE",
          "CBE",
          "CBE",
          "CBE",
          "CBE",
          "CBE",
          "CBE",
          "CBE",
          "CBE",
          "CBE",
          "CBE",
          "CBE",
          "CBE",
          "CBE",
          "CBE",
          "CBE",
          "CBE",
          "CBE",
          "CBE",
          "CBE",
          "CBE",
          "CBE",
          "CBE",
          "CBE",
          "CBE",
          "CBE",
          "CBE",
          "CBE",
          "CBE",
          "CBE",
          "CBE",
          "CBE",
          "CBE",
          "CBE",
          "CBE",
          "CBE",
          "CBE",
          "CBE",
          "CBE",
          "CBE",
          "CBE",
          "CBE",
          "CBE",
          "CBE",
          "CBE",
          "CBE",
          "CBE",
          "CBE",
          "CBE",
          "CBE",
          "CBE",
          "CBE",
          "CBE",
          "CBE",
          "CBE",
          "CBE",
          "CBE",
          "CBE",
          "CBE",
          "CBE",
          "CBE",
          "CBE",
          "CBE",
          "CBE",
          "CBE",
          "CBE",
          "CBE",
          "CBE",
          "CBE",
          "CBE",
          "CBE",
          "CBE",
          "CBE",
          "CBE",
          "CBE",
          "CBE",
          "CBE",
          "CBE",
          "CBE",
          "CBE",
          "CBE",
          "CBE",
          "CBE",
          "CBE",
          "CBE",
          "CBE",
          "CBE",
          "CBE",
          "CBE",
          "CBE",
          "CBE",
          "CBE",
          "CBE",
          "CBE",
          "CBE",
          "CBE",
          "CBE",
          "CBE",
          "CBE",
          "CBE",
          "CBE",
          "CBE",
          "CBE",
          "CBE",
          "CBE",
          "CBE",
          "CBE",
          "CBE",
          "CBE",
          "CBE",
          "CBE",
          "CBE",
          "CBE",
          "CBE",
          "CBE",
          "CBE",
          "CBE",
          "CBE",
          "CBE",
          "CBE",
          "CBE",
          "CBE",
          "CBE",
          "CBE",
          "CBE",
          "CBE",
          "CBE",
          "CBE",
          "CBE",
          "CBE",
          "CBE",
          "CBE",
          "CBE",
          "CBE",
          "CBE",
          "CBE",
          "CBE",
          "CBE",
          "CBE",
          "CBE",
          "CBE",
          "CBE",
          "CBE",
          "CBE",
          "CBE",
          "CBE",
          "CBE",
          "CBE",
          "CBE",
          "CBE",
          "CBE",
          "CBE",
          "CBE",
          "CBE",
          "CBE",
          "CBE",
          "CBE",
          "CBE",
          "CBE",
          "CBE",
          "CBE",
          "CBE",
          "CBE",
          "CBE",
          "CBE",
          "CBE",
          "CBE",
          "CBE",
          "CBE",
          "CBE",
          "CBE",
          "CBE",
          "CBE",
          "CBE",
          "CBE",
          "CBE",
          "CBE",
          "CBE",
          "CBE",
          "CBE",
          "CBE",
          "CBE",
          "CBE",
          "CBE",
          "CBE",
          "CBE",
          "CBE",
          "CBE",
          "CBE",
          "CBE",
          "CBE",
          "CBE",
          "CBE",
          "CBE",
          "CBE",
          "CBE",
          "CBE",
          "CBE",
          "CBE",
          "CBE",
          "CBE",
          "CBE",
          "CBE",
          "CBE",
          "CBE",
          "CBE",
          "CBE",
          "CBE",
          "CBE",
          "CBE",
          "CBE",
          "CBE",
          "CBE",
          "CBE",
          "CBE",
          "CBE",
          "CBE",
          "CBE",
          "CBE",
          "CBE",
          "CBE",
          "CBE",
          "CBE",
          "CBE",
          "CBE",
          "CBE",
          "CBE",
          "CBE",
          "CBE",
          "CBE",
          "CBE",
          "CBE",
          "CBE",
          "CBE",
          "CBE",
          "CBE",
          "CBE",
          "CBE",
          "CBE",
          "CBE",
          "CBE",
          "CBE",
          "CBE",
          "CBE",
          "CBE",
          "CBE",
          "CBE",
          "CBE",
          "CBE",
          "CBE",
          "CBE",
          "CBE",
          "CBE",
          "CBE",
          "CBE",
          "CBE",
          "CBE",
          "CBE",
          "CBE",
          "CBE",
          "CBE",
          "CBE",
          "CBE",
          "CBE",
          "CBE",
          "CBE",
          "CBE",
          "CBE",
          "CBE",
          "CBE",
          "CBE",
          "CBE",
          "CBE",
          "CBE",
          "CBE",
          "CBE",
          "CBE",
          "CBE",
          "CBE",
          "CBE",
          "CBE",
          "CBE",
          "CBE",
          "CBE",
          "CBE",
          "CBE",
          "CBE",
          "CBE",
          "CBE",
          "CBE",
          "CBE",
          "CBE",
          "CBE",
          "CBE",
          "CBE",
          "CBE",
          "CBE",
          "CBE",
          "CBE",
          "CBE",
          "CBE",
          "CBE",
          "CBE",
          "CBE",
          "CBE",
          "CBE",
          "CBE",
          "CBE",
          "CBE",
          "CBE",
          "CBE",
          "CBE",
          "CBE",
          "CBE",
          "CBE",
          "CBE",
          "CBE",
          "CBE",
          "CBE",
          "CBE",
          "CBE",
          "CBE",
          "CBE",
          "CBE",
          "CBE",
          "CBE",
          "CBE",
          "CBE",
          "CBE",
          "CBE",
          "CBE",
          "CBE",
          "CBE",
          "CBE",
          "CBE",
          "CBE",
          "CBE",
          "CBE",
          "CBE",
          "CBE",
          "CBE",
          "CBE",
          "CBE",
          "CBE",
          "CBE",
          "CBE",
          "CBE",
          "CBE",
          "CBE",
          "CBE",
          "CBE",
          "CBE",
          "CBE",
          "CBE",
          "CBE",
          "CBE",
          "CBE",
          "CBE",
          "CBE",
          "CBE",
          "CBE",
          "CBE",
          "CBE",
          "CBE",
          "CBE",
          "CBE",
          "CBE",
          "CBE",
          "CBE",
          "CBE",
          "CBE",
          "CBE",
          "CBE",
          "CBE",
          "CBE",
          "CBE",
          "CBE",
          "CBE",
          "CBE",
          "CBE",
          "CBE",
          "CBE",
          "CBE",
          "CBE",
          "CBE",
          "CBE",
          "CBE",
          "CBE",
          "CBE",
          "CBE",
          "CBE",
          "CBE",
          "CBE",
          "CBE",
          "CBE",
          "CBE",
          "CBE",
          "CBE",
          "CBE",
          "CBE",
          "CBE",
          "CBE",
          "CBE",
          "CBE",
          "CBE",
          "CBE",
          "CBE",
          "CBE",
          "CBE",
          "CBE",
          "CBE",
          "CBE",
          "CBE",
          "CBE",
          "CBE",
          "CBE",
          "CBE",
          "CBE",
          "CBE",
          "CBE",
          "CBE",
          "CBE",
          "CBE",
          "CBE",
          "CBE",
          "CBE",
          "CBE",
          "CBE",
          "CBE",
          "CBE",
          "CBE",
          "CBE",
          "CBE",
          "CBE",
          "CBE",
          "CBE",
          "CBE",
          "CBE",
          "CBE",
          "CBE",
          "CBE",
          "CBE",
          "CBE",
          "CBE",
          "CBE",
          "CBE",
          "CBE",
          "CBE",
          "CBE",
          "CBE",
          "CBE",
          "CBE",
          "CBE",
          "CBE",
          "CBE",
          "CBE",
          "CBE",
          "CBE",
          "CBE",
          "CBE",
          "CBE",
          "CBE",
          "CBE",
          "CBE",
          "CBE",
          "CBE",
          "CBE",
          "CBE",
          "CBE",
          "CBE",
          "CBE",
          "CBE",
          "CBE",
          "CBE",
          "CBE",
          "CBE",
          "CBE",
          "CBE",
          "CBE",
          "CBE",
          "CBE",
          "CBE",
          "CBE",
          "CBE",
          "CBE",
          "CBE",
          "CBE",
          "CBE",
          "CBE",
          "CBE",
          "CBE",
          "CBE",
          "CBE",
          "CBE",
          "CBE",
          "CBE",
          "CBE",
          "CBE",
          "CBE",
          "CBE",
          "CBE",
          "CBE",
          "CBE",
          "CBE",
          "CBE",
          "CBE",
          "CBE",
          "CBE",
          "CBE",
          "CBE",
          "CBE",
          "CBE",
          "CBE",
          "CBE",
          "CBE",
          "CBE",
          "CBE",
          "CBE",
          "CBE",
          "CBE",
          "CBE",
          "CBE",
          "CBE",
          "CBE",
          "CBE",
          "CBE",
          "CBE",
          "CBE",
          "CBE",
          "CBE",
          "CBE",
          "CBE",
          "CBE",
          "CBE",
          "CBE",
          "CBE",
          "CBE",
          "CBE",
          "CBE",
          "CBE",
          "CBE",
          "CBE",
          "CBE",
          "CBE",
          "CBE",
          "CBE",
          "CBE",
          "CBE",
          "CBE",
          "CBE",
          "CBE",
          "CBE",
          "CBE",
          "CBE",
          "CBE",
          "CBE",
          "CBE",
          "CBE",
          "CBE",
          "CBE",
          "CBE",
          "CBE",
          "CBE",
          "CBE",
          "CBE",
          "CBE",
          "CBE",
          "CBE",
          "CBE",
          "CBE",
          "CBE",
          "CBE",
          "CBE",
          "CBE",
          "CBE",
          "CBE",
          "CBE",
          "CBE",
          "CBE",
          "CBE",
          "CBE",
          "CBE",
          "CBE",
          "CBE",
          "CBE",
          "CBE",
          "CBE",
          "CBE",
          "CBE",
          "CBE",
          "CBE",
          "CBE",
          "CBE",
          "CBE",
          "CBE",
          "CBE",
          "CBE",
          "CBE",
          "CBE",
          "CBE",
          "CBE",
          "CBE",
          "CBE",
          "CBE",
          "CBE",
          "CBE",
          "CBE",
          "CBE",
          "CBE",
          "CBE",
          "CBE",
          "CBE",
          "CBE",
          "CBE",
          "CBE",
          "CBE",
          "CBE",
          "CBE",
          "CBE",
          "CBE",
          "CBE",
          "CBE",
          "CBE",
          "CBE",
          "CBE",
          "CBE",
          "CBE",
          "CBE",
          "CBE",
          "CBE",
          "CBE",
          "CBE",
          "CBE",
          "CBE",
          "CBE",
          "CBE",
          "CBE",
          "CBE",
          "CBE",
          "CBE",
          "CBE",
          "CBE",
          "CBE",
          "CBE",
          "CBE",
          "CBE",
          "CBE",
          "CBE",
          "CBE",
          "CBE",
          "CBE",
          "CBE",
          "CBE",
          "CBE",
          "CBE",
          "CBE",
          "CBE",
          "CBE",
          "CBE",
          "CBE",
          "CBE",
          "CBE",
          "CBE",
          "CBE",
          "CBE",
          "CBE",
          "CBE",
          "CBE",
          "CBE",
          "CBE",
          "CBE",
          "CBE",
          "CBE",
          "CBE",
          "CBE",
          "CBE",
          "CBE",
          "CBE",
          "CBE",
          "CBE",
          "CBE",
          "CBE",
          "CBE",
          "CBE",
          "CBE",
          "CBE",
          "CBE",
          "CBE",
          "CBE",
          "CBE",
          "CBE",
          "CBE",
          "CBE",
          "CBE",
          "CBE",
          "CBE",
          "CBE",
          "CBE",
          "CBE",
          "CBE",
          "CBE",
          "CBE",
          "CBE",
          "CBE",
          "CBE",
          "CBE",
          "CBE",
          "CBE",
          "CBE",
          "CBE",
          "CBE",
          "CBE",
          "CBE",
          "CBE",
          "CBE",
          "CBE",
          "CBE",
          "CBE",
          "CBE",
          "CBE",
          "CBE",
          "CBE",
          "CBE",
          "CBE",
          "CBE",
          "CBE",
          "CBE",
          "CBE",
          "CBE",
          "CBE",
          "CBE",
          "CBE",
          "CBE",
          "CBE",
          "CBE",
          "CBE",
          "CBE",
          "CBE",
          "CBE",
          "CBE",
          "CBE",
          "CBE",
          "CBE",
          "CBE",
          "CBE",
          "CBE",
          "CBE",
          "CBE",
          "CBE",
          "CBE",
          "CBE",
          "CBE",
          "CBE",
          "CBE",
          "CBE",
          "CBE",
          "CBE",
          "CBE",
          "CBE",
          "CBE",
          "CBE",
          "CBE",
          "CBE",
          "CBE",
          "CBE",
          "CBE",
          "CBE",
          "CBE",
          "CBE",
          "CBE",
          "CBE",
          "CBE",
          "CBE",
          "CBE",
          "CBE",
          "CBE",
          "CBE",
          "CBE",
          "CBE",
          "CBE",
          "CBE",
          "CBE",
          "CBE",
          "CBE",
          "CBE",
          "CBE",
          "CBE",
          "CBE",
          "CBE",
          "CBE",
          "CBE",
          "CBE",
          "CBE",
          "CBE",
          "CBE",
          "CBE",
          "CBE",
          "CBE",
          "CBE",
          "CBE",
          "CBE",
          "CBE",
          "CBE",
          "CBE",
          "CBE",
          "CBE",
          "CBE",
          "CBE",
          "CBE",
          "CBE",
          "CBE",
          "CBE",
          "CBE",
          "CBE",
          "CBE",
          "CBE",
          "CBE",
          "CBE",
          "CBE",
          "CBE",
          "CBE",
          "CBE",
          "CBE",
          "CBE",
          "CBE",
          "CBE",
          "CBE",
          "CBE",
          "CBE",
          "CBE",
          "CBE",
          "CBE",
          "CBE",
          "CBE",
          "CBE",
          "CBE",
          "CBE",
          "CBE",
          "CBE",
          "CBE",
          "CBE",
          "CBE",
          "CBE",
          "CBE",
          "CBE",
          "CBE",
          "CBE",
          "CBE",
          "CBE",
          "CBE",
          "CBE",
          "CBE",
          "CBE",
          "CBE",
          "CBE",
          "CBE",
          "CBE",
          "CBE",
          "CBE",
          "CBE",
          "CBE",
          "CBE",
          "CBE",
          "CBE",
          "CBE",
          "CBE",
          "CBE",
          "CBE",
          "CBE",
          "CBE",
          "CBE",
          "CBE",
          "CBE",
          "CBE",
          "CBE",
          "CBE",
          "CBE",
          "CBE",
          "CBE",
          "CBE",
          "CBE",
          "CBE",
          "CBE",
          "CBE",
          "CBE",
          "CBE",
          "CBE",
          "CBE",
          "CBE",
          "CBE",
          "CBE",
          "CBE",
          "CBE",
          "CBE",
          "CBE",
          "CBE",
          "CBE",
          "CBE",
          "CBE",
          "CBE",
          "CBE",
          "CBE",
          "CBE",
          "CBE",
          "CBE",
          "CBE",
          "CBE",
          "CBE",
          "CBE",
          "CBE",
          "CBE",
          "CBE",
          "CBE",
          "CBE",
          "CBE",
          "CBE",
          "CBE",
          "CBE",
          "CBE",
          "CBE",
          "CBE",
          "CBE",
          "CBE",
          "CBE",
          "CBE",
          "CBE",
          "CBE",
          "CBE",
          "CBE",
          "CBE",
          "CBE",
          "CBE",
          "CBE",
          "CBE",
          "CBE",
          "CBE",
          "CBE",
          "CBE",
          "CBE",
          "CBE",
          "CBE",
          "CBE",
          "CBE",
          "CBE",
          "CBE",
          "CBE",
          "CBE",
          "CBE",
          "CBE",
          "CBE",
          "CBE",
          "CBE",
          "CBE",
          "CBE",
          "CBE",
          "CBE",
          "CBE",
          "CBE",
          "CBE",
          "CBE",
          "CBE",
          "CBE",
          "CBE",
          "CBE",
          "CBE",
          "CBE",
          "CBE",
          "CBE",
          "CBE",
          "CBE",
          "CBE",
          "CBE",
          "CBE",
          "CBE",
          "CBE",
          "CBE",
          "CBE",
          "CBE",
          "CBE",
          "CBE",
          "CBE",
          "CBE",
          "CBE",
          "CBE",
          "CBE",
          "CBE",
          "CBE",
          "CBE",
          "CBE",
          "CBE",
          "CBE",
          "CBE",
          "CBE",
          "CBE",
          "CBE",
          "CBE",
          "CBE",
          "CBE",
          "CBE",
          "CBE",
          "CBE",
          "CBE",
          "CBE",
          "CBE",
          "CBE",
          "CBE",
          "CBE",
          "CBE",
          "CBE",
          "CBE",
          "CBE",
          "CBE",
          "CBE",
          "CBE",
          "CBE",
          "CBE",
          "CBE",
          "CBE",
          "CBE",
          "CBE",
          "CBE",
          "CBE",
          "CBE",
          "CBE",
          "CBE",
          "CBE",
          "CBE",
          "CBE",
          "CBE",
          "CBE",
          "CBE",
          "CBE",
          "CBE",
          "CBE",
          "CBE",
          "CBE",
          "CBE",
          "CBE",
          "CBE",
          "CBE",
          "CBE",
          "CBE",
          "CBE",
          "CBE",
          "CBE",
          "CBE",
          "CBE",
          "CBE",
          "CBE",
          "CBE",
          "CBE",
          "CBE",
          "CBE",
          "CBE",
          "CBE",
          "CBE",
          "CBE",
          "CBE",
          "CBE",
          "CBE",
          "CBE",
          "CBE",
          "CBE",
          "CBE",
          "CBE",
          "CBE",
          "CBE",
          "CBE",
          "CBE",
          "CBE",
          "CBE",
          "CBE",
          "CBE",
          "CBE",
          "CBE",
          "CBE",
          "CBE",
          "CBE",
          "CBE",
          "CBE",
          "CBE",
          "CBE",
          "CBE",
          "CBE",
          "CBE",
          "CBE",
          "CBE",
          "CBE",
          "CBE",
          "CBE",
          "CBE",
          "CBE",
          "CBE",
          "CBE",
          "CBE",
          "CBE",
          "CBE",
          "CBE",
          "CBE",
          "CBE",
          "CBE",
          "CBE",
          "CBE",
          "CBE",
          "CBE",
          "CBE",
          "CBE",
          "CBE",
          "CBE",
          "CBE",
          "CBE",
          "CBE",
          "CBE",
          "CBE",
          "CBE",
          "CBE",
          "CBE",
          "CBE",
          "CBE",
          "CBE",
          "CBE",
          "CBE",
          "CBE",
          "CBE",
          "CBE",
          "CBE",
          "CBE",
          "CBE",
          "CBE",
          "CBE",
          "CBE",
          "CBE",
          "CBE",
          "CBE",
          "CBE",
          "CBE",
          "CBE",
          "CBE",
          "CBE",
          "CBE",
          "CBE",
          "CBE",
          "CBE",
          "CBE",
          "CBE",
          "CBE",
          "CBE",
          "CBE",
          "CBE",
          "CBE",
          "CBE",
          "CBE",
          "CBE",
          "CBE",
          "CBE",
          "CBE",
          "CBE",
          "CBE",
          "CBE",
          "CBE",
          "CBE",
          "CBE",
          "CBE",
          "CBE",
          "CBE",
          "CBE",
          "CBE",
          "CBE",
          "CBE",
          "CBE",
          "CBE",
          "CBE",
          "CBE",
          "CBE",
          "CBE",
          "CBE",
          "CBE",
          "CBE",
          "CBE",
          "CBE",
          "CBE",
          "CBE",
          "CBE",
          "CBE",
          "CBE",
          "CBE",
          "CBE",
          "CBE",
          "CBE",
          "CBE",
          "CBE",
          "CBE",
          "CBE",
          "CBE",
          "CBE",
          "CBE",
          "CBE",
          "CBE",
          "CBE",
          "CBE",
          "CBE",
          "CBE",
          "CBE",
          "CBE",
          "CBE",
          "CBE",
          "CBE",
          "CBE",
          "CBE",
          "CBE",
          "CBE",
          "CBE",
          "CBE",
          "CBE",
          "CBE",
          "CBE",
          "CBE",
          "CBE",
          "CBE",
          "CBE",
          "CBE",
          "CBE",
          "CBE",
          "CBE",
          "CBE",
          "CBE",
          "CBE",
          "CBE",
          "CBE",
          "CBE",
          "CBE",
          "CBE",
          "CBE",
          "CBE",
          "CBE",
          "CBE",
          "CBE",
          "CBE",
          "CBE",
          "CBE",
          "CBE",
          "CBE",
          "CBE",
          "CBE",
          "CBE",
          "CBE",
          "CBE",
          "CBE",
          "CBE",
          "CBE",
          "CBE",
          "CBE",
          "CBE",
          "CBE",
          "CBE",
          "CBE",
          "CBE",
          "CBE",
          "CBE",
          "CBE",
          "CBE",
          "CBE",
          "CBE",
          "CBE",
          "CBE",
          "CBE",
          "CBE",
          "CBE",
          "CBE",
          "CBE",
          "CBE",
          "CBE",
          "CBE",
          "CBE",
          "CBE",
          "CBE",
          "CBE",
          "CBE",
          "CBE",
          "CBE",
          "CBE",
          "CBE",
          "CBE",
          "CBE",
          "CBE",
          "CBE",
          "CBE",
          "CBE",
          "CBE",
          "CBE",
          "CBE",
          "CBE",
          "CBE",
          "CBE",
          "CBE",
          "CBE",
          "CBE",
          "CBE",
          "CBE",
          "CBE",
          "CBE",
          "CBE",
          "CBE",
          "CBE",
          "CBE",
          "CBE",
          "CBE",
          "CBE",
          "CBE",
          "CBE",
          "CBE",
          "CBE",
          "CBE",
          "CBE",
          "CBE",
          "CBE",
          "CBE",
          "CBE",
          "CBE",
          "CBE",
          "CBE",
          "CBE",
          "CBE",
          "CBE",
          "CBE",
          "CBE",
          "CBE",
          "CBE",
          "CBE",
          "CBE",
          "CBE",
          "CBE",
          "CBE",
          "CBE",
          "CBE",
          "CBE",
          "CBE",
          "CBE",
          "CBE",
          "CBE",
          "CBE",
          "CBE",
          "CBE",
          "CBE",
          "CBE",
          "CBE",
          "CBE",
          "CBE",
          "CBE",
          "CBE",
          "CBE",
          "CBE",
          "CBE",
          "CBE",
          "CBE",
          "CBE",
          "CBE",
          "CBE",
          "CBE",
          "CBE",
          "CBE",
          "CBE",
          "CBE",
          "CBE",
          "CBE"
         ],
         "x0": " ",
         "xaxis": "x",
         "y": {
          "bdata": "BAEFAwEBAgUBAQUEBQIFAwUEBQUFBQUCBQUEBQEFBQUBBAMEAQUFBQEBBQUFBAUCAQUBBQUFBQUBBQUCBAEFBQUDBQEFBQEFAQUFAQIEBQEFAQUFBQUBAQUFBQUEBQEFBQQFBQUFBQEBAQUFAgUFBAIFAQUFAQMFBQUDBQUFBQUFAwUBAwQFBQEEAwUFBAEFAgUFBAUCAQEEBQUDBAUFBQUBBQUFBQUEBQQFBQQFBQUBBQUEBAQFBAUEBQUFBQUFBQUFBAQFBQQEBQUFBQUEAwUFBQUDBQUFAwUFBQEFBQQBBQEBAgEFBQUDBQUFAgQDBAUFAQEFBQUFBQQCBQEFBQUBBQEFAwEDAQUFBAMEBAEFAwECBAUFBAMFBAUDBQUFBQEFBQUFBQUFAQEFBQEFAQUDBQUBBQUFBQUCAQUFBQECBAUFBQUBAgEFBQMDBQUFAQIFBQUFBQUBAwIFBQEEBQEEAwUFAwUBBQEBBQIFBQMFAQUFBQUBBQUFAgUFBQUBBQECBQUFAwMBBQUBAQUEBQMCAQUDBQIFBQMFBQQBAQEFBQUDBQEFBQUFBQEBBQQFBQEFAwQBAQUFAQEFAQEBBAUEAQIFAwEBBQEFAgUFBQUBAQUFAgIFBQEDBQQCAgIFAgEFBQIBBQUFBQUBAQEFBAUDBQUFAQECAQUBBQEEBQUBBQUFBQEFAgUFBQUBBAEFAQICBQIFAwUFBQUFBQEFAQEBBQQBBQIFAQQBAgEBAQIFAgUBAQUFBQUEBQIBBQUFBAEBAQEFBQUFBAEDAgQEBAUEAQUBBQQBAQUBBQEFAQIBBQUBBQIEAQUDBQUFBQUFBAUFAQUBAQUEAQEFBQUCBQUFBQUBBQUFBQUFAQQFAQUFBQUEBQEFAQEFBQUBBQUDBAUFAQUFBQEEBAEFAQUFBQQFAQEFBQEFBQUFAwUBBAUBAQUFBQUFBQUFBQUFBQQFAgUBBAIFBAMFBQQFBQECAwEFBQUFBAUFBQUEBQUFBQUFBAUFAgUFAgIFBQIEAQUFBQUBBQUFBQUFBQUEBQUFBQUFBQQFAgUFAQEFBQUBAQQDAQEDBQQFBQMCBQMFBAEFBQUFAgUBBQUCBQUEBQUFAwUEBQUDAQUFBQUFBAUFBQEFAQUFBQUEBQUFBQUDBQUCBQUBAQUBAQUFBQEFBQMFAwQBAQEEAgEFAQMFBQEDBQQFBQUDAwUBBQEFBQEFBQMFAgUFBAUFBAUBBQEFAQUCBQUFAQUFBQEFBQUFAgUBAQEBBQUDBQUFAQQEAwECAQUFBQUFAgUFAQUEBQUEBQUFBQIFBQUBBQUFBQUBBQUFBQQFAQUEBQUFBQEFAQUCAQUFBQUFBQMFBQUFBQUBBQEFBQEFAQUFBQUFBQUFBAUFBQUBBAEBAQUCAQUFAQUFBQUFBQUFBAUFAwIFAQUFAQUFBQUFAwUFBQMBAQUFBQQDBQUFAgUFAQUFBQEFBQMFBQIFAwQFBQEFBQUFBQUFBQIFBQEFBQUBBQUFAQEDAwEFBQEEAQUFBQUDBQQFBQQFBQUBBAUFBQIEBQEDAQMBAgUFBAUFBQUEBAUFBQIFBQUBBQIFBQQFBQUEAQUFBQMFBQUFBQUDBQEEBQUFBQUBBQEBBQEBBQUFAwUEAQMBAQQFBQUFBQEBBAEFBAUBBQUBBQQBBQUFAgEEBQUBAQUFBAEFAQEEAQUDBQUFAwUFBQUFAwQFAQUFBQUFBAMFBQUFBQEBBQIDAQIFAQUBBQIFAQUFBAUFBAQBBQUEAQUFAQEFAQQBBQEBBQUFBQMFBQEBAQUFAQEFBQICBQEFAwEBAQUBAQUBBQUBAQUDAQEFAgECAwUFBQMFAQUFAQQBAwUCAgUBBQMEAQIFBQUBBQUFBAUFBQUFAwUFBQUFBQUFAQMFBQUFBQQFBAUBBQQDBQEFAwUBAQMFBAUFAQMFBQUDBQUFBQQFBAIEBQUFAQUFAwUFBQUFAwMFBQEFAQEFBQUDAwEDBQMFBAEEAQMFAwUFBQUBBQMFBAQEBAEFBAMFBQUFBQMFAgEFAgQFBQQEBQUDBQMBBAUDBQUFAwUFBQMDAQEFBQEFBAEDBQUFBQUFBQUBBQUBAwUFAQQBAQEBAgEBAwEFBQQBAQUFBQEFBAEFBQQDAQUBAQUFBQUBBQUBBQIBBQUFBQUBAQUFBAUFBQEFBQMFBQEFAgEFBQEBBQUFBQUBBQQFBQUBAwEBBQEFAQUEBQUFBQQFAQUBBAEFBQIBAQQBBQUEAQMDAQUFAgUFBQIFAQUFAQUCBAUFBQEBAgUBBQUFAQUBAQUFAwUFBQQFAQEFAwUDAwMBBQUFAQUFAwUCBQUFBQUFBQUBBQUFAgQFAQUFAgEFBQUBAQQEBQUFAQUFBQMFBQEFBQEBAgUCBQIBBQIFAQUFAQIFAwEFBQQEAgIBBQUFAQUBBQUCBQEBAwUFBQUBBQUBBQUDBQUFAgMFBQMEBQUFBAUBBQQFAQEFBQUFBQUFBQEBAwUFBAMFBQEFBQQFBQEFBQEBBQUCAQUFBQQ=",
          "dtype": "i1"
         },
         "y0": " ",
         "yaxis": "y"
        },
        {
         "alignmentgroup": "True",
         "boxpoints": "all",
         "customdata": {
          "bdata": "UQFRAVEBwQBRAS0AUQFRASYAGQBRAVEBwQDBAFEBwQBRAS0AUQHBAMEAwQBRAVEBUQHBACYALQDBAFEBUQHBAFEBUQFRAVEBUQHBAFEBUQFRAcEAwQBRAcEALQDBAFEBGQDBAMEAwQBRAVEBUQHBAFEBUQFRAVEBwQBRAcEAwQDBAFEBwQAmAC0AwQAtAMEAUQEmABkAUQFRAVEBwQDBAMEAwQAtAMEAwQDBAFEBUQEmAFEBwQBRAVEBUQEtAFEBUQFRAVEBLQBRAS0AJgBRARkAUQFRAVEBUQHBAFEBUQFRAcEAUQHBAMEAJgDBAC0AUQHBAFEBUQFRAVEBUQHBAMEAwQBRAcEAwQBRAVEBwQAtAFEBwQDBAFEBUQEZAMEAUQEZAFEBwQBRAVEBUQFRAcEAwQAtAFEBwQAtABkAUQHBAMEAUQFRAcEAUQFRAVEBLQBRAcEAUQFRAcEAUQFRAVEBGQAtAFEBUQHBAFEBUQFRAcEAUQFRAVEBUQEtAFEBwQBRAVEBLQBRAcEAUQFRAVEBUQFRAVEBUQFRAVEBUQEmAFEBUQFRAVEBUQFRAVEBUQHBAFEBUQFRAVEBLQBRAVEBUQFRAcEAUQFRASYAUQFRAcEAUQFRAVEBUQFRAVEBUQFRAcEAJgBRAVEBwQDBAFEBUQEtAFEBwQBRAVEBwQBRAVEBUQHBAFEBUQFRAcEAwQDBAFEBUQFRAVEBUQFRAVEBUQHBAMEAUQEtAFEBUQHBAFEBwQBRASYAwQBRAVEBwQBRAS0AUQFRAVEBUQHBABkALQBRAVEBJgBRAcEAwQAtAFEBUQFRARkAUQHBAFEBUQFRAVEBwQBRASYAUQHBAFEBUQEtAMEAUQFRAVEBLQBRAVEBGQBRASYAwQDBAFEBUQEmAFEBUQEmAFEBJgDBAFEBUQEtAFEBUQHBAFEBUQFRAcEAwQBRASYAwQDBAFEBUQEZABkAUQHBAFEBUQHBAFEBJgAtAFEBwQBRAVEBUQFRAcEAUQEmAFEBUQFRAVEBUQFRAVEBUQEmAFEBUQEmAFEBGQBRAcEAUQFRAVEBUQHBAFEBUQFRAVEBUQFRAVEBUQEmAFEBUQHBAC0AJgDBAMEAUQEtACYAUQFRAVEBLQDBAFEBJgDBAFEBUQHBAMEAUQHBAFEBUQFRAVEBwQDBAC0AUQEmAFEBUQHBAFEBUQHBAFEBUQEtAFEBwQBRAVEBwQBRAcEAwQDBAFEBwQBRAVEBUQHBAFEBwQBRAVEBwQDBAMEAJgBRAVEBUQFRASYAwQBRAVEBUQFRAVEBUQFRAcEAwQAmAFEBwQBRAVEBwQAmABkAUQFRAVEBJgDBAMEAUQHBABkAwQDBAFEBGQDBAMEAJgAtAFEBUQFRAcEAJgBRAS0AwQAmAFEBUQHBAMEAwQBRAVEBwQAtAMEAwQBRAVEBUQFRAVEBwQBRAVEBUQHBAFEBUQHBAMEAwQBRAVEBwQDBAMEAGQDBAMEALQBRASYAwQDBAMEAwQDBAMEAGQDBAFEBUQEtAFEBUQEtAMEAJgAtAFEBwQBRAcEAUQFRAVEBUQFRAVEBUQEZAC0AUQHBABkAGQDBAMEAwQAtAMEAJgDBAMEAwQAtAMEAwQAtAC0AUQHBAMEAwQBRAcEAGQDBAMEAUQHBAMEAwQAZAMEAUQHBABkAwQBRAcEAUQFRAcEAwQDBAMEAwQDBAA==",
          "dtype": "i2",
          "shape": "638, 1"
         },
         "hovertemplate": "Bank: %{x}<br>Rating: %{y}<br>Count of this rating: %{customdata[0]}",
         "legendgroup": "BOA",
         "marker": {
          "color": "#EF553B"
         },
         "name": "BOA",
         "notched": false,
         "offsetgroup": "BOA",
         "orientation": "v",
         "showlegend": true,
         "type": "box",
         "x": [
          "BOA",
          "BOA",
          "BOA",
          "BOA",
          "BOA",
          "BOA",
          "BOA",
          "BOA",
          "BOA",
          "BOA",
          "BOA",
          "BOA",
          "BOA",
          "BOA",
          "BOA",
          "BOA",
          "BOA",
          "BOA",
          "BOA",
          "BOA",
          "BOA",
          "BOA",
          "BOA",
          "BOA",
          "BOA",
          "BOA",
          "BOA",
          "BOA",
          "BOA",
          "BOA",
          "BOA",
          "BOA",
          "BOA",
          "BOA",
          "BOA",
          "BOA",
          "BOA",
          "BOA",
          "BOA",
          "BOA",
          "BOA",
          "BOA",
          "BOA",
          "BOA",
          "BOA",
          "BOA",
          "BOA",
          "BOA",
          "BOA",
          "BOA",
          "BOA",
          "BOA",
          "BOA",
          "BOA",
          "BOA",
          "BOA",
          "BOA",
          "BOA",
          "BOA",
          "BOA",
          "BOA",
          "BOA",
          "BOA",
          "BOA",
          "BOA",
          "BOA",
          "BOA",
          "BOA",
          "BOA",
          "BOA",
          "BOA",
          "BOA",
          "BOA",
          "BOA",
          "BOA",
          "BOA",
          "BOA",
          "BOA",
          "BOA",
          "BOA",
          "BOA",
          "BOA",
          "BOA",
          "BOA",
          "BOA",
          "BOA",
          "BOA",
          "BOA",
          "BOA",
          "BOA",
          "BOA",
          "BOA",
          "BOA",
          "BOA",
          "BOA",
          "BOA",
          "BOA",
          "BOA",
          "BOA",
          "BOA",
          "BOA",
          "BOA",
          "BOA",
          "BOA",
          "BOA",
          "BOA",
          "BOA",
          "BOA",
          "BOA",
          "BOA",
          "BOA",
          "BOA",
          "BOA",
          "BOA",
          "BOA",
          "BOA",
          "BOA",
          "BOA",
          "BOA",
          "BOA",
          "BOA",
          "BOA",
          "BOA",
          "BOA",
          "BOA",
          "BOA",
          "BOA",
          "BOA",
          "BOA",
          "BOA",
          "BOA",
          "BOA",
          "BOA",
          "BOA",
          "BOA",
          "BOA",
          "BOA",
          "BOA",
          "BOA",
          "BOA",
          "BOA",
          "BOA",
          "BOA",
          "BOA",
          "BOA",
          "BOA",
          "BOA",
          "BOA",
          "BOA",
          "BOA",
          "BOA",
          "BOA",
          "BOA",
          "BOA",
          "BOA",
          "BOA",
          "BOA",
          "BOA",
          "BOA",
          "BOA",
          "BOA",
          "BOA",
          "BOA",
          "BOA",
          "BOA",
          "BOA",
          "BOA",
          "BOA",
          "BOA",
          "BOA",
          "BOA",
          "BOA",
          "BOA",
          "BOA",
          "BOA",
          "BOA",
          "BOA",
          "BOA",
          "BOA",
          "BOA",
          "BOA",
          "BOA",
          "BOA",
          "BOA",
          "BOA",
          "BOA",
          "BOA",
          "BOA",
          "BOA",
          "BOA",
          "BOA",
          "BOA",
          "BOA",
          "BOA",
          "BOA",
          "BOA",
          "BOA",
          "BOA",
          "BOA",
          "BOA",
          "BOA",
          "BOA",
          "BOA",
          "BOA",
          "BOA",
          "BOA",
          "BOA",
          "BOA",
          "BOA",
          "BOA",
          "BOA",
          "BOA",
          "BOA",
          "BOA",
          "BOA",
          "BOA",
          "BOA",
          "BOA",
          "BOA",
          "BOA",
          "BOA",
          "BOA",
          "BOA",
          "BOA",
          "BOA",
          "BOA",
          "BOA",
          "BOA",
          "BOA",
          "BOA",
          "BOA",
          "BOA",
          "BOA",
          "BOA",
          "BOA",
          "BOA",
          "BOA",
          "BOA",
          "BOA",
          "BOA",
          "BOA",
          "BOA",
          "BOA",
          "BOA",
          "BOA",
          "BOA",
          "BOA",
          "BOA",
          "BOA",
          "BOA",
          "BOA",
          "BOA",
          "BOA",
          "BOA",
          "BOA",
          "BOA",
          "BOA",
          "BOA",
          "BOA",
          "BOA",
          "BOA",
          "BOA",
          "BOA",
          "BOA",
          "BOA",
          "BOA",
          "BOA",
          "BOA",
          "BOA",
          "BOA",
          "BOA",
          "BOA",
          "BOA",
          "BOA",
          "BOA",
          "BOA",
          "BOA",
          "BOA",
          "BOA",
          "BOA",
          "BOA",
          "BOA",
          "BOA",
          "BOA",
          "BOA",
          "BOA",
          "BOA",
          "BOA",
          "BOA",
          "BOA",
          "BOA",
          "BOA",
          "BOA",
          "BOA",
          "BOA",
          "BOA",
          "BOA",
          "BOA",
          "BOA",
          "BOA",
          "BOA",
          "BOA",
          "BOA",
          "BOA",
          "BOA",
          "BOA",
          "BOA",
          "BOA",
          "BOA",
          "BOA",
          "BOA",
          "BOA",
          "BOA",
          "BOA",
          "BOA",
          "BOA",
          "BOA",
          "BOA",
          "BOA",
          "BOA",
          "BOA",
          "BOA",
          "BOA",
          "BOA",
          "BOA",
          "BOA",
          "BOA",
          "BOA",
          "BOA",
          "BOA",
          "BOA",
          "BOA",
          "BOA",
          "BOA",
          "BOA",
          "BOA",
          "BOA",
          "BOA",
          "BOA",
          "BOA",
          "BOA",
          "BOA",
          "BOA",
          "BOA",
          "BOA",
          "BOA",
          "BOA",
          "BOA",
          "BOA",
          "BOA",
          "BOA",
          "BOA",
          "BOA",
          "BOA",
          "BOA",
          "BOA",
          "BOA",
          "BOA",
          "BOA",
          "BOA",
          "BOA",
          "BOA",
          "BOA",
          "BOA",
          "BOA",
          "BOA",
          "BOA",
          "BOA",
          "BOA",
          "BOA",
          "BOA",
          "BOA",
          "BOA",
          "BOA",
          "BOA",
          "BOA",
          "BOA",
          "BOA",
          "BOA",
          "BOA",
          "BOA",
          "BOA",
          "BOA",
          "BOA",
          "BOA",
          "BOA",
          "BOA",
          "BOA",
          "BOA",
          "BOA",
          "BOA",
          "BOA",
          "BOA",
          "BOA",
          "BOA",
          "BOA",
          "BOA",
          "BOA",
          "BOA",
          "BOA",
          "BOA",
          "BOA",
          "BOA",
          "BOA",
          "BOA",
          "BOA",
          "BOA",
          "BOA",
          "BOA",
          "BOA",
          "BOA",
          "BOA",
          "BOA",
          "BOA",
          "BOA",
          "BOA",
          "BOA",
          "BOA",
          "BOA",
          "BOA",
          "BOA",
          "BOA",
          "BOA",
          "BOA",
          "BOA",
          "BOA",
          "BOA",
          "BOA",
          "BOA",
          "BOA",
          "BOA",
          "BOA",
          "BOA",
          "BOA",
          "BOA",
          "BOA",
          "BOA",
          "BOA",
          "BOA",
          "BOA",
          "BOA",
          "BOA",
          "BOA",
          "BOA",
          "BOA",
          "BOA",
          "BOA",
          "BOA",
          "BOA",
          "BOA",
          "BOA",
          "BOA",
          "BOA",
          "BOA",
          "BOA",
          "BOA",
          "BOA",
          "BOA",
          "BOA",
          "BOA",
          "BOA",
          "BOA",
          "BOA",
          "BOA",
          "BOA",
          "BOA",
          "BOA",
          "BOA",
          "BOA",
          "BOA",
          "BOA",
          "BOA",
          "BOA",
          "BOA",
          "BOA",
          "BOA",
          "BOA",
          "BOA",
          "BOA",
          "BOA",
          "BOA",
          "BOA",
          "BOA",
          "BOA",
          "BOA",
          "BOA",
          "BOA",
          "BOA",
          "BOA",
          "BOA",
          "BOA",
          "BOA",
          "BOA",
          "BOA",
          "BOA",
          "BOA",
          "BOA",
          "BOA",
          "BOA",
          "BOA",
          "BOA",
          "BOA",
          "BOA",
          "BOA",
          "BOA",
          "BOA",
          "BOA",
          "BOA",
          "BOA",
          "BOA",
          "BOA",
          "BOA",
          "BOA",
          "BOA",
          "BOA",
          "BOA",
          "BOA",
          "BOA",
          "BOA",
          "BOA",
          "BOA",
          "BOA",
          "BOA",
          "BOA",
          "BOA",
          "BOA",
          "BOA",
          "BOA",
          "BOA",
          "BOA",
          "BOA",
          "BOA",
          "BOA",
          "BOA",
          "BOA",
          "BOA",
          "BOA",
          "BOA",
          "BOA",
          "BOA",
          "BOA",
          "BOA",
          "BOA",
          "BOA",
          "BOA",
          "BOA",
          "BOA",
          "BOA",
          "BOA",
          "BOA",
          "BOA",
          "BOA",
          "BOA",
          "BOA",
          "BOA",
          "BOA",
          "BOA",
          "BOA",
          "BOA",
          "BOA",
          "BOA",
          "BOA",
          "BOA",
          "BOA",
          "BOA",
          "BOA",
          "BOA",
          "BOA",
          "BOA",
          "BOA",
          "BOA",
          "BOA",
          "BOA",
          "BOA",
          "BOA",
          "BOA",
          "BOA",
          "BOA",
          "BOA",
          "BOA",
          "BOA",
          "BOA",
          "BOA",
          "BOA",
          "BOA",
          "BOA",
          "BOA",
          "BOA",
          "BOA",
          "BOA",
          "BOA",
          "BOA",
          "BOA",
          "BOA",
          "BOA",
          "BOA",
          "BOA",
          "BOA",
          "BOA",
          "BOA",
          "BOA",
          "BOA",
          "BOA",
          "BOA",
          "BOA",
          "BOA",
          "BOA",
          "BOA",
          "BOA",
          "BOA",
          "BOA",
          "BOA",
          "BOA",
          "BOA",
          "BOA",
          "BOA",
          "BOA",
          "BOA",
          "BOA",
          "BOA",
          "BOA",
          "BOA",
          "BOA",
          "BOA",
          "BOA",
          "BOA",
          "BOA",
          "BOA",
          "BOA",
          "BOA",
          "BOA",
          "BOA",
          "BOA",
          "BOA",
          "BOA",
          "BOA",
          "BOA",
          "BOA"
         ],
         "x0": " ",
         "xaxis": "x",
         "y": {
          "bdata": "AQEBBQEDAQECBAEBBQUBBQEDAQUFBQEBAQUCAwUBAQUBAQEBAQUBAQEFBQEFAwUBBAUFBQEBAQUBAQEBBQEFBQUBBQIDBQMFAQIEAQEBBQUFBQMFBQUBAQIBBQEBAQMBAQEBAwEDAgEEAQEBAQUBAQEFAQUFAgUDAQUBAQEBAQUFBQEFBQEBBQMBBQUBAQQFAQQBBQEBAQEFBQMBBQMEAQUFAQEFAQEBAwEFAQEFAQEBBAMBAQUBAQEFAQEBAQMBBQEBAwEFAQEBAQEBAQEBAQIBAQEBAQEBAQUBAQEBAwEBAQEFAQECAQEFAQEBAQEBAQEFAgEBBQUBAQMBBQEBBQEBAQUBAQEFBQUBAQEBAQEBAQUFAQMBAQUBBQECBQEBBQEDAQEBAQUEAwEBAgEFBQMBAQEEAQUBAQEBBQECAQUBAQMFAQEBAwEBBAECBQUBAQIBAQIBAgUBAQMBAQUBAQEFBQECBQUBAQQEAQUBAQUBAgMBBQEBAQEFAQIBAQEBAQEBAQIBAQIBBAEFAQEBAQUBAQEBAQEBAQIBAQUDAgUFAQMCAQEBAwUBAgUBAQUFAQUBAQEBBQUDAQIBAQUBAQUBAQMBBQEBBQEFBQUBBQEBAQUBBQEBBQUFAgEBAQECBQEBAQEBAQEFBQIBBQEBBQIEAQEBAgUFAQUEBQUBBAUFAgMBAQEFAgEDBQIBAQUFBQEBBQMFBQEBAQEBBQEBAQUBAQUFBQEBBQUFBAUFAwECBQUFBQUFBAUBAQMBAQMFAgMBBQEFAQEBAQEBAQQDAQUEBAUFBQMFAgUFBQMFBQMDAQUFBQEFBAUFAQUFBQQFAQUEBQEFAQEFBQUFBQU=",
          "dtype": "i1"
         },
         "y0": " ",
         "yaxis": "y"
        },
        {
         "alignmentgroup": "True",
         "boxpoints": "all",
         "customdata": {
          "bdata": "9QD1APUADgD1AAoA9QAdAPUAHQAOAPUA9QD1AB0A9QAOAPUACgAdAA4A9QD1APUA9QD1APUA9QAOAPUA9QD1APUAHQAOAPUA9QD1AA4A9QD1APUA9QD1AB0AHQAdAPUA9QD1AA4A9QD1APUA9QD1APUA9QD1APUA9QD1APUA9QD1APUA9QD1APUA9QD1APUA9QD1APUA9QD1APUA9QD1APUA9QD1APUA9QD1APUA9QD1APUA9QD1APUA9QD1APUA9QD1APUA9QD1APUA9QAKAPUA9QD1APUA9QD1APUA9QD1APUA9QD1APUA9QD1APUA9QD1APUADgD1APUA9QD1APUA9QD1APUA9QD1APUA9QD1APUA9QD1APUA9QD1APUA9QD1APUA9QD1APUA9QD1APUA9QD1APUA9QAdAPUA9QD1APUA9QD1APUA9QD1APUA9QD1APUA9QD1APUAHQD1APUA9QD1AA4A9QD1APUAHQAdAB0A9QAOAAoADgAdAB0ACgD1AA4AHQD1AA4A9QAKAAoA9QD1APUA9QD1AB0AHQD1AB0AHQAdAPUA9QD1AB0AHQD1AA4A9QD1AA4A9QD1APUADgAKAPUA9QAOAPUA9QD1AA4A9QAdAB0A9QD1AA4A9QAOAA4A9QD1AAoADgD1APUAHQAdAPUAHQD1APUA9QD1APUA9QD1AAoA9QD1AA4A9QD1APUA9QAOAPUA9QD1AA4A9QD1APUA9QD1APUA9QD1APUA9QD1APUADgD1APUA9QD1AB0A9QAOAPUA9QD1APUA9QD1APUA9QD1APUA9QD1APUA9QD1APUA9QD1APUA",
          "dtype": "i2",
          "shape": "312, 1"
         },
         "hovertemplate": "Bank: %{x}<br>Rating: %{y}<br>Count of this rating: %{customdata[0]}",
         "legendgroup": "Dashen",
         "marker": {
          "color": "#00cc96"
         },
         "name": "Dashen",
         "notched": false,
         "offsetgroup": "Dashen",
         "orientation": "v",
         "showlegend": true,
         "type": "box",
         "x": [
          "Dashen",
          "Dashen",
          "Dashen",
          "Dashen",
          "Dashen",
          "Dashen",
          "Dashen",
          "Dashen",
          "Dashen",
          "Dashen",
          "Dashen",
          "Dashen",
          "Dashen",
          "Dashen",
          "Dashen",
          "Dashen",
          "Dashen",
          "Dashen",
          "Dashen",
          "Dashen",
          "Dashen",
          "Dashen",
          "Dashen",
          "Dashen",
          "Dashen",
          "Dashen",
          "Dashen",
          "Dashen",
          "Dashen",
          "Dashen",
          "Dashen",
          "Dashen",
          "Dashen",
          "Dashen",
          "Dashen",
          "Dashen",
          "Dashen",
          "Dashen",
          "Dashen",
          "Dashen",
          "Dashen",
          "Dashen",
          "Dashen",
          "Dashen",
          "Dashen",
          "Dashen",
          "Dashen",
          "Dashen",
          "Dashen",
          "Dashen",
          "Dashen",
          "Dashen",
          "Dashen",
          "Dashen",
          "Dashen",
          "Dashen",
          "Dashen",
          "Dashen",
          "Dashen",
          "Dashen",
          "Dashen",
          "Dashen",
          "Dashen",
          "Dashen",
          "Dashen",
          "Dashen",
          "Dashen",
          "Dashen",
          "Dashen",
          "Dashen",
          "Dashen",
          "Dashen",
          "Dashen",
          "Dashen",
          "Dashen",
          "Dashen",
          "Dashen",
          "Dashen",
          "Dashen",
          "Dashen",
          "Dashen",
          "Dashen",
          "Dashen",
          "Dashen",
          "Dashen",
          "Dashen",
          "Dashen",
          "Dashen",
          "Dashen",
          "Dashen",
          "Dashen",
          "Dashen",
          "Dashen",
          "Dashen",
          "Dashen",
          "Dashen",
          "Dashen",
          "Dashen",
          "Dashen",
          "Dashen",
          "Dashen",
          "Dashen",
          "Dashen",
          "Dashen",
          "Dashen",
          "Dashen",
          "Dashen",
          "Dashen",
          "Dashen",
          "Dashen",
          "Dashen",
          "Dashen",
          "Dashen",
          "Dashen",
          "Dashen",
          "Dashen",
          "Dashen",
          "Dashen",
          "Dashen",
          "Dashen",
          "Dashen",
          "Dashen",
          "Dashen",
          "Dashen",
          "Dashen",
          "Dashen",
          "Dashen",
          "Dashen",
          "Dashen",
          "Dashen",
          "Dashen",
          "Dashen",
          "Dashen",
          "Dashen",
          "Dashen",
          "Dashen",
          "Dashen",
          "Dashen",
          "Dashen",
          "Dashen",
          "Dashen",
          "Dashen",
          "Dashen",
          "Dashen",
          "Dashen",
          "Dashen",
          "Dashen",
          "Dashen",
          "Dashen",
          "Dashen",
          "Dashen",
          "Dashen",
          "Dashen",
          "Dashen",
          "Dashen",
          "Dashen",
          "Dashen",
          "Dashen",
          "Dashen",
          "Dashen",
          "Dashen",
          "Dashen",
          "Dashen",
          "Dashen",
          "Dashen",
          "Dashen",
          "Dashen",
          "Dashen",
          "Dashen",
          "Dashen",
          "Dashen",
          "Dashen",
          "Dashen",
          "Dashen",
          "Dashen",
          "Dashen",
          "Dashen",
          "Dashen",
          "Dashen",
          "Dashen",
          "Dashen",
          "Dashen",
          "Dashen",
          "Dashen",
          "Dashen",
          "Dashen",
          "Dashen",
          "Dashen",
          "Dashen",
          "Dashen",
          "Dashen",
          "Dashen",
          "Dashen",
          "Dashen",
          "Dashen",
          "Dashen",
          "Dashen",
          "Dashen",
          "Dashen",
          "Dashen",
          "Dashen",
          "Dashen",
          "Dashen",
          "Dashen",
          "Dashen",
          "Dashen",
          "Dashen",
          "Dashen",
          "Dashen",
          "Dashen",
          "Dashen",
          "Dashen",
          "Dashen",
          "Dashen",
          "Dashen",
          "Dashen",
          "Dashen",
          "Dashen",
          "Dashen",
          "Dashen",
          "Dashen",
          "Dashen",
          "Dashen",
          "Dashen",
          "Dashen",
          "Dashen",
          "Dashen",
          "Dashen",
          "Dashen",
          "Dashen",
          "Dashen",
          "Dashen",
          "Dashen",
          "Dashen",
          "Dashen",
          "Dashen",
          "Dashen",
          "Dashen",
          "Dashen",
          "Dashen",
          "Dashen",
          "Dashen",
          "Dashen",
          "Dashen",
          "Dashen",
          "Dashen",
          "Dashen",
          "Dashen",
          "Dashen",
          "Dashen",
          "Dashen",
          "Dashen",
          "Dashen",
          "Dashen",
          "Dashen",
          "Dashen",
          "Dashen",
          "Dashen",
          "Dashen",
          "Dashen",
          "Dashen",
          "Dashen",
          "Dashen",
          "Dashen",
          "Dashen",
          "Dashen",
          "Dashen",
          "Dashen",
          "Dashen",
          "Dashen",
          "Dashen",
          "Dashen",
          "Dashen",
          "Dashen",
          "Dashen",
          "Dashen",
          "Dashen",
          "Dashen",
          "Dashen",
          "Dashen",
          "Dashen",
          "Dashen",
          "Dashen",
          "Dashen",
          "Dashen",
          "Dashen",
          "Dashen",
          "Dashen",
          "Dashen",
          "Dashen",
          "Dashen",
          "Dashen",
          "Dashen",
          "Dashen",
          "Dashen",
          "Dashen",
          "Dashen",
          "Dashen",
          "Dashen",
          "Dashen",
          "Dashen",
          "Dashen",
          "Dashen",
          "Dashen",
          "Dashen",
          "Dashen",
          "Dashen",
          "Dashen",
          "Dashen",
          "Dashen",
          "Dashen",
          "Dashen"
         ],
         "x0": " ",
         "xaxis": "x",
         "y": {
          "bdata": "BQUFBAUDBQEFAQIFBQUBBQQFAwECBQUFBQUFBQQFBQUFAQQFBQUEBQUFBQUBAQEFBQUCBQUFBQUFBQUFBQUFBQUFBQUFBQUFBQUFBQUFBQUFBQUFBQUFBQUFBQUFBQUFBQUFBQUFBQMFBQUFBQUFBQUFBQUFBQUFBQUFBAUFBQUFBQUFBQUFBQUFBQUFBQUFBQUFBQUFBQUFBQUFBQEFBQUFBQUFBQUFBQUFBQUFAQUFBQUCBQUFAQEBBQIDAgEBAwUCAQUCBQMDBQUFBQUBAQUBAQEFBQUBAQUEBQUCBQUFBAMFBQIFBQUCBQEBBQUEBQIEBQUDBAUFAQEFAQUFBQUFBQUDBQUCBQUFBQQFBQUEBQUFBQUFBQUFBQUFBAUFBQUBBQIFBQUFBQUFBQUFBQUFBQUFBQUF",
          "dtype": "i1"
         },
         "y0": " ",
         "yaxis": "y"
        }
       ],
       "layout": {
        "boxmode": "group",
        "legend": {
         "title": {
          "text": "bank"
         },
         "tracegroupgap": 0
        },
        "template": {
         "data": {
          "bar": [
           {
            "error_x": {
             "color": "#2a3f5f"
            },
            "error_y": {
             "color": "#2a3f5f"
            },
            "marker": {
             "line": {
              "color": "#E5ECF6",
              "width": 0.5
             },
             "pattern": {
              "fillmode": "overlay",
              "size": 10,
              "solidity": 0.2
             }
            },
            "type": "bar"
           }
          ],
          "barpolar": [
           {
            "marker": {
             "line": {
              "color": "#E5ECF6",
              "width": 0.5
             },
             "pattern": {
              "fillmode": "overlay",
              "size": 10,
              "solidity": 0.2
             }
            },
            "type": "barpolar"
           }
          ],
          "carpet": [
           {
            "aaxis": {
             "endlinecolor": "#2a3f5f",
             "gridcolor": "white",
             "linecolor": "white",
             "minorgridcolor": "white",
             "startlinecolor": "#2a3f5f"
            },
            "baxis": {
             "endlinecolor": "#2a3f5f",
             "gridcolor": "white",
             "linecolor": "white",
             "minorgridcolor": "white",
             "startlinecolor": "#2a3f5f"
            },
            "type": "carpet"
           }
          ],
          "choropleth": [
           {
            "colorbar": {
             "outlinewidth": 0,
             "ticks": ""
            },
            "type": "choropleth"
           }
          ],
          "contour": [
           {
            "colorbar": {
             "outlinewidth": 0,
             "ticks": ""
            },
            "colorscale": [
             [
              0,
              "#0d0887"
             ],
             [
              0.1111111111111111,
              "#46039f"
             ],
             [
              0.2222222222222222,
              "#7201a8"
             ],
             [
              0.3333333333333333,
              "#9c179e"
             ],
             [
              0.4444444444444444,
              "#bd3786"
             ],
             [
              0.5555555555555556,
              "#d8576b"
             ],
             [
              0.6666666666666666,
              "#ed7953"
             ],
             [
              0.7777777777777778,
              "#fb9f3a"
             ],
             [
              0.8888888888888888,
              "#fdca26"
             ],
             [
              1,
              "#f0f921"
             ]
            ],
            "type": "contour"
           }
          ],
          "contourcarpet": [
           {
            "colorbar": {
             "outlinewidth": 0,
             "ticks": ""
            },
            "type": "contourcarpet"
           }
          ],
          "heatmap": [
           {
            "colorbar": {
             "outlinewidth": 0,
             "ticks": ""
            },
            "colorscale": [
             [
              0,
              "#0d0887"
             ],
             [
              0.1111111111111111,
              "#46039f"
             ],
             [
              0.2222222222222222,
              "#7201a8"
             ],
             [
              0.3333333333333333,
              "#9c179e"
             ],
             [
              0.4444444444444444,
              "#bd3786"
             ],
             [
              0.5555555555555556,
              "#d8576b"
             ],
             [
              0.6666666666666666,
              "#ed7953"
             ],
             [
              0.7777777777777778,
              "#fb9f3a"
             ],
             [
              0.8888888888888888,
              "#fdca26"
             ],
             [
              1,
              "#f0f921"
             ]
            ],
            "type": "heatmap"
           }
          ],
          "histogram": [
           {
            "marker": {
             "pattern": {
              "fillmode": "overlay",
              "size": 10,
              "solidity": 0.2
             }
            },
            "type": "histogram"
           }
          ],
          "histogram2d": [
           {
            "colorbar": {
             "outlinewidth": 0,
             "ticks": ""
            },
            "colorscale": [
             [
              0,
              "#0d0887"
             ],
             [
              0.1111111111111111,
              "#46039f"
             ],
             [
              0.2222222222222222,
              "#7201a8"
             ],
             [
              0.3333333333333333,
              "#9c179e"
             ],
             [
              0.4444444444444444,
              "#bd3786"
             ],
             [
              0.5555555555555556,
              "#d8576b"
             ],
             [
              0.6666666666666666,
              "#ed7953"
             ],
             [
              0.7777777777777778,
              "#fb9f3a"
             ],
             [
              0.8888888888888888,
              "#fdca26"
             ],
             [
              1,
              "#f0f921"
             ]
            ],
            "type": "histogram2d"
           }
          ],
          "histogram2dcontour": [
           {
            "colorbar": {
             "outlinewidth": 0,
             "ticks": ""
            },
            "colorscale": [
             [
              0,
              "#0d0887"
             ],
             [
              0.1111111111111111,
              "#46039f"
             ],
             [
              0.2222222222222222,
              "#7201a8"
             ],
             [
              0.3333333333333333,
              "#9c179e"
             ],
             [
              0.4444444444444444,
              "#bd3786"
             ],
             [
              0.5555555555555556,
              "#d8576b"
             ],
             [
              0.6666666666666666,
              "#ed7953"
             ],
             [
              0.7777777777777778,
              "#fb9f3a"
             ],
             [
              0.8888888888888888,
              "#fdca26"
             ],
             [
              1,
              "#f0f921"
             ]
            ],
            "type": "histogram2dcontour"
           }
          ],
          "mesh3d": [
           {
            "colorbar": {
             "outlinewidth": 0,
             "ticks": ""
            },
            "type": "mesh3d"
           }
          ],
          "parcoords": [
           {
            "line": {
             "colorbar": {
              "outlinewidth": 0,
              "ticks": ""
             }
            },
            "type": "parcoords"
           }
          ],
          "pie": [
           {
            "automargin": true,
            "type": "pie"
           }
          ],
          "scatter": [
           {
            "fillpattern": {
             "fillmode": "overlay",
             "size": 10,
             "solidity": 0.2
            },
            "type": "scatter"
           }
          ],
          "scatter3d": [
           {
            "line": {
             "colorbar": {
              "outlinewidth": 0,
              "ticks": ""
             }
            },
            "marker": {
             "colorbar": {
              "outlinewidth": 0,
              "ticks": ""
             }
            },
            "type": "scatter3d"
           }
          ],
          "scattercarpet": [
           {
            "marker": {
             "colorbar": {
              "outlinewidth": 0,
              "ticks": ""
             }
            },
            "type": "scattercarpet"
           }
          ],
          "scattergeo": [
           {
            "marker": {
             "colorbar": {
              "outlinewidth": 0,
              "ticks": ""
             }
            },
            "type": "scattergeo"
           }
          ],
          "scattergl": [
           {
            "marker": {
             "colorbar": {
              "outlinewidth": 0,
              "ticks": ""
             }
            },
            "type": "scattergl"
           }
          ],
          "scattermap": [
           {
            "marker": {
             "colorbar": {
              "outlinewidth": 0,
              "ticks": ""
             }
            },
            "type": "scattermap"
           }
          ],
          "scattermapbox": [
           {
            "marker": {
             "colorbar": {
              "outlinewidth": 0,
              "ticks": ""
             }
            },
            "type": "scattermapbox"
           }
          ],
          "scatterpolar": [
           {
            "marker": {
             "colorbar": {
              "outlinewidth": 0,
              "ticks": ""
             }
            },
            "type": "scatterpolar"
           }
          ],
          "scatterpolargl": [
           {
            "marker": {
             "colorbar": {
              "outlinewidth": 0,
              "ticks": ""
             }
            },
            "type": "scatterpolargl"
           }
          ],
          "scatterternary": [
           {
            "marker": {
             "colorbar": {
              "outlinewidth": 0,
              "ticks": ""
             }
            },
            "type": "scatterternary"
           }
          ],
          "surface": [
           {
            "colorbar": {
             "outlinewidth": 0,
             "ticks": ""
            },
            "colorscale": [
             [
              0,
              "#0d0887"
             ],
             [
              0.1111111111111111,
              "#46039f"
             ],
             [
              0.2222222222222222,
              "#7201a8"
             ],
             [
              0.3333333333333333,
              "#9c179e"
             ],
             [
              0.4444444444444444,
              "#bd3786"
             ],
             [
              0.5555555555555556,
              "#d8576b"
             ],
             [
              0.6666666666666666,
              "#ed7953"
             ],
             [
              0.7777777777777778,
              "#fb9f3a"
             ],
             [
              0.8888888888888888,
              "#fdca26"
             ],
             [
              1,
              "#f0f921"
             ]
            ],
            "type": "surface"
           }
          ],
          "table": [
           {
            "cells": {
             "fill": {
              "color": "#EBF0F8"
             },
             "line": {
              "color": "white"
             }
            },
            "header": {
             "fill": {
              "color": "#C8D4E3"
             },
             "line": {
              "color": "white"
             }
            },
            "type": "table"
           }
          ]
         },
         "layout": {
          "annotationdefaults": {
           "arrowcolor": "#2a3f5f",
           "arrowhead": 0,
           "arrowwidth": 1
          },
          "autotypenumbers": "strict",
          "coloraxis": {
           "colorbar": {
            "outlinewidth": 0,
            "ticks": ""
           }
          },
          "colorscale": {
           "diverging": [
            [
             0,
             "#8e0152"
            ],
            [
             0.1,
             "#c51b7d"
            ],
            [
             0.2,
             "#de77ae"
            ],
            [
             0.3,
             "#f1b6da"
            ],
            [
             0.4,
             "#fde0ef"
            ],
            [
             0.5,
             "#f7f7f7"
            ],
            [
             0.6,
             "#e6f5d0"
            ],
            [
             0.7,
             "#b8e186"
            ],
            [
             0.8,
             "#7fbc41"
            ],
            [
             0.9,
             "#4d9221"
            ],
            [
             1,
             "#276419"
            ]
           ],
           "sequential": [
            [
             0,
             "#0d0887"
            ],
            [
             0.1111111111111111,
             "#46039f"
            ],
            [
             0.2222222222222222,
             "#7201a8"
            ],
            [
             0.3333333333333333,
             "#9c179e"
            ],
            [
             0.4444444444444444,
             "#bd3786"
            ],
            [
             0.5555555555555556,
             "#d8576b"
            ],
            [
             0.6666666666666666,
             "#ed7953"
            ],
            [
             0.7777777777777778,
             "#fb9f3a"
            ],
            [
             0.8888888888888888,
             "#fdca26"
            ],
            [
             1,
             "#f0f921"
            ]
           ],
           "sequentialminus": [
            [
             0,
             "#0d0887"
            ],
            [
             0.1111111111111111,
             "#46039f"
            ],
            [
             0.2222222222222222,
             "#7201a8"
            ],
            [
             0.3333333333333333,
             "#9c179e"
            ],
            [
             0.4444444444444444,
             "#bd3786"
            ],
            [
             0.5555555555555556,
             "#d8576b"
            ],
            [
             0.6666666666666666,
             "#ed7953"
            ],
            [
             0.7777777777777778,
             "#fb9f3a"
            ],
            [
             0.8888888888888888,
             "#fdca26"
            ],
            [
             1,
             "#f0f921"
            ]
           ]
          },
          "colorway": [
           "#636efa",
           "#EF553B",
           "#00cc96",
           "#ab63fa",
           "#FFA15A",
           "#19d3f3",
           "#FF6692",
           "#B6E880",
           "#FF97FF",
           "#FECB52"
          ],
          "font": {
           "color": "#2a3f5f"
          },
          "geo": {
           "bgcolor": "white",
           "lakecolor": "white",
           "landcolor": "#E5ECF6",
           "showlakes": true,
           "showland": true,
           "subunitcolor": "white"
          },
          "hoverlabel": {
           "align": "left"
          },
          "hovermode": "closest",
          "mapbox": {
           "style": "light"
          },
          "paper_bgcolor": "white",
          "plot_bgcolor": "#E5ECF6",
          "polar": {
           "angularaxis": {
            "gridcolor": "white",
            "linecolor": "white",
            "ticks": ""
           },
           "bgcolor": "#E5ECF6",
           "radialaxis": {
            "gridcolor": "white",
            "linecolor": "white",
            "ticks": ""
           }
          },
          "scene": {
           "xaxis": {
            "backgroundcolor": "#E5ECF6",
            "gridcolor": "white",
            "gridwidth": 2,
            "linecolor": "white",
            "showbackground": true,
            "ticks": "",
            "zerolinecolor": "white"
           },
           "yaxis": {
            "backgroundcolor": "#E5ECF6",
            "gridcolor": "white",
            "gridwidth": 2,
            "linecolor": "white",
            "showbackground": true,
            "ticks": "",
            "zerolinecolor": "white"
           },
           "zaxis": {
            "backgroundcolor": "#E5ECF6",
            "gridcolor": "white",
            "gridwidth": 2,
            "linecolor": "white",
            "showbackground": true,
            "ticks": "",
            "zerolinecolor": "white"
           }
          },
          "shapedefaults": {
           "line": {
            "color": "#2a3f5f"
           }
          },
          "ternary": {
           "aaxis": {
            "gridcolor": "white",
            "linecolor": "white",
            "ticks": ""
           },
           "baxis": {
            "gridcolor": "white",
            "linecolor": "white",
            "ticks": ""
           },
           "bgcolor": "#E5ECF6",
           "caxis": {
            "gridcolor": "white",
            "linecolor": "white",
            "ticks": ""
           }
          },
          "title": {
           "x": 0.05
          },
          "xaxis": {
           "automargin": true,
           "gridcolor": "white",
           "linecolor": "white",
           "ticks": "",
           "title": {
            "standoff": 15
           },
           "zerolinecolor": "white",
           "zerolinewidth": 2
          },
          "yaxis": {
           "automargin": true,
           "gridcolor": "white",
           "linecolor": "white",
           "ticks": "",
           "title": {
            "standoff": 15
           },
           "zerolinecolor": "white",
           "zerolinewidth": 2
          }
         }
        },
        "title": {
         "text": "Rating Distribution by Bank"
        },
        "xaxis": {
         "anchor": "y",
         "categoryarray": [
          "CBE",
          "BOA",
          "Dashen"
         ],
         "categoryorder": "array",
         "domain": [
          0,
          1
         ],
         "title": {
          "text": "Bank"
         }
        },
        "yaxis": {
         "anchor": "x",
         "domain": [
          0,
          1
         ],
         "title": {
          "text": "Rating"
         }
        }
       }
      }
     },
     "metadata": {},
     "output_type": "display_data"
    }
   ],
   "source": [
    "import plotly.express as px\n",
    "# Create a count column for each (bank, rating) combination\n",
    "df_counts = df.groupby(['bank', 'rating']).size().reset_index(name='count')\n",
    "# Merge back to main df so each row has its count\n",
    "df = pd.merge(df, df_counts, on=['bank', 'rating'], how='left')\n",
    "\n",
    "\n",
    "\n",
    "fig = px.box(\n",
    "    df,\n",
    "    x='bank',\n",
    "    y='rating',\n",
    "    color='bank',\n",
    "    points=\"all\",  # Show all points\n",
    "    title='Rating Distribution by Bank',\n",
    "    hover_data=['count']  # Add the count column to the hover\n",
    ")\n",
    "\n",
    "fig.update_traces(\n",
    "    hovertemplate=(\n",
    "        'Bank: %{x}<br>'\n",
    "        'Rating: %{y}<br>'\n",
    "        'Count of this rating: %{customdata[0]}'\n",
    "    )\n",
    ")\n",
    "\n",
    "fig.update_layout(\n",
    "    xaxis_title='Bank',\n",
    "    yaxis_title='Rating',\n",
    "    boxmode='group'\n",
    ")\n",
    "\n",
    "fig.show()\n",
    "\n",
    "\n"
   ]
  },
  {
   "cell_type": "code",
   "execution_count": 11,
   "id": "cac22054",
   "metadata": {},
   "outputs": [
    {
     "data": {
      "image/png": "[encoded data removed]",
      "text/plain": [
       "<Figure size 1000x400 with 1 Axes>"
      ]
     },
     "metadata": {},
     "output_type": "display_data"
    },
    {
     "data": {
      "image/png": "[encoded data removed]",
      "text/plain": [
       "<Figure size 1000x400 with 1 Axes>"
      ]
     },
     "metadata": {},
     "output_type": "display_data"
    },
    {
     "data": {
      "image/png": "[encoded data removed]",
      "text/plain": [
       "<Figure size 1000x400 with 1 Axes>"
      ]
     },
     "metadata": {},
     "output_type": "display_data"
    }
   ],
   "source": [
    "import matplotlib.pyplot as plt\n",
    "\n",
    "# Ensure date is datetime\n",
    "df['date'] = pd.to_datetime(df['date'], format=\"%Y-%m-%d\")\n",
    "\n",
    "# Create a weekly grouped DataFrame by bank and sentiment\n",
    "trend = df.groupby([pd.Grouper(key='date', freq='W'), 'bank', 'distilbert_sentiment']).size()\n",
    "trend = trend.unstack(['bank', 'distilbert_sentiment']).fillna(0)\n",
    "\n",
    "# Plot trend per bank\n",
    "banks = df['bank'].unique()\n",
    "for bank in banks:\n",
    "    plt.figure(figsize=(10,4))\n",
    "    for sentiment in df['distilbert_sentiment'].unique():\n",
    "        # Plot each sentiment for this bank\n",
    "        if (bank, sentiment) in trend.columns:\n",
    "            plt.plot(trend.index, trend[(bank, sentiment)], label=sentiment)\n",
    "    plt.title(f'Weekly Sentiment Trend: {bank}')\n",
    "    plt.xlabel('Week')\n",
    "    plt.ylabel('Number of Reviews')\n",
    "    plt.legend()\n",
    "    plt.xticks(rotation=45)\n",
    "    # Only show every 2nd or 4th date to prevent clutter (autofmt)\n",
    "    plt.gca().xaxis.set_major_locator(plt.MaxNLocator(8))\n",
    "    plt.tight_layout()\n",
    "    plt.show()\n"
   ]
  },
  {
   "cell_type": "code",
   "execution_count": 12,
   "id": "05830212",
   "metadata": {},
   "outputs": [
    {
     "data": {
      "image/png": "[encoded data removed]",
      "text/plain": [
       "<Figure size 1000x600 with 1 Axes>"
      ]
     },
     "metadata": {},
     "output_type": "display_data"
    }
   ],
   "source": [
    "import matplotlib.pyplot as plt\n",
    "\n",
    "# Calculate sentiment counts per bank\n",
    "sentiment_by_bank = df.groupby(['bank', 'distilbert_sentiment']).size().unstack().fillna(0)\n",
    "\n",
    "# Compute percentages per bank\n",
    "sentiment_percentages = sentiment_by_bank.div(sentiment_by_bank.sum(axis=1), axis=0) * 100\n",
    "\n",
    "# Plot percentage stacked bar chart\n",
    "ax = sentiment_percentages.plot(kind='bar', stacked=True, figsize=(10, 6))\n",
    "\n",
    "# Adding labels on each segment\n",
    "for container in ax.containers:\n",
    "    ax.bar_label(container, fmt='%.1f%%', label_type='center', fontsize=8, color='white')\n",
    "\n",
    "# Plot aesthetics\n",
    "plt.title('Sentiment Percentage Distribution by Bank')\n",
    "plt.ylabel('Percentage of Reviews (%)')\n",
    "plt.xlabel('Bank')\n",
    "plt.legend(title='distilbert_sentiment', bbox_to_anchor=(1.05, 1), loc='upper left')\n",
    "\n",
    "plt.tight_layout()\n",
    "plt.show()\n"
   ]
  }
 ],
 "metadata": {
  "kernelspec": {
   "display_name": "venv",
   "language": "python",
   "name": "python3"
  },
  "language_info": {
   "codemirror_mode": {
    "name": "ipython",
    "version": 3
   },
   "file_extension": ".py",
   "mimetype": "text/x-python",
   "name": "python",
   "nbconvert_exporter": "python",
   "pygments_lexer": "ipython3",
   "version": "3.13.2"
  }
 },
 "nbformat": 4,
 "nbformat_minor": 5
}
