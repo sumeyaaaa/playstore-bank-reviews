{
 "cells": [
  {
   "cell_type": "code",
   "execution_count": 13,
   "id": "e60fe694",
   "metadata": {},
   "outputs": [],
   "source": [
    "import sys\n",
    "import os\n",
    "\n",
    "\n",
    "\n",
    "# Go two levels up: from 'notebooks/task1/' to the project root\n",
    "sys.path.append(os.path.abspath(os.path.join( '..')))"
   ]
  },
  {
   "cell_type": "code",
   "execution_count": 14,
   "id": "807d8dab",
   "metadata": {},
   "outputs": [],
   "source": [
    "import pandas as pd\n",
    "df = pd.read_csv(r'C:\\Users\\ABC\\Desktop\\10Acadamy\\week 2\\playstore-bank-reviews\\data\\bank_reviews_all_clean.csv', encoding='utf-8') "
   ]
  },
  {
   "cell_type": "code",
   "execution_count": 15,
   "id": "b57c5e81",
   "metadata": {},
   "outputs": [
    {
     "name": "stdout",
     "output_type": "stream",
     "text": [
      "                                              review  rating        date bank  \\\n",
      "0  \"Why don’t your ATMs support account-to-accoun...       4  2025-06-06  CBE   \n",
      "1                        what is this app problem???       1  2025-06-05  CBE   \n",
      "2       the app is proactive and a good connections.       5  2025-06-05  CBE   \n",
      "3    I cannot send to cbebirr app. through this app.       3  2025-06-05  CBE   \n",
      "4                                     not functional       1  2025-06-05  CBE   \n",
      "\n",
      "  scrape_lang       source detected_language  \n",
      "0          en  Google Play                en  \n",
      "1          en  Google Play                en  \n",
      "2          en  Google Play                en  \n",
      "3          en  Google Play                en  \n",
      "4          en  Google Play                en  \n"
     ]
    }
   ],
   "source": [
    "print(df.head())"
   ]
  },
  {
   "cell_type": "code",
   "execution_count": 16,
   "id": "10cc587d",
   "metadata": {},
   "outputs": [],
   "source": [
    "from src.sentiment_analyzer import get_vader_sentiment\n",
    "\n",
    "df['vader_sentiment'] = df['review'].apply(get_vader_sentiment)"
   ]
  },
  {
   "cell_type": "code",
   "execution_count": null,
   "id": "c23ed576",
   "metadata": {},
   "outputs": [],
   "source": [
    "from src.sentiment_analyzer import get_textblob_sentiment\n",
    "\n",
    "\n",
    "df['textblob_sentiment'] = df['review'].apply(get_textblob_sentiment)"
   ]
  },
  {
   "cell_type": "code",
   "execution_count": 18,
   "id": "b0f86a71",
   "metadata": {},
   "outputs": [
    {
     "name": "stderr",
     "output_type": "stream",
     "text": [
      "Device set to use cpu\n"
     ]
    }
   ],
   "source": [
    "from src.sentiment_analyzer import add_sentiment_column\n",
    "df = add_sentiment_column(df)\n"
   ]
  },
  {
   "cell_type": "code",
   "execution_count": 19,
   "id": "65a5d5d5",
   "metadata": {},
   "outputs": [
    {
     "name": "stdout",
     "output_type": "stream",
     "text": [
      "                                              review vader_sentiment  \\\n",
      "0  \"Why don’t your ATMs support account-to-accoun...        POSITIVE   \n",
      "1                        what is this app problem???        NEGATIVE   \n",
      "2       the app is proactive and a good connections.        POSITIVE   \n",
      "3    I cannot send to cbebirr app. through this app.         NEUTRAL   \n",
      "4                                     not functional         NEUTRAL   \n",
      "5  everytime you uninstall the app you have to re...        POSITIVE   \n",
      "6  it was good app but it have some issues like i...        POSITIVE   \n",
      "7                                best app of finance        POSITIVE   \n",
      "8                                   it is not safety        NEGATIVE   \n",
      "9  it is like a childish app make it better the w...        NEGATIVE   \n",
      "\n",
      "  textblob_sentiment distilbert_sentiment  \n",
      "0           NEGATIVE             NEGATIVE  \n",
      "1            NEUTRAL             NEGATIVE  \n",
      "2           POSITIVE             POSITIVE  \n",
      "3            NEUTRAL             NEGATIVE  \n",
      "4            NEUTRAL             NEGATIVE  \n",
      "5           POSITIVE             NEGATIVE  \n",
      "6           POSITIVE             NEGATIVE  \n",
      "7           POSITIVE             POSITIVE  \n",
      "8            NEUTRAL             NEGATIVE  \n",
      "9           NEGATIVE             NEGATIVE  \n",
      "VADER vs DistilBERT agreement: 66.19%\n",
      "TextBlob vs DistilBERT agreement: 56.01%\n",
      "\n",
      "VADER sentiment counts:\n",
      " vader_sentiment\n",
      "POSITIVE    1639\n",
      "NEUTRAL      606\n",
      "NEGATIVE     594\n",
      "Name: count, dtype: int64\n",
      "\n",
      "TextBlob sentiment counts:\n",
      " textblob_sentiment\n",
      "POSITIVE    1594\n",
      "NEUTRAL      876\n",
      "NEGATIVE     369\n",
      "Name: count, dtype: int64\n",
      "\n",
      "DistilBERT sentiment counts:\n",
      " distilbert_sentiment\n",
      "POSITIVE    1497\n",
      "NEGATIVE    1342\n",
      "Name: count, dtype: int64\n"
     ]
    }
   ],
   "source": [
    "# Show some example comparisons\n",
    "print(df[['review', 'vader_sentiment', 'textblob_sentiment', 'distilbert_sentiment']].head(10))\n",
    "\n",
    "# Calculate agreements (where DistilBERT prediction exists)\n",
    "valid = df.dropna(subset=['distilbert_sentiment'])\n",
    "agreement_vader = (valid['vader_sentiment'] == valid['distilbert_sentiment']).mean()\n",
    "agreement_textblob = (valid['textblob_sentiment'] == valid['distilbert_sentiment']).mean()\n",
    "print(f\"VADER vs DistilBERT agreement: {agreement_vader:.2%}\")\n",
    "print(f\"TextBlob vs DistilBERT agreement: {agreement_textblob:.2%}\")\n",
    "\n",
    "# Optional: See sentiment counts\n",
    "print(\"\\nVADER sentiment counts:\\n\", df['vader_sentiment'].value_counts())\n",
    "print(\"\\nTextBlob sentiment counts:\\n\", df['textblob_sentiment'].value_counts())\n",
    "print(\"\\nDistilBERT sentiment counts:\\n\", df['distilbert_sentiment'].value_counts())"
   ]
  },
  {
   "cell_type": "code",
   "execution_count": 20,
   "id": "eddecc9b",
   "metadata": {},
   "outputs": [
    {
     "name": "stdout",
     "output_type": "stream",
     "text": [
      "VADER vs DistilBERT agreement: 66.19%\n",
      "TextBlob vs DistilBERT agreement: 56.01%\n",
      "VADER vs TextBlob agreement: 72.74%\n"
     ]
    }
   ],
   "source": [
    "# Keep only rows where all three predictions exist\n",
    "comp_df = df.dropna(subset=['vader_sentiment', 'textblob_sentiment', 'distilbert_sentiment'])\n",
    "\n",
    "# VADER vs DistilBERT\n",
    "agree_vader_distil = (comp_df['vader_sentiment'] == comp_df['distilbert_sentiment']).mean()\n",
    "print(f\"VADER vs DistilBERT agreement: {agree_vader_distil:.2%}\")\n",
    "\n",
    "# TextBlob vs DistilBERT\n",
    "agree_textblob_distil = (comp_df['textblob_sentiment'] == comp_df['distilbert_sentiment']).mean()\n",
    "print(f\"TextBlob vs DistilBERT agreement: {agree_textblob_distil:.2%}\")\n",
    "\n",
    "# VADER vs TextBlob\n",
    "agree_vader_textblob = (comp_df['vader_sentiment'] == comp_df['textblob_sentiment']).mean()\n",
    "print(f\"VADER vs TextBlob agreement: {agree_vader_textblob:.2%}\")"
   ]
  },
  {
   "cell_type": "code",
   "execution_count": 21,
   "id": "77ac0607",
   "metadata": {},
   "outputs": [
    {
     "name": "stdout",
     "output_type": "stream",
     "text": [
      "VADER sentiment counts:\n",
      " vader_sentiment\n",
      "POSITIVE    1639\n",
      "NEUTRAL      606\n",
      "NEGATIVE     594\n",
      "Name: count, dtype: int64\n",
      "\n",
      "TextBlob sentiment counts:\n",
      " textblob_sentiment\n",
      "POSITIVE    1594\n",
      "NEUTRAL      876\n",
      "NEGATIVE     369\n",
      "Name: count, dtype: int64\n",
      "\n",
      "DistilBERT sentiment counts:\n",
      " distilbert_sentiment\n",
      "POSITIVE    1497\n",
      "NEGATIVE    1342\n",
      "Name: count, dtype: int64\n"
     ]
    }
   ],
   "source": [
    "print(\"VADER sentiment counts:\\n\", df['vader_sentiment'].value_counts())\n",
    "print(\"\\nTextBlob sentiment counts:\\n\", df['textblob_sentiment'].value_counts())\n",
    "print(\"\\nDistilBERT sentiment counts:\\n\", df['distilbert_sentiment'].value_counts())\n"
   ]
  },
  {
   "cell_type": "code",
   "execution_count": 22,
   "id": "61bb3bbc",
   "metadata": {},
   "outputs": [
    {
     "name": "stdout",
     "output_type": "stream",
     "text": [
      "                                               review vader_sentiment  \\\n",
      "0   \"Why don’t your ATMs support account-to-accoun...        POSITIVE   \n",
      "3     I cannot send to cbebirr app. through this app.         NEUTRAL   \n",
      "4                                      not functional         NEUTRAL   \n",
      "5   everytime you uninstall the app you have to re...        POSITIVE   \n",
      "6   it was good app but it have some issues like i...        POSITIVE   \n",
      "12  this app has developed in a very good ways but...        POSITIVE   \n",
      "16                                  Keep it up My CBE         NEUTRAL   \n",
      "21                                 thankyou every one         NEUTRAL   \n",
      "24                                       mortuary app         NEUTRAL   \n",
      "25  it is smart app but it has stoped after some p...        POSITIVE   \n",
      "\n",
      "   distilbert_sentiment  \n",
      "0              NEGATIVE  \n",
      "3              NEGATIVE  \n",
      "4              NEGATIVE  \n",
      "5              NEGATIVE  \n",
      "6              NEGATIVE  \n",
      "12             NEGATIVE  \n",
      "16             POSITIVE  \n",
      "21             POSITIVE  \n",
      "24             NEGATIVE  \n",
      "25             NEGATIVE  \n",
      "                                                review vader_sentiment  \\\n",
      "34          very busy I don't know why... I prefer 889         NEUTRAL   \n",
      "39   sync problem may 22 2025 but the date stack on...        POSITIVE   \n",
      "51   i can't make Screenshout in this app, please m...        POSITIVE   \n",
      "72   why the app telling me to turn of developer op...        POSITIVE   \n",
      "94   worest app like that bank for security and net...        POSITIVE   \n",
      "102                                 I need support you        POSITIVE   \n",
      "122  because sometimes it doesn't working it load t...         NEUTRAL   \n",
      "129  In the updated version of the app, it takes mo...         NEUTRAL   \n",
      "169  very good, but sometimes NUR CBE comes without...         NEUTRAL   \n",
      "176  Dear cbe this app is not comparable with 21cen...        POSITIVE   \n",
      "\n",
      "    textblob_sentiment distilbert_sentiment  \n",
      "34            POSITIVE             NEGATIVE  \n",
      "39             NEUTRAL             NEGATIVE  \n",
      "51             NEUTRAL             NEGATIVE  \n",
      "72             NEUTRAL             NEGATIVE  \n",
      "94             NEUTRAL             NEGATIVE  \n",
      "102            NEUTRAL             NEGATIVE  \n",
      "122           POSITIVE             NEGATIVE  \n",
      "129           POSITIVE             NEGATIVE  \n",
      "169           POSITIVE             NEGATIVE  \n",
      "176            NEUTRAL             NEGATIVE  \n"
     ]
    }
   ],
   "source": [
    "# Reviews where VADER and DistilBERT disagree\n",
    "disagree_vader_distil = comp_df[comp_df['vader_sentiment'] != comp_df['distilbert_sentiment']]\n",
    "print(disagree_vader_distil[['review', 'vader_sentiment', 'distilbert_sentiment']].head(10))\n",
    "\n",
    "# Reviews where all three disagree\n",
    "triple_disagree = comp_df[\n",
    "    (comp_df['vader_sentiment'] != comp_df['textblob_sentiment']) &\n",
    "    (comp_df['vader_sentiment'] != comp_df['distilbert_sentiment']) &\n",
    "    (comp_df['textblob_sentiment'] != comp_df['distilbert_sentiment'])\n",
    "]\n",
    "print(triple_disagree[['review', 'vader_sentiment', 'textblob_sentiment', 'distilbert_sentiment']].head(10))"
   ]
  },
  {
   "cell_type": "code",
   "execution_count": 23,
   "id": "53eeb481",
   "metadata": {},
   "outputs": [
    {
     "data": {
      "text/plain": [
       "<Figure size 1000x400 with 0 Axes>"
      ]
     },
     "metadata": {},
     "output_type": "display_data"
    },
    {
     "data": {
      "image/png": "[encoded data removed]",
      "text/plain": [
       "<Figure size 640x480 with 1 Axes>"
      ]
     },
     "metadata": {},
     "output_type": "display_data"
    }
   ],
   "source": [
    "import matplotlib.pyplot as plt\n",
    "\n",
    "plt.figure(figsize=(10,4))\n",
    "df[['vader_sentiment', 'textblob_sentiment', 'distilbert_sentiment']].melt().value_counts().unstack().T.plot(kind='bar')\n",
    "plt.ylabel('Number of Reviews')\n",
    "plt.title('Sentiment Distribution Across Models')\n",
    "plt.show()"
   ]
  },
  {
   "cell_type": "code",
   "execution_count": 24,
   "id": "0598f272",
   "metadata": {},
   "outputs": [],
   "source": [
    "df.to_csv(r'C:\\Users\\ABC\\Desktop\\10Acadamy\\week 2\\playstore-bank-reviews\\data\\reviews_sentiment_comparison.csv', index=False, encoding='utf-8')\n"
   ]
  }
 ],
 "metadata": {
  "kernelspec": {
   "display_name": "venv",
   "language": "python",
   "name": "python3"
  },
  "language_info": {
   "codemirror_mode": {
    "name": "ipython",
    "version": 3
   },
   "file_extension": ".py",
   "mimetype": "text/x-python",
   "name": "python",
   "nbconvert_exporter": "python",
   "pygments_lexer": "ipython3",
   "version": "3.13.2"
  }
 },
 "nbformat": 4,
 "nbformat_minor": 5
}
